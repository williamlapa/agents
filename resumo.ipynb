{
 "cells": [
  {
   "cell_type": "code",
   "execution_count": null,
   "id": "c9d7571b",
   "metadata": {},
   "outputs": [],
   "source": [
    "import openai"
   ]
  },
  {
   "cell_type": "code",
   "execution_count": 4,
   "id": "b76731f9",
   "metadata": {},
   "outputs": [],
   "source": [
    "def simular_pesquisa_web(query):\n",
    "    \"\"\"\n",
    "    Simula uma busca na web e retorna conteúdo relevante com base na query.\n",
    "    Em um cenário real, esta função faria uma requisição a uma API de busca.\n",
    "    \"\"\"\n",
    "    print(f\"\\n[Ferramenta: Simular Pesquisa Web] Buscando por: '{query}'...\")\n",
    "    if \"inteligencia artificial\" in query.lower():\n",
    "        return (\"A Inteligência Artificial (IA) é um campo vasto da ciência da computação que busca criar máquinas capazes de raciocinar, aprender e agir de forma autônoma. \"\n",
    "                \"Recentemente, modelos de linguagem grandes (LLMs) como GPT-4 e GPT-3.5-turbo revolucionaram a capacidade de IA em processamento de linguagem natural e geração de texto.\")\n",
    "    elif \"energia solar no brasil\" in query.lower():\n",
    "        return (\"A energia solar no Brasil tem crescido exponencialmente, impulsionada por incentivos governamentais e pela abundância de irradiação solar. \"\n",
    "                \"Em 2024, a capacidade instalada de energia solar fotovoltaica ultrapassou marcos importantes, tornando-se uma das principais fontes da matriz energética do país.\")\n",
    "    else:\n",
    "        return \"Nenhum resultado relevante encontrado para esta query na nossa simulação.\""
   ]
  },
  {
   "cell_type": "code",
   "execution_count": 5,
   "id": "3b32cb40",
   "metadata": {},
   "outputs": [],
   "source": [
    "\n",
    "\n",
    "def agente_pesquisador_e_sumarizador(topico_de_interesse):\n",
    "    print(f\"[Agente Principal] Tarefa recebida: Pesquisar e resumir sobre '{topico_de_interesse}'.\")\n",
    "\n",
    "    # Passo 1: O Agente decide usar a 'ferramenta_simular_pesquisa_web'\n",
    "    print(\"[Agente Principal] Usando a ferramenta 'simular_pesquisa_web' para coletar dados...\")\n",
    "    informacao_coletada = simular_pesquisa_web(topico_de_interesse)\n",
    "\n",
    "    if \"Nenhum resultado\" in informacao_coletada:\n",
    "        print(\"[Agente Principal] Não foi possível coletar informações relevantes. Encerrando.\")\n",
    "        return \"Não foi possível gerar um resumo.\"\n",
    "\n",
    "    print(f\"\\n[Agente Principal] Informação coletada (trecho): '{informacao_coletada[:150]}...'\")\n",
    "\n",
    "    # Passo 2: O Agente usa o LLM (OpenAI) para realizar a sumarização.\n",
    "    # Aqui, o próprio modelo da OpenAI atua como uma capacidade de raciocínio e processamento do agente.\n",
    "    print(\"[Agente Principal] Processando informação coletada para gerar um resumo conciso com OpenAI...\")\n",
    "    try:\n",
    "        response = openai.chat.completions.create(\n",
    "            model=\"gpt-4o-mini\", # Ou \"gpt-4o\" para melhor desempenho\n",
    "            messages=[\n",
    "                {\"role\": \"system\", \"content\": \"Você é um assistente útil focado em resumir textos de forma clara e concisa.\"},\n",
    "                {\"role\": \"user\", \"content\": f\"Por favor, resuma o seguinte texto em 2-3 frases:\\n\\n{informacao_coletada}\"}\n",
    "            ],\n",
    "            temperature=0.7,\n",
    "            max_tokens=200\n",
    "        )\n",
    "        resumo_final = response.choices[0].message.content.strip()\n",
    "        print(f\"\\n[Agente Principal] Resumo gerado: '{resumo_final}'\")\n",
    "        return resumo_final\n",
    "\n",
    "    except openai.APIError as e:\n",
    "        print(f\"[Agente Principal] Erro ao comunicar com a API da OpenAI: {e}\")\n",
    "        return \"Ocorreu um erro ao gerar o resumo.\""
   ]
  },
  {
   "cell_type": "code",
   "execution_count": 6,
   "id": "f2602143",
   "metadata": {},
   "outputs": [
    {
     "name": "stdout",
     "output_type": "stream",
     "text": [
      "--- INÍCIO DO PROCESSO DE GERAÇÃO DE INFORMAÇÕES ---\n",
      "[Agente Principal] Tarefa recebida: Pesquisar e resumir sobre 'inteligencia artificial'.\n",
      "[Agente Principal] Usando a ferramenta 'simular_pesquisa_web' para coletar dados...\n",
      "\n",
      "[Ferramenta: Simular Pesquisa Web] Buscando por: 'inteligencia artificial'...\n",
      "\n",
      "[Agente Principal] Informação coletada (trecho): 'A Inteligência Artificial (IA) é um campo vasto da ciência da computação que busca criar máquinas capazes de raciocinar, aprender e agir de forma autô...'\n",
      "[Agente Principal] Processando informação coletada para gerar um resumo conciso com OpenAI...\n",
      "\n",
      "[Agente Principal] Resumo gerado: 'A Inteligência Artificial (IA) é um ramo da ciência da computação que visa desenvolver máquinas que raciocinam, aprendem e agem de forma independente. Modelos de linguagem grandes, como GPT-4 e GPT-3.5-turbo, têm transformado o processamento de linguagem natural e a geração de texto na IA.'\n",
      "\n",
      "---------------------------------------------------\n",
      "**CONCEITUAL HANDOFF:** O resumo de 'inteligencia artificial' agora está pronto para ser utilizado por outro sistema ou exibido ao usuário.\n",
      "Resumo Final Disponível: A Inteligência Artificial (IA) é um ramo da ciência da computação que visa desenvolver máquinas que raciocinam, aprendem e agem de forma independente. Modelos de linguagem grandes, como GPT-4 e GPT-3.5-turbo, têm transformado o processamento de linguagem natural e a geração de texto na IA.\n",
      "---------------------------------------------------\n",
      "\n",
      "[Agente Principal] Tarefa recebida: Pesquisar e resumir sobre 'energia solar no brasil'.\n",
      "[Agente Principal] Usando a ferramenta 'simular_pesquisa_web' para coletar dados...\n",
      "\n",
      "[Ferramenta: Simular Pesquisa Web] Buscando por: 'energia solar no brasil'...\n",
      "\n",
      "[Agente Principal] Informação coletada (trecho): 'A energia solar no Brasil tem crescido exponencialmente, impulsionada por incentivos governamentais e pela abundância de irradiação solar. Em 2024, a ...'\n",
      "[Agente Principal] Processando informação coletada para gerar um resumo conciso com OpenAI...\n",
      "\n",
      "[Agente Principal] Resumo gerado: 'A energia solar no Brasil tem experimentado um crescimento acelerado devido a incentivos governamentais e à alta irradiação solar. Em 2024, a capacidade instalada de energia solar fotovoltaica alcançou marcos significativos, consolidando-se como uma das principais fontes da matriz energética do país.'\n",
      "\n",
      "---------------------------------------------------\n",
      "**CONCEITUAL HANDOFF:** O resumo de 'energia solar no brasil' agora está pronto para ser utilizado por outro sistema ou exibido ao usuário.\n",
      "Resumo Final Disponível: A energia solar no Brasil tem experimentado um crescimento acelerado devido a incentivos governamentais e à alta irradiação solar. Em 2024, a capacidade instalada de energia solar fotovoltaica alcançou marcos significativos, consolidando-se como uma das principais fontes da matriz energética do país.\n",
      "---------------------------------------------------\n",
      "\n",
      "--- PROCESSO CONCLUÍDO ---\n"
     ]
    }
   ],
   "source": [
    "## Exemplo de handoffs\n",
    "\n",
    "# --- Simulação do Fluxo Completo com Handoff ---\n",
    "\n",
    "print(\"--- INÍCIO DO PROCESSO DE GERAÇÃO DE INFORMAÇÕES ---\")\n",
    "\n",
    "# Cenário 1: Pesquisar e Sumarizar sobre Inteligência Artificial\n",
    "topico1 = \"inteligencia artificial\"\n",
    "resumo_ia = agente_pesquisador_e_sumarizador(topico1)\n",
    "\n",
    "print(\"\\n---------------------------------------------------\")\n",
    "print(f\"**CONCEITUAL HANDOFF:** O resumo de '{topico1}' agora está pronto para ser utilizado por outro sistema ou exibido ao usuário.\")\n",
    "print(f\"Resumo Final Disponível: {resumo_ia}\")\n",
    "print(\"---------------------------------------------------\\n\")\n",
    "\n",
    "# Cenário 2: Pesquisar e Sumarizar sobre Energia Solar no Brasil\n",
    "topico2 = \"energia solar no brasil\"\n",
    "resumo_energia = agente_pesquisador_e_sumarizador(topico2)\n",
    "\n",
    "print(\"\\n---------------------------------------------------\")\n",
    "print(f\"**CONCEITUAL HANDOFF:** O resumo de '{topico2}' agora está pronto para ser utilizado por outro sistema ou exibido ao usuário.\")\n",
    "print(f\"Resumo Final Disponível: {resumo_energia}\")\n",
    "print(\"---------------------------------------------------\\n\")\n",
    "\n",
    "print(\"--- PROCESSO CONCLUÍDO ---\")"
   ]
  }
 ],
 "metadata": {
  "kernelspec": {
   "display_name": "agents",
   "language": "python",
   "name": "python3"
  },
  "language_info": {
   "codemirror_mode": {
    "name": "ipython",
    "version": 3
   },
   "file_extension": ".py",
   "mimetype": "text/x-python",
   "name": "python",
   "nbconvert_exporter": "python",
   "pygments_lexer": "ipython3",
   "version": "3.12.11"
  }
 },
 "nbformat": 4,
 "nbformat_minor": 5
}
