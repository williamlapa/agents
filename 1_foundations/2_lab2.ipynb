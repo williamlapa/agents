{
 "cells": [
  {
   "cell_type": "markdown",
   "metadata": {},
   "source": [
    "## Welcome to the Second Lab - Week 1, Day 3\n",
    "\n",
    "Today we will work with lots of models! This is a way to get comfortable with APIs."
   ]
  },
  {
   "cell_type": "markdown",
   "metadata": {},
   "source": [
    "<table style=\"margin: 0; text-align: left; width:100%\">\n",
    "    <tr>\n",
    "        <td style=\"width: 150px; height: 150px; vertical-align: middle;\">\n",
    "            <img src=\"../assets/stop.png\" width=\"150\" height=\"150\" style=\"display: block;\" />\n",
    "        </td>\n",
    "        <td>\n",
    "            <h2 style=\"color:#ff7800;\">Important point - please read</h2>\n",
    "            <span style=\"color:#ff7800;\">The way I collaborate with you may be different to other courses you've taken. I prefer not to type code while you watch. Rather, I execute Jupyter Labs, like this, and give you an intuition for what's going on. My suggestion is that you carefully execute this yourself, <b>after</b> watching the lecture. Add print statements to understand what's going on, and then come up with your own variations.<br/><br/>If you have time, I'd love it if you submit a PR for changes in the community_contributions folder - instructions in the resources. Also, if you have a Github account, use this to showcase your variations. Not only is this essential practice, but it demonstrates your skills to others, including perhaps future clients or employers...\n",
    "            </span>\n",
    "        </td>\n",
    "    </tr>\n",
    "</table>"
   ]
  },
  {
   "cell_type": "code",
   "execution_count": 1,
   "metadata": {},
   "outputs": [],
   "source": [
    "# Start with imports - ask ChatGPT to explain any package that you don't know\n",
    "\n",
    "import os\n",
    "import json\n",
    "from dotenv import load_dotenv\n",
    "from openai import OpenAI\n",
    "from anthropic import Anthropic\n",
    "from IPython.display import Markdown, display"
   ]
  },
  {
   "cell_type": "code",
   "execution_count": 2,
   "metadata": {},
   "outputs": [
    {
     "data": {
      "text/plain": [
       "True"
      ]
     },
     "execution_count": 2,
     "metadata": {},
     "output_type": "execute_result"
    }
   ],
   "source": [
    "# Always remember to do this!\n",
    "load_dotenv(override=True)"
   ]
  },
  {
   "cell_type": "code",
   "execution_count": 3,
   "metadata": {},
   "outputs": [
    {
     "name": "stdout",
     "output_type": "stream",
     "text": [
      "OpenAI API Key exists and begins sk-proj-\n",
      "Anthropic API Key not set (and this is optional)\n",
      "Google API Key exists and begins AI\n",
      "DeepSeek API Key exists and begins AQU\n",
      "Groq API Key exists and begins gsk_\n"
     ]
    }
   ],
   "source": [
    "# Print the key prefixes to help with any debugging\n",
    "\n",
    "openai_api_key = os.getenv('OPENAI_API_KEY')\n",
    "anthropic_api_key = os.getenv('ANTHROPIC_API_KEY')\n",
    "google_api_key = os.getenv('GOOGLE_API_KEY')\n",
    "deepseek_api_key = os.getenv('DEEPSEEK_API_KEY')\n",
    "groq_api_key = os.getenv('GROQ_API_KEY')\n",
    "\n",
    "if openai_api_key:\n",
    "    print(f\"OpenAI API Key exists and begins {openai_api_key[:8]}\")\n",
    "else:\n",
    "    print(\"OpenAI API Key not set\")\n",
    "    \n",
    "if anthropic_api_key:\n",
    "    print(f\"Anthropic API Key exists and begins {anthropic_api_key[:7]}\")\n",
    "else:\n",
    "    print(\"Anthropic API Key not set (and this is optional)\")\n",
    "\n",
    "if google_api_key:\n",
    "    print(f\"Google API Key exists and begins {google_api_key[:2]}\")\n",
    "else:\n",
    "    print(\"Google API Key not set (and this is optional)\")\n",
    "\n",
    "if deepseek_api_key:\n",
    "    print(f\"DeepSeek API Key exists and begins {deepseek_api_key[:3]}\")\n",
    "else:\n",
    "    print(\"DeepSeek API Key not set (and this is optional)\")\n",
    "\n",
    "if groq_api_key:\n",
    "    print(f\"Groq API Key exists and begins {groq_api_key[:4]}\")\n",
    "else:\n",
    "    print(\"Groq API Key not set (and this is optional)\")"
   ]
  },
  {
   "cell_type": "code",
   "execution_count": 4,
   "metadata": {},
   "outputs": [],
   "source": [
    "request = \"Please come up with a challenging, nuanced question that I can ask a number of LLMs to evaluate their intelligence. \"\n",
    "request += \"Answer only with the question, no explanation.\"\n",
    "messages = [{\"role\": \"user\", \"content\": request}]"
   ]
  },
  {
   "cell_type": "code",
   "execution_count": 5,
   "metadata": {},
   "outputs": [
    {
     "data": {
      "text/plain": [
       "[{'role': 'user',\n",
       "  'content': 'Please come up with a challenging, nuanced question that I can ask a number of LLMs to evaluate their intelligence. Answer only with the question, no explanation.'}]"
      ]
     },
     "execution_count": 5,
     "metadata": {},
     "output_type": "execute_result"
    }
   ],
   "source": [
    "messages"
   ]
  },
  {
   "cell_type": "code",
   "execution_count": 21,
   "metadata": {},
   "outputs": [
    {
     "name": "stdout",
     "output_type": "stream",
     "text": [
      "One significant historical event I would consider altering is the assassination of Archduke Franz Ferdinand of Austria in 1914. This event is widely recognized as the spark that ignited World War I, a conflict that led to immense loss of life, the devastation of Europe, and significant political and social upheaval.\n",
      "\n",
      "If Franz Ferdinand had not been assassinated, it's possible that the tensions between major European powers could have been resolved through diplomacy rather than warfare. The Austro-Hungarian Empire may have pursued different policies that prevented the escalation into a full-blown war, leading to a more stable balance of power in Europe.\n",
      "\n",
      "As a result, we might have seen a more gradual progression towards political reform and modernization in various countries, potentially avoiding the rise of extremism in the interwar period. The absence of World War I would likely mean no Treaty of Versailles, which imposed heavy reparations on Germany and contributed to the economic hardship that facilitated the rise of the Nazi Party and World War II. \n",
      "\n",
      "In this alternate scenario, the world could have avoided the catastrophic consequences of the two world wars, possibly leading to a different balance of power, with a more peaceful and stable 20th century. Economic development might have been less interrupted, and the Cold War era could have unfolded differently, with less ideological conflict.\n",
      "\n",
      "Overall, the world today could be marked by fewer borders drawn through conflict, different geopolitical alliances, and potentially a slower but more peaceful evolution of global politics and international relations. The ripple effects on culture, technology, and society could have created a vastly different modernity, perhaps with an emphasis on collaboration rather than competition among nations.\n"
     ]
    }
   ],
   "source": [
    "openai = OpenAI()\n",
    "response = openai.chat.completions.create(\n",
    "    model=\"gpt-4o-mini\",\n",
    "    messages=messages,\n",
    ")\n",
    "question = response.choices[0].message.content\n",
    "print(question)\n"
   ]
  },
  {
   "cell_type": "code",
   "execution_count": 7,
   "metadata": {},
   "outputs": [],
   "source": [
    "competitors = []\n",
    "answers = []\n",
    "messages = [{\"role\": \"user\", \"content\": question}]"
   ]
  },
  {
   "cell_type": "code",
   "execution_count": 8,
   "metadata": {},
   "outputs": [
    {
     "data": {
      "text/markdown": [
       "If I could alter one historical event without negative repercussions, I would choose to prevent the assassination of Archduke Franz Ferdinand of Austria in 1914. This event is widely considered a catalyst for World War I, which led to significant loss of life, political upheaval, and the eventual rise of totalitarian regimes in Europe, including World War II.\n",
       "\n",
       "If the assassination had not occurred, it is possible that the tensions among European powers could have been resolved through diplomacy rather than escalating into a massive conflict. Without the war, the subsequent social and political changes that radically altered the course of the 20th century may not have taken place. For example, the Russian Revolution, which unleashed the Soviet Union, may not have occurred or might have taken a different form, potentially preventing the Cold War.\n",
       "\n",
       "The absence of World War I could mean a more stable Europe, with the preservation of empires, potentially leading to more gradual decolonization rather than the upheaval seen post-war. The global political landscape today might resemble a more collaborative Europe, diminishing the rise of fascism and extremism.\n",
       "\n",
       "In this altered timeline, advancements in civil rights, science, and technology could have occurred at an accelerated pace, leading to a more interconnected and peaceful world, possibly mitigating many 20th-century conflicts. Overall, the world might today reflect a more stable international order, with fewer divisions and conflicts arising from the legacy of a devastating war."
      ],
      "text/plain": [
       "<IPython.core.display.Markdown object>"
      ]
     },
     "metadata": {},
     "output_type": "display_data"
    }
   ],
   "source": [
    "# The API we know well\n",
    "\n",
    "model_name = \"gpt-4o-mini\"\n",
    "\n",
    "response = openai.chat.completions.create(model=model_name, messages=messages)\n",
    "answer = response.choices[0].message.content\n",
    "\n",
    "display(Markdown(answer))\n",
    "competitors.append(model_name)\n",
    "answers.append(answer)"
   ]
  },
  {
   "cell_type": "code",
   "execution_count": 9,
   "metadata": {},
   "outputs": [],
   "source": [
    "# Anthropic has a slightly different API, and Max Tokens is required\n",
    "\n",
    "# model_name = \"claude-3-7-sonnet-latest\"\n",
    "\n",
    "# claude = Anthropic()\n",
    "# response = claude.messages.create(model=model_name, messages=messages, max_tokens=1000)\n",
    "# answer = response.content[0].text\n",
    "\n",
    "# display(Markdown(answer))\n",
    "# competitors.append(model_name)\n",
    "# answers.append(answer)"
   ]
  },
  {
   "cell_type": "code",
   "execution_count": 10,
   "metadata": {},
   "outputs": [
    {
     "data": {
      "text/markdown": [
       "This is a fun and thought-provoking question! It's tough to guarantee no negative repercussions, but I'll aim for the most positive outcome with minimal plausible downsides.\n",
       "\n",
       "I would choose to **prevent the assassination of Archduke Franz Ferdinand in Sarajevo in 1914.**\n",
       "\n",
       "Here's why:\n",
       "\n",
       "*   **Preventing World War I:** The assassination triggered a chain reaction of alliances, declarations of war, and ultimately, World War I. This war devastated Europe, led to the collapse of empires, and created conditions ripe for future conflicts.\n",
       "*   **Less Suffering and Death:** World War I resulted in an estimated 15-22 million deaths and tens of millions more wounded or displaced. Preventing the war would have spared countless lives and prevented unimaginable suffering.\n",
       "*   **No Rise of Radical Ideologies:** The war and its aftermath created fertile ground for extremist ideologies like fascism and Nazism. The economic hardship, political instability, and social unrest following the war fueled resentment and provided opportunities for these movements to gain power. Without WWI, it's highly unlikely that Hitler and the Nazi party would have risen to power in Germany.\n",
       "*   **Different Global Power Dynamics:** The United States rose to prominence after World War I, filling the power vacuum left by weakened European empires. Without the war, European powers might have retained more influence on the world stage for longer.\n",
       "*   **Potentially Improved Colonial Relations:** While colonialism was already problematic, the war further exacerbated tensions between colonizers and colonized populations. Without the war, there might have been a slower, more gradual transition away from colonialism, potentially with fewer violent conflicts.\n",
       "\n",
       "**How the world might be different:**\n",
       "\n",
       "*   **No World War II:** Without World War I, there would be no Treaty of Versailles, no widespread economic depression in Germany, and therefore no rise of Nazism.\n",
       "*   **Different European Union:** The European Union was, in part, a response to the devastation of two world wars, aiming to promote cooperation and prevent future conflicts. Without these wars, the EU may not exist in its current form, or may have developed along a different path.\n",
       "*   **Different Technological Development:** War is a powerful driver of technological innovation, particularly in weaponry. Without the two world wars, technological development might have followed a different trajectory, potentially focusing more on peaceful applications.\n",
       "*   **Potentially More Stable Middle East:** The collapse of the Ottoman Empire after World War I led to the creation of many artificial nation-states in the Middle East, often with little regard for existing ethnic and religious boundaries. This created long-lasting instability. Without the war, the Ottoman Empire might have gradually reformed or fragmented in a more organic way, potentially leading to a more stable and less conflict-ridden region.\n",
       "\n",
       "**Why I think this alteration has minimal negative repercussions:**\n",
       "\n",
       "While any major change in history will have unforeseen consequences, preventing a devastating war like World War I is likely to have a predominantly positive impact. The potential for less suffering, greater stability, and a different political landscape outweighs the potential drawbacks. It is, however, essential to acknowledge that progress is not linear, and other challenges and conflicts would inevitably arise. However, their context would be dramatically different, and potentially less catastrophic.\n",
       "\n",
       "It's a thought experiment, of course, but preventing the assassination of Franz Ferdinand is, in my opinion, the most impactful and potentially beneficial change I could make to history.\n"
      ],
      "text/plain": [
       "<IPython.core.display.Markdown object>"
      ]
     },
     "metadata": {},
     "output_type": "display_data"
    }
   ],
   "source": [
    "gemini = OpenAI(api_key=google_api_key, base_url=\"https://generativelanguage.googleapis.com/v1beta/openai/\")\n",
    "model_name = \"gemini-2.0-flash\"\n",
    "\n",
    "response = gemini.chat.completions.create(model=model_name, messages=messages)\n",
    "answer = response.choices[0].message.content\n",
    "\n",
    "display(Markdown(answer))\n",
    "competitors.append(model_name)\n",
    "answers.append(answer)"
   ]
  },
  {
   "cell_type": "code",
   "execution_count": 11,
   "metadata": {},
   "outputs": [],
   "source": [
    "# deepseek = OpenAI(api_key=deepseek_api_key, base_url=\"https://api.deepseek.com/v1\")\n",
    "# model_name = \"deepseek-chat\"\n",
    "\n",
    "# response = deepseek.chat.completions.create(model=model_name, messages=messages)\n",
    "# answer = response.choices[0].message.content\n",
    "\n",
    "# display(Markdown(answer))\n",
    "# competitors.append(model_name)\n",
    "# answers.append(answer)"
   ]
  },
  {
   "cell_type": "code",
   "execution_count": 12,
   "metadata": {},
   "outputs": [
    {
     "data": {
      "text/markdown": [
       "If I could alter one historical event without any negative repercussions, I would choose to change the assassination of Archduke Franz Ferdinand of Austria in 1914. This event is widely regarded as the trigger that set off World War I, one of the deadliest conflicts in human history.\n",
       "\n",
       "On June 28, 1914, Gavrilo Princip, a Serbian nationalist, assassinated Archduke Franz Ferdinand and his wife in Sarajevo, Bosnia. This event led to a chain reaction of diplomatic crises and military mobilizations that eventually resulted in the outbreak of World War I.\n",
       "\n",
       "If I could alter this event, I would prevent the assassination from occurring. Here's how I believe the world would be different today as a result:\n",
       "\n",
       "1. **No World War I**: The most immediate consequence of preventing the assassination would be the avoidance of World War I. This would have meant that millions of lives would have been saved, and the widespread destruction and devastation caused by the war would have been averted.\n",
       "2. **No Russian Revolution**: The Russian Revolution, which occurred in 1917, was partly a consequence of Russia's involvement in World War I. Without the war, it's possible that the revolution might not have occurred, or at least would have been delayed. This would have meant that the Soviet Union might not have come into existence, or would have been significantly weaker.\n",
       "3. **No World War II**: Many historians believe that World War II was a direct consequence of the Treaty of Versailles, which was imposed on Germany after World War I. The treaty's harsh terms and reparations led to widespread resentment and economic hardship in Germany, creating a fertile ground for the rise of Nazi ideology. Without World War I, it's possible that World War II might not have occurred, or would have been significantly less devastating.\n",
       "4. **Alternative Global Order**: The absence of World War I and II would have meant that the global order would be significantly different today. The United States might not have emerged as a superpower, and the United Nations might not have been established. The world might have been more multipolar, with Europe, China, and other regions playing more significant roles in global affairs.\n",
       "5. **Different International Relations**: The absence of two devastating world wars would have meant that international relations would be more cooperative and less focused on security and defense. Global institutions, such as the League of Nations, might have been more effective in preventing conflicts, and international law might have developed differently.\n",
       "6. **Alternative Economic Trajectory**: The 20th century was marked by significant economic upheaval, including the Great Depression and the rise of socialist and communist economies. Without the wars, the global economy might have developed more smoothly, with less inequality and more cooperation between nations.\n",
       "7. **Different Cultural and Social Landscape**: The wars of the 20th century had a profound impact on culture and society, leading to significant social and cultural changes, including the rise of feminism, the civil rights movement, and the counterculture movement. Without these wars, the cultural and social landscape of the world might be significantly different today.\n",
       "\n",
       "In conclusion, preventing the assassination of Archduke Franz Ferdinand would have had far-reaching consequences for the world. It would have avoided two devastating world wars, changed the course of international relations, and altered the global economic and cultural landscape. The world would likely be more peaceful, more cooperative, and more multipolar, with alternative global institutions, economic systems, and cultural and social norms."
      ],
      "text/plain": [
       "<IPython.core.display.Markdown object>"
      ]
     },
     "metadata": {},
     "output_type": "display_data"
    }
   ],
   "source": [
    "groq = OpenAI(api_key=groq_api_key, base_url=\"https://api.groq.com/openai/v1\")\n",
    "model_name = \"llama-3.3-70b-versatile\"\n",
    "\n",
    "response = groq.chat.completions.create(model=model_name, messages=messages)\n",
    "answer = response.choices[0].message.content\n",
    "\n",
    "display(Markdown(answer))\n",
    "competitors.append(model_name)\n",
    "answers.append(answer)\n"
   ]
  },
  {
   "cell_type": "markdown",
   "metadata": {},
   "source": [
    "## For the next cell, we will use Ollama\n",
    "\n",
    "Ollama runs a local web service that gives an OpenAI compatible endpoint,  \n",
    "and runs models locally using high performance C++ code.\n",
    "\n",
    "If you don't have Ollama, install it here by visiting https://ollama.com then pressing Download and following the instructions.\n",
    "\n",
    "After it's installed, you should be able to visit here: http://localhost:11434 and see the message \"Ollama is running\"\n",
    "\n",
    "You might need to restart Cursor (and maybe reboot). Then open a Terminal (control+\\`) and run `ollama serve`\n",
    "\n",
    "Useful Ollama commands (run these in the terminal, or with an exclamation mark in this notebook):\n",
    "\n",
    "`ollama pull <model_name>` downloads a model locally  \n",
    "`ollama ls` lists all the models you've downloaded  \n",
    "`ollama rm <model_name>` deletes the specified model from your downloads"
   ]
  },
  {
   "cell_type": "markdown",
   "metadata": {},
   "source": [
    "<table style=\"margin: 0; text-align: left; width:100%\">\n",
    "    <tr>\n",
    "        <td style=\"width: 150px; height: 150px; vertical-align: middle;\">\n",
    "            <img src=\"../assets/stop.png\" width=\"150\" height=\"150\" style=\"display: block;\" />\n",
    "        </td>\n",
    "        <td>\n",
    "            <h2 style=\"color:#ff7800;\">Super important - ignore me at your peril!</h2>\n",
    "            <span style=\"color:#ff7800;\">The model called <b>llama3.3</b> is FAR too large for home computers - it's not intended for personal computing and will consume all your resources! Stick with the nicely sized <b>llama3.2</b> or <b>llama3.2:1b</b> and if you want larger, try llama3.1 or smaller variants of Qwen, Gemma, Phi or DeepSeek. See the <A href=\"https://ollama.com/models\">the Ollama models page</a> for a full list of models and sizes.\n",
    "            </span>\n",
    "        </td>\n",
    "    </tr>\n",
    "</table>"
   ]
  },
  {
   "cell_type": "code",
   "execution_count": 13,
   "metadata": {},
   "outputs": [],
   "source": [
    "#!ollama pull llama3.2\n",
    "#!ollama run gemma3:1b"
   ]
  },
  {
   "cell_type": "code",
   "execution_count": 16,
   "metadata": {},
   "outputs": [
    {
     "data": {
      "text/markdown": [
       "This is a fantastic, and incredibly difficult, question! If I could alter one historical event with no negative repercussions, I would choose to **ensure the successful ratification of the Treaty of Versailles in 1919.** \n",
       "\n",
       "Let me explain my reasoning and how I believe the world would be different:\n",
       "\n",
       "**The Event:** The Treaty of Versailles, signed after World War I, was deeply flawed. It imposed crippling reparations on Germany, redrew borders in a way that fueled resentment, and ultimately created the conditions for the rise of extremism and Nazi ideology.  My alteration isn't about completely erasing the Treaty, but rather ensuring that a more equitable and forward-looking version was adopted. \n",
       "\n",
       "**How it Would Be Altered:** Specifically, I'd have ensured that key Allied powers, particularly the United States, were truly committed to a long-term, collaborative approach to rebuilding Europe, rather than simply focusing on punishing Germany. This would have involved a greater emphasis on economic recovery, reconciliation, and a truly representative German government. \n",
       "\n",
       "**How the World Would Be Different Today:**\n",
       "\n",
       "* **No World War II:** Without the deep economic hardship and national humiliation inflicted upon Germany, the seeds of resentment that fueled the Nazi party would never have taken root. Hitler, and his extremist ideology, would likely have remained a relatively minor political figure. The invasion of Poland, the catalyst for WWII, would never have happened.\n",
       "* **A Different Cold War:** The Soviet Union would likely have remained a more localized, less ideologically driven power. Without the geopolitical turmoil of WWII, the rise of the United States as a global superpower might have been slower and less dominant. \n",
       "* **A More Integrated Europe:** The impetus for European integration – initially born out of the devastation of World War II – would have emerged organically from a more stable and prosperous Europe. The European Union, as we know it, might have developed much more gradually and perhaps with a less contentious focus on defense and identity.\n",
       "* **Technological Development:** The intense competition driven by WWII spurred significant technological advancements. Without that urgent need, innovations *might* have been slower to develop in certain areas (like radar and jet propulsion), but fundamentally, humanity would have benefitted from a slower, more considered approach to progress.\n",
       "* **Social and Political Landscape:** The post-WWII social movements—civil rights, the anti-war movement—developed in response to the shared trauma of the conflict. Without that shared experience, their development would have taken a vastly different path.\n",
       "\n",
       "\n",
       "**Important Note:**  This is, of course, a simplification. History is incredibly complex, and even a single changed event would have cascading, unpredictable effects. However, I believe that removing the core issues that stemmed from the Treaty of Versailles – the resentment and instability it created – would have dramatically altered the trajectory of the 20th and 21st centuries for the better. \n",
       "\n",
       "---\n",
       "\n",
       "Would you like to consider this question from a different perspective, perhaps focusing on a specific region or aspect of the world?"
      ],
      "text/plain": [
       "<IPython.core.display.Markdown object>"
      ]
     },
     "metadata": {},
     "output_type": "display_data"
    }
   ],
   "source": [
    "ollama = OpenAI(base_url='http://localhost:11434/v1', api_key='ollama')\n",
    "#model_name = \"llama3.2\"\n",
    "model_name = \"gemma3:4b\"\n",
    "\n",
    "response = ollama.chat.completions.create(model=model_name, messages=messages)\n",
    "answer = response.choices[0].message.content\n",
    "\n",
    "display(Markdown(answer))\n",
    "competitors.append(model_name)\n",
    "answers.append(answer)"
   ]
  },
  {
   "cell_type": "code",
   "execution_count": 22,
   "metadata": {},
   "outputs": [
    {
     "name": "stdout",
     "output_type": "stream",
     "text": [
      "['gpt-4o-mini', 'gemini-2.0-flash', 'llama-3.3-70b-versatile', 'gemma3:4b']\n",
      "['If I could alter one historical event without negative repercussions, I would choose to prevent the assassination of Archduke Franz Ferdinand of Austria in 1914. This event is widely considered a catalyst for World War I, which led to significant loss of life, political upheaval, and the eventual rise of totalitarian regimes in Europe, including World War II.\\n\\nIf the assassination had not occurred, it is possible that the tensions among European powers could have been resolved through diplomacy rather than escalating into a massive conflict. Without the war, the subsequent social and political changes that radically altered the course of the 20th century may not have taken place. For example, the Russian Revolution, which unleashed the Soviet Union, may not have occurred or might have taken a different form, potentially preventing the Cold War.\\n\\nThe absence of World War I could mean a more stable Europe, with the preservation of empires, potentially leading to more gradual decolonization rather than the upheaval seen post-war. The global political landscape today might resemble a more collaborative Europe, diminishing the rise of fascism and extremism.\\n\\nIn this altered timeline, advancements in civil rights, science, and technology could have occurred at an accelerated pace, leading to a more interconnected and peaceful world, possibly mitigating many 20th-century conflicts. Overall, the world might today reflect a more stable international order, with fewer divisions and conflicts arising from the legacy of a devastating war.', \"This is a fun and thought-provoking question! It's tough to guarantee no negative repercussions, but I'll aim for the most positive outcome with minimal plausible downsides.\\n\\nI would choose to **prevent the assassination of Archduke Franz Ferdinand in Sarajevo in 1914.**\\n\\nHere's why:\\n\\n*   **Preventing World War I:** The assassination triggered a chain reaction of alliances, declarations of war, and ultimately, World War I. This war devastated Europe, led to the collapse of empires, and created conditions ripe for future conflicts.\\n*   **Less Suffering and Death:** World War I resulted in an estimated 15-22 million deaths and tens of millions more wounded or displaced. Preventing the war would have spared countless lives and prevented unimaginable suffering.\\n*   **No Rise of Radical Ideologies:** The war and its aftermath created fertile ground for extremist ideologies like fascism and Nazism. The economic hardship, political instability, and social unrest following the war fueled resentment and provided opportunities for these movements to gain power. Without WWI, it's highly unlikely that Hitler and the Nazi party would have risen to power in Germany.\\n*   **Different Global Power Dynamics:** The United States rose to prominence after World War I, filling the power vacuum left by weakened European empires. Without the war, European powers might have retained more influence on the world stage for longer.\\n*   **Potentially Improved Colonial Relations:** While colonialism was already problematic, the war further exacerbated tensions between colonizers and colonized populations. Without the war, there might have been a slower, more gradual transition away from colonialism, potentially with fewer violent conflicts.\\n\\n**How the world might be different:**\\n\\n*   **No World War II:** Without World War I, there would be no Treaty of Versailles, no widespread economic depression in Germany, and therefore no rise of Nazism.\\n*   **Different European Union:** The European Union was, in part, a response to the devastation of two world wars, aiming to promote cooperation and prevent future conflicts. Without these wars, the EU may not exist in its current form, or may have developed along a different path.\\n*   **Different Technological Development:** War is a powerful driver of technological innovation, particularly in weaponry. Without the two world wars, technological development might have followed a different trajectory, potentially focusing more on peaceful applications.\\n*   **Potentially More Stable Middle East:** The collapse of the Ottoman Empire after World War I led to the creation of many artificial nation-states in the Middle East, often with little regard for existing ethnic and religious boundaries. This created long-lasting instability. Without the war, the Ottoman Empire might have gradually reformed or fragmented in a more organic way, potentially leading to a more stable and less conflict-ridden region.\\n\\n**Why I think this alteration has minimal negative repercussions:**\\n\\nWhile any major change in history will have unforeseen consequences, preventing a devastating war like World War I is likely to have a predominantly positive impact. The potential for less suffering, greater stability, and a different political landscape outweighs the potential drawbacks. It is, however, essential to acknowledge that progress is not linear, and other challenges and conflicts would inevitably arise. However, their context would be dramatically different, and potentially less catastrophic.\\n\\nIt's a thought experiment, of course, but preventing the assassination of Franz Ferdinand is, in my opinion, the most impactful and potentially beneficial change I could make to history.\\n\", \"If I could alter one historical event without any negative repercussions, I would choose to change the assassination of Archduke Franz Ferdinand of Austria in 1914. This event is widely regarded as the trigger that set off World War I, one of the deadliest conflicts in human history.\\n\\nOn June 28, 1914, Gavrilo Princip, a Serbian nationalist, assassinated Archduke Franz Ferdinand and his wife in Sarajevo, Bosnia. This event led to a chain reaction of diplomatic crises and military mobilizations that eventually resulted in the outbreak of World War I.\\n\\nIf I could alter this event, I would prevent the assassination from occurring. Here's how I believe the world would be different today as a result:\\n\\n1. **No World War I**: The most immediate consequence of preventing the assassination would be the avoidance of World War I. This would have meant that millions of lives would have been saved, and the widespread destruction and devastation caused by the war would have been averted.\\n2. **No Russian Revolution**: The Russian Revolution, which occurred in 1917, was partly a consequence of Russia's involvement in World War I. Without the war, it's possible that the revolution might not have occurred, or at least would have been delayed. This would have meant that the Soviet Union might not have come into existence, or would have been significantly weaker.\\n3. **No World War II**: Many historians believe that World War II was a direct consequence of the Treaty of Versailles, which was imposed on Germany after World War I. The treaty's harsh terms and reparations led to widespread resentment and economic hardship in Germany, creating a fertile ground for the rise of Nazi ideology. Without World War I, it's possible that World War II might not have occurred, or would have been significantly less devastating.\\n4. **Alternative Global Order**: The absence of World War I and II would have meant that the global order would be significantly different today. The United States might not have emerged as a superpower, and the United Nations might not have been established. The world might have been more multipolar, with Europe, China, and other regions playing more significant roles in global affairs.\\n5. **Different International Relations**: The absence of two devastating world wars would have meant that international relations would be more cooperative and less focused on security and defense. Global institutions, such as the League of Nations, might have been more effective in preventing conflicts, and international law might have developed differently.\\n6. **Alternative Economic Trajectory**: The 20th century was marked by significant economic upheaval, including the Great Depression and the rise of socialist and communist economies. Without the wars, the global economy might have developed more smoothly, with less inequality and more cooperation between nations.\\n7. **Different Cultural and Social Landscape**: The wars of the 20th century had a profound impact on culture and society, leading to significant social and cultural changes, including the rise of feminism, the civil rights movement, and the counterculture movement. Without these wars, the cultural and social landscape of the world might be significantly different today.\\n\\nIn conclusion, preventing the assassination of Archduke Franz Ferdinand would have had far-reaching consequences for the world. It would have avoided two devastating world wars, changed the course of international relations, and altered the global economic and cultural landscape. The world would likely be more peaceful, more cooperative, and more multipolar, with alternative global institutions, economic systems, and cultural and social norms.\", \"This is a fantastic, and incredibly difficult, question! If I could alter one historical event with no negative repercussions, I would choose to **ensure the successful ratification of the Treaty of Versailles in 1919.** \\n\\nLet me explain my reasoning and how I believe the world would be different:\\n\\n**The Event:** The Treaty of Versailles, signed after World War I, was deeply flawed. It imposed crippling reparations on Germany, redrew borders in a way that fueled resentment, and ultimately created the conditions for the rise of extremism and Nazi ideology.  My alteration isn't about completely erasing the Treaty, but rather ensuring that a more equitable and forward-looking version was adopted. \\n\\n**How it Would Be Altered:** Specifically, I'd have ensured that key Allied powers, particularly the United States, were truly committed to a long-term, collaborative approach to rebuilding Europe, rather than simply focusing on punishing Germany. This would have involved a greater emphasis on economic recovery, reconciliation, and a truly representative German government. \\n\\n**How the World Would Be Different Today:**\\n\\n* **No World War II:** Without the deep economic hardship and national humiliation inflicted upon Germany, the seeds of resentment that fueled the Nazi party would never have taken root. Hitler, and his extremist ideology, would likely have remained a relatively minor political figure. The invasion of Poland, the catalyst for WWII, would never have happened.\\n* **A Different Cold War:** The Soviet Union would likely have remained a more localized, less ideologically driven power. Without the geopolitical turmoil of WWII, the rise of the United States as a global superpower might have been slower and less dominant. \\n* **A More Integrated Europe:** The impetus for European integration – initially born out of the devastation of World War II – would have emerged organically from a more stable and prosperous Europe. The European Union, as we know it, might have developed much more gradually and perhaps with a less contentious focus on defense and identity.\\n* **Technological Development:** The intense competition driven by WWII spurred significant technological advancements. Without that urgent need, innovations *might* have been slower to develop in certain areas (like radar and jet propulsion), but fundamentally, humanity would have benefitted from a slower, more considered approach to progress.\\n* **Social and Political Landscape:** The post-WWII social movements—civil rights, the anti-war movement—developed in response to the shared trauma of the conflict. Without that shared experience, their development would have taken a vastly different path.\\n\\n\\n**Important Note:**  This is, of course, a simplification. History is incredibly complex, and even a single changed event would have cascading, unpredictable effects. However, I believe that removing the core issues that stemmed from the Treaty of Versailles – the resentment and instability it created – would have dramatically altered the trajectory of the 20th and 21st centuries for the better. \\n\\n---\\n\\nWould you like to consider this question from a different perspective, perhaps focusing on a specific region or aspect of the world?\"]\n"
     ]
    }
   ],
   "source": [
    "# So where are we?\n",
    "\n",
    "print(competitors)\n",
    "print(answers)\n"
   ]
  },
  {
   "cell_type": "code",
   "execution_count": 23,
   "metadata": {},
   "outputs": [
    {
     "name": "stdout",
     "output_type": "stream",
     "text": [
      "Competitor: gpt-4o-mini\n",
      "\n",
      "If I could alter one historical event without negative repercussions, I would choose to prevent the assassination of Archduke Franz Ferdinand of Austria in 1914. This event is widely considered a catalyst for World War I, which led to significant loss of life, political upheaval, and the eventual rise of totalitarian regimes in Europe, including World War II.\n",
      "\n",
      "If the assassination had not occurred, it is possible that the tensions among European powers could have been resolved through diplomacy rather than escalating into a massive conflict. Without the war, the subsequent social and political changes that radically altered the course of the 20th century may not have taken place. For example, the Russian Revolution, which unleashed the Soviet Union, may not have occurred or might have taken a different form, potentially preventing the Cold War.\n",
      "\n",
      "The absence of World War I could mean a more stable Europe, with the preservation of empires, potentially leading to more gradual decolonization rather than the upheaval seen post-war. The global political landscape today might resemble a more collaborative Europe, diminishing the rise of fascism and extremism.\n",
      "\n",
      "In this altered timeline, advancements in civil rights, science, and technology could have occurred at an accelerated pace, leading to a more interconnected and peaceful world, possibly mitigating many 20th-century conflicts. Overall, the world might today reflect a more stable international order, with fewer divisions and conflicts arising from the legacy of a devastating war.\n",
      "Competitor: gemini-2.0-flash\n",
      "\n",
      "This is a fun and thought-provoking question! It's tough to guarantee no negative repercussions, but I'll aim for the most positive outcome with minimal plausible downsides.\n",
      "\n",
      "I would choose to **prevent the assassination of Archduke Franz Ferdinand in Sarajevo in 1914.**\n",
      "\n",
      "Here's why:\n",
      "\n",
      "*   **Preventing World War I:** The assassination triggered a chain reaction of alliances, declarations of war, and ultimately, World War I. This war devastated Europe, led to the collapse of empires, and created conditions ripe for future conflicts.\n",
      "*   **Less Suffering and Death:** World War I resulted in an estimated 15-22 million deaths and tens of millions more wounded or displaced. Preventing the war would have spared countless lives and prevented unimaginable suffering.\n",
      "*   **No Rise of Radical Ideologies:** The war and its aftermath created fertile ground for extremist ideologies like fascism and Nazism. The economic hardship, political instability, and social unrest following the war fueled resentment and provided opportunities for these movements to gain power. Without WWI, it's highly unlikely that Hitler and the Nazi party would have risen to power in Germany.\n",
      "*   **Different Global Power Dynamics:** The United States rose to prominence after World War I, filling the power vacuum left by weakened European empires. Without the war, European powers might have retained more influence on the world stage for longer.\n",
      "*   **Potentially Improved Colonial Relations:** While colonialism was already problematic, the war further exacerbated tensions between colonizers and colonized populations. Without the war, there might have been a slower, more gradual transition away from colonialism, potentially with fewer violent conflicts.\n",
      "\n",
      "**How the world might be different:**\n",
      "\n",
      "*   **No World War II:** Without World War I, there would be no Treaty of Versailles, no widespread economic depression in Germany, and therefore no rise of Nazism.\n",
      "*   **Different European Union:** The European Union was, in part, a response to the devastation of two world wars, aiming to promote cooperation and prevent future conflicts. Without these wars, the EU may not exist in its current form, or may have developed along a different path.\n",
      "*   **Different Technological Development:** War is a powerful driver of technological innovation, particularly in weaponry. Without the two world wars, technological development might have followed a different trajectory, potentially focusing more on peaceful applications.\n",
      "*   **Potentially More Stable Middle East:** The collapse of the Ottoman Empire after World War I led to the creation of many artificial nation-states in the Middle East, often with little regard for existing ethnic and religious boundaries. This created long-lasting instability. Without the war, the Ottoman Empire might have gradually reformed or fragmented in a more organic way, potentially leading to a more stable and less conflict-ridden region.\n",
      "\n",
      "**Why I think this alteration has minimal negative repercussions:**\n",
      "\n",
      "While any major change in history will have unforeseen consequences, preventing a devastating war like World War I is likely to have a predominantly positive impact. The potential for less suffering, greater stability, and a different political landscape outweighs the potential drawbacks. It is, however, essential to acknowledge that progress is not linear, and other challenges and conflicts would inevitably arise. However, their context would be dramatically different, and potentially less catastrophic.\n",
      "\n",
      "It's a thought experiment, of course, but preventing the assassination of Franz Ferdinand is, in my opinion, the most impactful and potentially beneficial change I could make to history.\n",
      "\n",
      "Competitor: llama-3.3-70b-versatile\n",
      "\n",
      "If I could alter one historical event without any negative repercussions, I would choose to change the assassination of Archduke Franz Ferdinand of Austria in 1914. This event is widely regarded as the trigger that set off World War I, one of the deadliest conflicts in human history.\n",
      "\n",
      "On June 28, 1914, Gavrilo Princip, a Serbian nationalist, assassinated Archduke Franz Ferdinand and his wife in Sarajevo, Bosnia. This event led to a chain reaction of diplomatic crises and military mobilizations that eventually resulted in the outbreak of World War I.\n",
      "\n",
      "If I could alter this event, I would prevent the assassination from occurring. Here's how I believe the world would be different today as a result:\n",
      "\n",
      "1. **No World War I**: The most immediate consequence of preventing the assassination would be the avoidance of World War I. This would have meant that millions of lives would have been saved, and the widespread destruction and devastation caused by the war would have been averted.\n",
      "2. **No Russian Revolution**: The Russian Revolution, which occurred in 1917, was partly a consequence of Russia's involvement in World War I. Without the war, it's possible that the revolution might not have occurred, or at least would have been delayed. This would have meant that the Soviet Union might not have come into existence, or would have been significantly weaker.\n",
      "3. **No World War II**: Many historians believe that World War II was a direct consequence of the Treaty of Versailles, which was imposed on Germany after World War I. The treaty's harsh terms and reparations led to widespread resentment and economic hardship in Germany, creating a fertile ground for the rise of Nazi ideology. Without World War I, it's possible that World War II might not have occurred, or would have been significantly less devastating.\n",
      "4. **Alternative Global Order**: The absence of World War I and II would have meant that the global order would be significantly different today. The United States might not have emerged as a superpower, and the United Nations might not have been established. The world might have been more multipolar, with Europe, China, and other regions playing more significant roles in global affairs.\n",
      "5. **Different International Relations**: The absence of two devastating world wars would have meant that international relations would be more cooperative and less focused on security and defense. Global institutions, such as the League of Nations, might have been more effective in preventing conflicts, and international law might have developed differently.\n",
      "6. **Alternative Economic Trajectory**: The 20th century was marked by significant economic upheaval, including the Great Depression and the rise of socialist and communist economies. Without the wars, the global economy might have developed more smoothly, with less inequality and more cooperation between nations.\n",
      "7. **Different Cultural and Social Landscape**: The wars of the 20th century had a profound impact on culture and society, leading to significant social and cultural changes, including the rise of feminism, the civil rights movement, and the counterculture movement. Without these wars, the cultural and social landscape of the world might be significantly different today.\n",
      "\n",
      "In conclusion, preventing the assassination of Archduke Franz Ferdinand would have had far-reaching consequences for the world. It would have avoided two devastating world wars, changed the course of international relations, and altered the global economic and cultural landscape. The world would likely be more peaceful, more cooperative, and more multipolar, with alternative global institutions, economic systems, and cultural and social norms.\n",
      "Competitor: gemma3:4b\n",
      "\n",
      "This is a fantastic, and incredibly difficult, question! If I could alter one historical event with no negative repercussions, I would choose to **ensure the successful ratification of the Treaty of Versailles in 1919.** \n",
      "\n",
      "Let me explain my reasoning and how I believe the world would be different:\n",
      "\n",
      "**The Event:** The Treaty of Versailles, signed after World War I, was deeply flawed. It imposed crippling reparations on Germany, redrew borders in a way that fueled resentment, and ultimately created the conditions for the rise of extremism and Nazi ideology.  My alteration isn't about completely erasing the Treaty, but rather ensuring that a more equitable and forward-looking version was adopted. \n",
      "\n",
      "**How it Would Be Altered:** Specifically, I'd have ensured that key Allied powers, particularly the United States, were truly committed to a long-term, collaborative approach to rebuilding Europe, rather than simply focusing on punishing Germany. This would have involved a greater emphasis on economic recovery, reconciliation, and a truly representative German government. \n",
      "\n",
      "**How the World Would Be Different Today:**\n",
      "\n",
      "* **No World War II:** Without the deep economic hardship and national humiliation inflicted upon Germany, the seeds of resentment that fueled the Nazi party would never have taken root. Hitler, and his extremist ideology, would likely have remained a relatively minor political figure. The invasion of Poland, the catalyst for WWII, would never have happened.\n",
      "* **A Different Cold War:** The Soviet Union would likely have remained a more localized, less ideologically driven power. Without the geopolitical turmoil of WWII, the rise of the United States as a global superpower might have been slower and less dominant. \n",
      "* **A More Integrated Europe:** The impetus for European integration – initially born out of the devastation of World War II – would have emerged organically from a more stable and prosperous Europe. The European Union, as we know it, might have developed much more gradually and perhaps with a less contentious focus on defense and identity.\n",
      "* **Technological Development:** The intense competition driven by WWII spurred significant technological advancements. Without that urgent need, innovations *might* have been slower to develop in certain areas (like radar and jet propulsion), but fundamentally, humanity would have benefitted from a slower, more considered approach to progress.\n",
      "* **Social and Political Landscape:** The post-WWII social movements—civil rights, the anti-war movement—developed in response to the shared trauma of the conflict. Without that shared experience, their development would have taken a vastly different path.\n",
      "\n",
      "\n",
      "**Important Note:**  This is, of course, a simplification. History is incredibly complex, and even a single changed event would have cascading, unpredictable effects. However, I believe that removing the core issues that stemmed from the Treaty of Versailles – the resentment and instability it created – would have dramatically altered the trajectory of the 20th and 21st centuries for the better. \n",
      "\n",
      "---\n",
      "\n",
      "Would you like to consider this question from a different perspective, perhaps focusing on a specific region or aspect of the world?\n"
     ]
    }
   ],
   "source": [
    "# It's nice to know how to use \"zip\"\n",
    "for competitor, answer in zip(competitors, answers):\n",
    "    print(f\"Competitor: {competitor}\\n\\n{answer}\")\n"
   ]
  },
  {
   "cell_type": "code",
   "execution_count": 24,
   "metadata": {},
   "outputs": [],
   "source": [
    "# Let's bring this together - note the use of \"enumerate\"\n",
    "\n",
    "together = \"\"\n",
    "for index, answer in enumerate(answers):\n",
    "    together += f\"# Response from competitor {index+1}\\n\\n\"\n",
    "    together += answer + \"\\n\\n\""
   ]
  },
  {
   "cell_type": "code",
   "execution_count": 25,
   "metadata": {},
   "outputs": [
    {
     "name": "stdout",
     "output_type": "stream",
     "text": [
      "# Response from competitor 1\n",
      "\n",
      "If I could alter one historical event without negative repercussions, I would choose to prevent the assassination of Archduke Franz Ferdinand of Austria in 1914. This event is widely considered a catalyst for World War I, which led to significant loss of life, political upheaval, and the eventual rise of totalitarian regimes in Europe, including World War II.\n",
      "\n",
      "If the assassination had not occurred, it is possible that the tensions among European powers could have been resolved through diplomacy rather than escalating into a massive conflict. Without the war, the subsequent social and political changes that radically altered the course of the 20th century may not have taken place. For example, the Russian Revolution, which unleashed the Soviet Union, may not have occurred or might have taken a different form, potentially preventing the Cold War.\n",
      "\n",
      "The absence of World War I could mean a more stable Europe, with the preservation of empires, potentially leading to more gradual decolonization rather than the upheaval seen post-war. The global political landscape today might resemble a more collaborative Europe, diminishing the rise of fascism and extremism.\n",
      "\n",
      "In this altered timeline, advancements in civil rights, science, and technology could have occurred at an accelerated pace, leading to a more interconnected and peaceful world, possibly mitigating many 20th-century conflicts. Overall, the world might today reflect a more stable international order, with fewer divisions and conflicts arising from the legacy of a devastating war.\n",
      "\n",
      "# Response from competitor 2\n",
      "\n",
      "This is a fun and thought-provoking question! It's tough to guarantee no negative repercussions, but I'll aim for the most positive outcome with minimal plausible downsides.\n",
      "\n",
      "I would choose to **prevent the assassination of Archduke Franz Ferdinand in Sarajevo in 1914.**\n",
      "\n",
      "Here's why:\n",
      "\n",
      "*   **Preventing World War I:** The assassination triggered a chain reaction of alliances, declarations of war, and ultimately, World War I. This war devastated Europe, led to the collapse of empires, and created conditions ripe for future conflicts.\n",
      "*   **Less Suffering and Death:** World War I resulted in an estimated 15-22 million deaths and tens of millions more wounded or displaced. Preventing the war would have spared countless lives and prevented unimaginable suffering.\n",
      "*   **No Rise of Radical Ideologies:** The war and its aftermath created fertile ground for extremist ideologies like fascism and Nazism. The economic hardship, political instability, and social unrest following the war fueled resentment and provided opportunities for these movements to gain power. Without WWI, it's highly unlikely that Hitler and the Nazi party would have risen to power in Germany.\n",
      "*   **Different Global Power Dynamics:** The United States rose to prominence after World War I, filling the power vacuum left by weakened European empires. Without the war, European powers might have retained more influence on the world stage for longer.\n",
      "*   **Potentially Improved Colonial Relations:** While colonialism was already problematic, the war further exacerbated tensions between colonizers and colonized populations. Without the war, there might have been a slower, more gradual transition away from colonialism, potentially with fewer violent conflicts.\n",
      "\n",
      "**How the world might be different:**\n",
      "\n",
      "*   **No World War II:** Without World War I, there would be no Treaty of Versailles, no widespread economic depression in Germany, and therefore no rise of Nazism.\n",
      "*   **Different European Union:** The European Union was, in part, a response to the devastation of two world wars, aiming to promote cooperation and prevent future conflicts. Without these wars, the EU may not exist in its current form, or may have developed along a different path.\n",
      "*   **Different Technological Development:** War is a powerful driver of technological innovation, particularly in weaponry. Without the two world wars, technological development might have followed a different trajectory, potentially focusing more on peaceful applications.\n",
      "*   **Potentially More Stable Middle East:** The collapse of the Ottoman Empire after World War I led to the creation of many artificial nation-states in the Middle East, often with little regard for existing ethnic and religious boundaries. This created long-lasting instability. Without the war, the Ottoman Empire might have gradually reformed or fragmented in a more organic way, potentially leading to a more stable and less conflict-ridden region.\n",
      "\n",
      "**Why I think this alteration has minimal negative repercussions:**\n",
      "\n",
      "While any major change in history will have unforeseen consequences, preventing a devastating war like World War I is likely to have a predominantly positive impact. The potential for less suffering, greater stability, and a different political landscape outweighs the potential drawbacks. It is, however, essential to acknowledge that progress is not linear, and other challenges and conflicts would inevitably arise. However, their context would be dramatically different, and potentially less catastrophic.\n",
      "\n",
      "It's a thought experiment, of course, but preventing the assassination of Franz Ferdinand is, in my opinion, the most impactful and potentially beneficial change I could make to history.\n",
      "\n",
      "\n",
      "# Response from competitor 3\n",
      "\n",
      "If I could alter one historical event without any negative repercussions, I would choose to change the assassination of Archduke Franz Ferdinand of Austria in 1914. This event is widely regarded as the trigger that set off World War I, one of the deadliest conflicts in human history.\n",
      "\n",
      "On June 28, 1914, Gavrilo Princip, a Serbian nationalist, assassinated Archduke Franz Ferdinand and his wife in Sarajevo, Bosnia. This event led to a chain reaction of diplomatic crises and military mobilizations that eventually resulted in the outbreak of World War I.\n",
      "\n",
      "If I could alter this event, I would prevent the assassination from occurring. Here's how I believe the world would be different today as a result:\n",
      "\n",
      "1. **No World War I**: The most immediate consequence of preventing the assassination would be the avoidance of World War I. This would have meant that millions of lives would have been saved, and the widespread destruction and devastation caused by the war would have been averted.\n",
      "2. **No Russian Revolution**: The Russian Revolution, which occurred in 1917, was partly a consequence of Russia's involvement in World War I. Without the war, it's possible that the revolution might not have occurred, or at least would have been delayed. This would have meant that the Soviet Union might not have come into existence, or would have been significantly weaker.\n",
      "3. **No World War II**: Many historians believe that World War II was a direct consequence of the Treaty of Versailles, which was imposed on Germany after World War I. The treaty's harsh terms and reparations led to widespread resentment and economic hardship in Germany, creating a fertile ground for the rise of Nazi ideology. Without World War I, it's possible that World War II might not have occurred, or would have been significantly less devastating.\n",
      "4. **Alternative Global Order**: The absence of World War I and II would have meant that the global order would be significantly different today. The United States might not have emerged as a superpower, and the United Nations might not have been established. The world might have been more multipolar, with Europe, China, and other regions playing more significant roles in global affairs.\n",
      "5. **Different International Relations**: The absence of two devastating world wars would have meant that international relations would be more cooperative and less focused on security and defense. Global institutions, such as the League of Nations, might have been more effective in preventing conflicts, and international law might have developed differently.\n",
      "6. **Alternative Economic Trajectory**: The 20th century was marked by significant economic upheaval, including the Great Depression and the rise of socialist and communist economies. Without the wars, the global economy might have developed more smoothly, with less inequality and more cooperation between nations.\n",
      "7. **Different Cultural and Social Landscape**: The wars of the 20th century had a profound impact on culture and society, leading to significant social and cultural changes, including the rise of feminism, the civil rights movement, and the counterculture movement. Without these wars, the cultural and social landscape of the world might be significantly different today.\n",
      "\n",
      "In conclusion, preventing the assassination of Archduke Franz Ferdinand would have had far-reaching consequences for the world. It would have avoided two devastating world wars, changed the course of international relations, and altered the global economic and cultural landscape. The world would likely be more peaceful, more cooperative, and more multipolar, with alternative global institutions, economic systems, and cultural and social norms.\n",
      "\n",
      "# Response from competitor 4\n",
      "\n",
      "This is a fantastic, and incredibly difficult, question! If I could alter one historical event with no negative repercussions, I would choose to **ensure the successful ratification of the Treaty of Versailles in 1919.** \n",
      "\n",
      "Let me explain my reasoning and how I believe the world would be different:\n",
      "\n",
      "**The Event:** The Treaty of Versailles, signed after World War I, was deeply flawed. It imposed crippling reparations on Germany, redrew borders in a way that fueled resentment, and ultimately created the conditions for the rise of extremism and Nazi ideology.  My alteration isn't about completely erasing the Treaty, but rather ensuring that a more equitable and forward-looking version was adopted. \n",
      "\n",
      "**How it Would Be Altered:** Specifically, I'd have ensured that key Allied powers, particularly the United States, were truly committed to a long-term, collaborative approach to rebuilding Europe, rather than simply focusing on punishing Germany. This would have involved a greater emphasis on economic recovery, reconciliation, and a truly representative German government. \n",
      "\n",
      "**How the World Would Be Different Today:**\n",
      "\n",
      "* **No World War II:** Without the deep economic hardship and national humiliation inflicted upon Germany, the seeds of resentment that fueled the Nazi party would never have taken root. Hitler, and his extremist ideology, would likely have remained a relatively minor political figure. The invasion of Poland, the catalyst for WWII, would never have happened.\n",
      "* **A Different Cold War:** The Soviet Union would likely have remained a more localized, less ideologically driven power. Without the geopolitical turmoil of WWII, the rise of the United States as a global superpower might have been slower and less dominant. \n",
      "* **A More Integrated Europe:** The impetus for European integration – initially born out of the devastation of World War II – would have emerged organically from a more stable and prosperous Europe. The European Union, as we know it, might have developed much more gradually and perhaps with a less contentious focus on defense and identity.\n",
      "* **Technological Development:** The intense competition driven by WWII spurred significant technological advancements. Without that urgent need, innovations *might* have been slower to develop in certain areas (like radar and jet propulsion), but fundamentally, humanity would have benefitted from a slower, more considered approach to progress.\n",
      "* **Social and Political Landscape:** The post-WWII social movements—civil rights, the anti-war movement—developed in response to the shared trauma of the conflict. Without that shared experience, their development would have taken a vastly different path.\n",
      "\n",
      "\n",
      "**Important Note:**  This is, of course, a simplification. History is incredibly complex, and even a single changed event would have cascading, unpredictable effects. However, I believe that removing the core issues that stemmed from the Treaty of Versailles – the resentment and instability it created – would have dramatically altered the trajectory of the 20th and 21st centuries for the better. \n",
      "\n",
      "---\n",
      "\n",
      "Would you like to consider this question from a different perspective, perhaps focusing on a specific region or aspect of the world?\n",
      "\n",
      "\n"
     ]
    }
   ],
   "source": [
    "print(together)"
   ]
  },
  {
   "cell_type": "code",
   "execution_count": 26,
   "metadata": {},
   "outputs": [],
   "source": [
    "judge = f\"\"\"You are judging a competition between {len(competitors)} competitors.\n",
    "Each model has been given this question:\n",
    "\n",
    "{question}\n",
    "\n",
    "Your job is to evaluate each response for clarity and strength of argument, and rank them in order of best to worst.\n",
    "Respond with JSON, and only JSON, with the following format:\n",
    "{{\"results\": [\"best competitor number\", \"second best competitor number\", \"third best competitor number\", ...]}}\n",
    "\n",
    "Here are the responses from each competitor:\n",
    "\n",
    "{together}\n",
    "\n",
    "Now respond with the JSON with the ranked order of the competitors, nothing else. Do not include markdown formatting or code blocks.\"\"\"\n"
   ]
  },
  {
   "cell_type": "code",
   "execution_count": 27,
   "metadata": {},
   "outputs": [
    {
     "name": "stdout",
     "output_type": "stream",
     "text": [
      "You are judging a competition between 4 competitors.\n",
      "Each model has been given this question:\n",
      "\n",
      "One significant historical event I would consider altering is the assassination of Archduke Franz Ferdinand of Austria in 1914. This event is widely recognized as the spark that ignited World War I, a conflict that led to immense loss of life, the devastation of Europe, and significant political and social upheaval.\n",
      "\n",
      "If Franz Ferdinand had not been assassinated, it's possible that the tensions between major European powers could have been resolved through diplomacy rather than warfare. The Austro-Hungarian Empire may have pursued different policies that prevented the escalation into a full-blown war, leading to a more stable balance of power in Europe.\n",
      "\n",
      "As a result, we might have seen a more gradual progression towards political reform and modernization in various countries, potentially avoiding the rise of extremism in the interwar period. The absence of World War I would likely mean no Treaty of Versailles, which imposed heavy reparations on Germany and contributed to the economic hardship that facilitated the rise of the Nazi Party and World War II. \n",
      "\n",
      "In this alternate scenario, the world could have avoided the catastrophic consequences of the two world wars, possibly leading to a different balance of power, with a more peaceful and stable 20th century. Economic development might have been less interrupted, and the Cold War era could have unfolded differently, with less ideological conflict.\n",
      "\n",
      "Overall, the world today could be marked by fewer borders drawn through conflict, different geopolitical alliances, and potentially a slower but more peaceful evolution of global politics and international relations. The ripple effects on culture, technology, and society could have created a vastly different modernity, perhaps with an emphasis on collaboration rather than competition among nations.\n",
      "\n",
      "Your job is to evaluate each response for clarity and strength of argument, and rank them in order of best to worst.\n",
      "Respond with JSON, and only JSON, with the following format:\n",
      "{\"results\": [\"best competitor number\", \"second best competitor number\", \"third best competitor number\", ...]}\n",
      "\n",
      "Here are the responses from each competitor:\n",
      "\n",
      "# Response from competitor 1\n",
      "\n",
      "If I could alter one historical event without negative repercussions, I would choose to prevent the assassination of Archduke Franz Ferdinand of Austria in 1914. This event is widely considered a catalyst for World War I, which led to significant loss of life, political upheaval, and the eventual rise of totalitarian regimes in Europe, including World War II.\n",
      "\n",
      "If the assassination had not occurred, it is possible that the tensions among European powers could have been resolved through diplomacy rather than escalating into a massive conflict. Without the war, the subsequent social and political changes that radically altered the course of the 20th century may not have taken place. For example, the Russian Revolution, which unleashed the Soviet Union, may not have occurred or might have taken a different form, potentially preventing the Cold War.\n",
      "\n",
      "The absence of World War I could mean a more stable Europe, with the preservation of empires, potentially leading to more gradual decolonization rather than the upheaval seen post-war. The global political landscape today might resemble a more collaborative Europe, diminishing the rise of fascism and extremism.\n",
      "\n",
      "In this altered timeline, advancements in civil rights, science, and technology could have occurred at an accelerated pace, leading to a more interconnected and peaceful world, possibly mitigating many 20th-century conflicts. Overall, the world might today reflect a more stable international order, with fewer divisions and conflicts arising from the legacy of a devastating war.\n",
      "\n",
      "# Response from competitor 2\n",
      "\n",
      "This is a fun and thought-provoking question! It's tough to guarantee no negative repercussions, but I'll aim for the most positive outcome with minimal plausible downsides.\n",
      "\n",
      "I would choose to **prevent the assassination of Archduke Franz Ferdinand in Sarajevo in 1914.**\n",
      "\n",
      "Here's why:\n",
      "\n",
      "*   **Preventing World War I:** The assassination triggered a chain reaction of alliances, declarations of war, and ultimately, World War I. This war devastated Europe, led to the collapse of empires, and created conditions ripe for future conflicts.\n",
      "*   **Less Suffering and Death:** World War I resulted in an estimated 15-22 million deaths and tens of millions more wounded or displaced. Preventing the war would have spared countless lives and prevented unimaginable suffering.\n",
      "*   **No Rise of Radical Ideologies:** The war and its aftermath created fertile ground for extremist ideologies like fascism and Nazism. The economic hardship, political instability, and social unrest following the war fueled resentment and provided opportunities for these movements to gain power. Without WWI, it's highly unlikely that Hitler and the Nazi party would have risen to power in Germany.\n",
      "*   **Different Global Power Dynamics:** The United States rose to prominence after World War I, filling the power vacuum left by weakened European empires. Without the war, European powers might have retained more influence on the world stage for longer.\n",
      "*   **Potentially Improved Colonial Relations:** While colonialism was already problematic, the war further exacerbated tensions between colonizers and colonized populations. Without the war, there might have been a slower, more gradual transition away from colonialism, potentially with fewer violent conflicts.\n",
      "\n",
      "**How the world might be different:**\n",
      "\n",
      "*   **No World War II:** Without World War I, there would be no Treaty of Versailles, no widespread economic depression in Germany, and therefore no rise of Nazism.\n",
      "*   **Different European Union:** The European Union was, in part, a response to the devastation of two world wars, aiming to promote cooperation and prevent future conflicts. Without these wars, the EU may not exist in its current form, or may have developed along a different path.\n",
      "*   **Different Technological Development:** War is a powerful driver of technological innovation, particularly in weaponry. Without the two world wars, technological development might have followed a different trajectory, potentially focusing more on peaceful applications.\n",
      "*   **Potentially More Stable Middle East:** The collapse of the Ottoman Empire after World War I led to the creation of many artificial nation-states in the Middle East, often with little regard for existing ethnic and religious boundaries. This created long-lasting instability. Without the war, the Ottoman Empire might have gradually reformed or fragmented in a more organic way, potentially leading to a more stable and less conflict-ridden region.\n",
      "\n",
      "**Why I think this alteration has minimal negative repercussions:**\n",
      "\n",
      "While any major change in history will have unforeseen consequences, preventing a devastating war like World War I is likely to have a predominantly positive impact. The potential for less suffering, greater stability, and a different political landscape outweighs the potential drawbacks. It is, however, essential to acknowledge that progress is not linear, and other challenges and conflicts would inevitably arise. However, their context would be dramatically different, and potentially less catastrophic.\n",
      "\n",
      "It's a thought experiment, of course, but preventing the assassination of Franz Ferdinand is, in my opinion, the most impactful and potentially beneficial change I could make to history.\n",
      "\n",
      "\n",
      "# Response from competitor 3\n",
      "\n",
      "If I could alter one historical event without any negative repercussions, I would choose to change the assassination of Archduke Franz Ferdinand of Austria in 1914. This event is widely regarded as the trigger that set off World War I, one of the deadliest conflicts in human history.\n",
      "\n",
      "On June 28, 1914, Gavrilo Princip, a Serbian nationalist, assassinated Archduke Franz Ferdinand and his wife in Sarajevo, Bosnia. This event led to a chain reaction of diplomatic crises and military mobilizations that eventually resulted in the outbreak of World War I.\n",
      "\n",
      "If I could alter this event, I would prevent the assassination from occurring. Here's how I believe the world would be different today as a result:\n",
      "\n",
      "1. **No World War I**: The most immediate consequence of preventing the assassination would be the avoidance of World War I. This would have meant that millions of lives would have been saved, and the widespread destruction and devastation caused by the war would have been averted.\n",
      "2. **No Russian Revolution**: The Russian Revolution, which occurred in 1917, was partly a consequence of Russia's involvement in World War I. Without the war, it's possible that the revolution might not have occurred, or at least would have been delayed. This would have meant that the Soviet Union might not have come into existence, or would have been significantly weaker.\n",
      "3. **No World War II**: Many historians believe that World War II was a direct consequence of the Treaty of Versailles, which was imposed on Germany after World War I. The treaty's harsh terms and reparations led to widespread resentment and economic hardship in Germany, creating a fertile ground for the rise of Nazi ideology. Without World War I, it's possible that World War II might not have occurred, or would have been significantly less devastating.\n",
      "4. **Alternative Global Order**: The absence of World War I and II would have meant that the global order would be significantly different today. The United States might not have emerged as a superpower, and the United Nations might not have been established. The world might have been more multipolar, with Europe, China, and other regions playing more significant roles in global affairs.\n",
      "5. **Different International Relations**: The absence of two devastating world wars would have meant that international relations would be more cooperative and less focused on security and defense. Global institutions, such as the League of Nations, might have been more effective in preventing conflicts, and international law might have developed differently.\n",
      "6. **Alternative Economic Trajectory**: The 20th century was marked by significant economic upheaval, including the Great Depression and the rise of socialist and communist economies. Without the wars, the global economy might have developed more smoothly, with less inequality and more cooperation between nations.\n",
      "7. **Different Cultural and Social Landscape**: The wars of the 20th century had a profound impact on culture and society, leading to significant social and cultural changes, including the rise of feminism, the civil rights movement, and the counterculture movement. Without these wars, the cultural and social landscape of the world might be significantly different today.\n",
      "\n",
      "In conclusion, preventing the assassination of Archduke Franz Ferdinand would have had far-reaching consequences for the world. It would have avoided two devastating world wars, changed the course of international relations, and altered the global economic and cultural landscape. The world would likely be more peaceful, more cooperative, and more multipolar, with alternative global institutions, economic systems, and cultural and social norms.\n",
      "\n",
      "# Response from competitor 4\n",
      "\n",
      "This is a fantastic, and incredibly difficult, question! If I could alter one historical event with no negative repercussions, I would choose to **ensure the successful ratification of the Treaty of Versailles in 1919.** \n",
      "\n",
      "Let me explain my reasoning and how I believe the world would be different:\n",
      "\n",
      "**The Event:** The Treaty of Versailles, signed after World War I, was deeply flawed. It imposed crippling reparations on Germany, redrew borders in a way that fueled resentment, and ultimately created the conditions for the rise of extremism and Nazi ideology.  My alteration isn't about completely erasing the Treaty, but rather ensuring that a more equitable and forward-looking version was adopted. \n",
      "\n",
      "**How it Would Be Altered:** Specifically, I'd have ensured that key Allied powers, particularly the United States, were truly committed to a long-term, collaborative approach to rebuilding Europe, rather than simply focusing on punishing Germany. This would have involved a greater emphasis on economic recovery, reconciliation, and a truly representative German government. \n",
      "\n",
      "**How the World Would Be Different Today:**\n",
      "\n",
      "* **No World War II:** Without the deep economic hardship and national humiliation inflicted upon Germany, the seeds of resentment that fueled the Nazi party would never have taken root. Hitler, and his extremist ideology, would likely have remained a relatively minor political figure. The invasion of Poland, the catalyst for WWII, would never have happened.\n",
      "* **A Different Cold War:** The Soviet Union would likely have remained a more localized, less ideologically driven power. Without the geopolitical turmoil of WWII, the rise of the United States as a global superpower might have been slower and less dominant. \n",
      "* **A More Integrated Europe:** The impetus for European integration – initially born out of the devastation of World War II – would have emerged organically from a more stable and prosperous Europe. The European Union, as we know it, might have developed much more gradually and perhaps with a less contentious focus on defense and identity.\n",
      "* **Technological Development:** The intense competition driven by WWII spurred significant technological advancements. Without that urgent need, innovations *might* have been slower to develop in certain areas (like radar and jet propulsion), but fundamentally, humanity would have benefitted from a slower, more considered approach to progress.\n",
      "* **Social and Political Landscape:** The post-WWII social movements—civil rights, the anti-war movement—developed in response to the shared trauma of the conflict. Without that shared experience, their development would have taken a vastly different path.\n",
      "\n",
      "\n",
      "**Important Note:**  This is, of course, a simplification. History is incredibly complex, and even a single changed event would have cascading, unpredictable effects. However, I believe that removing the core issues that stemmed from the Treaty of Versailles – the resentment and instability it created – would have dramatically altered the trajectory of the 20th and 21st centuries for the better. \n",
      "\n",
      "---\n",
      "\n",
      "Would you like to consider this question from a different perspective, perhaps focusing on a specific region or aspect of the world?\n",
      "\n",
      "\n",
      "\n",
      "Now respond with the JSON with the ranked order of the competitors, nothing else. Do not include markdown formatting or code blocks.\n"
     ]
    }
   ],
   "source": [
    "print(judge)"
   ]
  },
  {
   "cell_type": "code",
   "execution_count": 28,
   "metadata": {},
   "outputs": [],
   "source": [
    "judge_messages = [{\"role\": \"user\", \"content\": judge}]"
   ]
  },
  {
   "cell_type": "code",
   "execution_count": 29,
   "metadata": {},
   "outputs": [
    {
     "name": "stdout",
     "output_type": "stream",
     "text": [
      "{\"results\": [\"2\", \"3\", \"1\", \"4\"]}\n"
     ]
    }
   ],
   "source": [
    "# Judgement time!\n",
    "\n",
    "openai = OpenAI()\n",
    "response = openai.chat.completions.create(\n",
    "    model=\"o3-mini\",\n",
    "    messages=judge_messages,\n",
    ")\n",
    "results = response.choices[0].message.content\n",
    "print(results)\n"
   ]
  },
  {
   "cell_type": "code",
   "execution_count": 30,
   "metadata": {},
   "outputs": [
    {
     "name": "stdout",
     "output_type": "stream",
     "text": [
      "Rank 1: gemini-2.0-flash\n",
      "Rank 2: llama-3.3-70b-versatile\n",
      "Rank 3: gpt-4o-mini\n",
      "Rank 4: gemma3:4b\n"
     ]
    }
   ],
   "source": [
    "# OK let's turn this into results!\n",
    "\n",
    "results_dict = json.loads(results)\n",
    "ranks = results_dict[\"results\"]\n",
    "for index, result in enumerate(ranks):\n",
    "    competitor = competitors[int(result)-1]\n",
    "    print(f\"Rank {index+1}: {competitor}\")"
   ]
  },
  {
   "cell_type": "code",
   "execution_count": 32,
   "metadata": {},
   "outputs": [
    {
     "name": "stdout",
     "output_type": "stream",
     "text": [
      "{\"results\": [\"2\", \"3\", \"1\", \"4\"]}\n"
     ]
    }
   ],
   "source": [
    "# Judgement time!\n",
    "\n",
    "openai = OpenAI(api_key=google_api_key, base_url=\"https://generativelanguage.googleapis.com/v1beta/openai/\")\n",
    "response = openai.chat.completions.create(\n",
    "    model=\"gemini-2.0-flash\",\n",
    "    messages=judge_messages,\n",
    ")\n",
    "results = response.choices[0].message.content\n",
    "print(results)"
   ]
  },
  {
   "cell_type": "code",
   "execution_count": 33,
   "metadata": {},
   "outputs": [
    {
     "name": "stdout",
     "output_type": "stream",
     "text": [
      "Rank 1: gemini-2.0-flash\n",
      "Rank 2: llama-3.3-70b-versatile\n",
      "Rank 3: gpt-4o-mini\n",
      "Rank 4: gemma3:4b\n"
     ]
    }
   ],
   "source": [
    "# OK let's turn this into results!\n",
    "\n",
    "results_dict = json.loads(results)\n",
    "ranks = results_dict[\"results\"]\n",
    "for index, result in enumerate(ranks):\n",
    "    competitor = competitors[int(result)-1]\n",
    "    print(f\"Rank {index+1}: {competitor}\")"
   ]
  },
  {
   "cell_type": "code",
   "execution_count": 37,
   "metadata": {},
   "outputs": [
    {
     "name": "stdout",
     "output_type": "stream",
     "text": [
      "\n",
      "--- Resposta Aprimorada (gemini-2.0-flash) ---\n"
     ]
    },
    {
     "data": {
      "text/markdown": [
       "Ok, analisando minha resposta original e as dos outros competidores, consigo identificar algumas áreas de melhoria:\n",
       "\n",
       "**Pontos Fortes da Minha Resposta Original:**\n",
       "\n",
       "*   **Estrutura Clara:** A resposta é bem organizada, com uma introdução, pontos de argumento claros, exemplos de como o mundo seria diferente e uma justificativa para minimizar repercussões negativas.\n",
       "*   **Abrangência:** Aborda vários aspectos impactados pela Primeira Guerra, incluindo política, economia, tecnologia e relações internacionais.\n",
       "*   **Clareza:** A linguagem é acessível e direta, facilitando a compreensão.\n",
       "\n",
       "**Áreas de Melhoria:**\n",
       "\n",
       "*   **Profundidade do Argumento:** Embora eu tenha listado os impactos, a análise da *causa e efeito* poderia ser mais profunda. Por exemplo, como a ausência da Primeira Guerra afetaria *especificamente* o desenvolvimento de diferentes ideologias ou o surgimento de certos conflitos regionais?\n",
       "*   **Nuances e Contrapontos:** A resposta poderia reconhecer mais explicitamente que mesmo um cenário sem a Primeira Guerra não seria utópico. Haveria *outros* desafios e conflitos. É importante equilibrar o otimismo com o realismo histórico.\n",
       "*   **Consideração de Alternativas:** A resposta poderia explorar brevemente *por que* outras opções (como evitar a ascensão de Hitler) foram descartadas, reforçando a escolha de prevenir a Primeira Guerra como a opção mais eficaz com menos riscos.\n",
       "*   **Originalidade:** A resposta, embora completa, compartilha semelhanças com as outras, especialmente na escolha do evento (assassinato do arquiduque). Embora essa seja uma escolha lógica, a diferenciação poderia vir de uma análise mais aprofundada e nuances únicas.\n",
       "\n",
       "**Resposta Aprimorada:**\n",
       "\n",
       "Esta é uma pergunta instigante! É difícil garantir resultados 100% positivos, mas buscarei o cenário mais favorável com as menores desvantagens plausíveis.\n",
       "\n",
       "Minha escolha seria **impedir o assassinato do Arquiduque Francisco Ferdinando em Sarajevo em 1914.**\n",
       "\n",
       "**Justificativa:**\n",
       "\n",
       "*   **Prevenção da Primeira Guerra Mundial:** Este evento desencadeou uma reação em cadeia de alianças, declarações de guerra e, por fim, a devastadora Primeira Guerra Mundial. A guerra desestabilizou a Europa, levou ao colapso de impérios e criou um ambiente propício para conflitos futuros.\n",
       "*   **Redução do Sofrimento e da Morte:** A Primeira Guerra resultou em estimativas de 15-22 milhões de mortes e dezenas de milhões de feridos ou deslocados. Prevenir a guerra teria poupado incontáveis vidas e evitado sofrimentos inimagináveis.\n",
       "*   **Menor Probabilidade de Ideologias Radicais:** A guerra e suas consequências criaram um terreno fértil para ideologias extremistas como o fascismo e o nazismo. As dificuldades econômicas, a instabilidade política e a agitação social após a guerra alimentaram o ressentimento e proporcionaram oportunidades para esses movimentos ganharem poder. Sem a Primeira Guerra, seria muito menos provável que Hitler e o Partido Nazista ascendessem ao poder na Alemanha.\n",
       "*   **Dinâmicas de Poder Global Diferentes:** Os Estados Unidos ascenderam à proeminência após a Primeira Guerra Mundial, preenchendo o vácuo de poder deixado pelos impérios europeus enfraquecidos. Sem a guerra, as potências europeias poderiam ter mantido mais influência no cenário mundial por mais tempo.\n",
       "*   **Possível Melhoria das Relações Coloniais:** Embora o colonialismo já fosse problemático, a guerra exacerbou ainda mais as tensões entre colonizadores e populações colonizadas. Sem a guerra, poderia ter havido uma transição mais lenta e gradual para longe do colonialismo, potencialmente com menos conflitos violentos. Uma descolonização mais gradual e negociada poderia ter evitado as guerras de independência violentas que marcaram o século XX.\n",
       "\n",
       "**Como o mundo poderia ser diferente:**\n",
       "\n",
       "*   **Sem Segunda Guerra Mundial:** Sem a Primeira Guerra Mundial, não haveria Tratado de Versalhes, nem depressão econômica generalizada na Alemanha e, portanto, nenhuma ascensão do nazismo. É crucial notar que, mesmo sem Hitler, o nacionalismo exacerbado e tensões étnicas ainda persistiriam, mas sem a intensidade e devastação que culminaram na Segunda Guerra. Outros conflitos regionais seriam certamente diferentes.\n",
       "*   **União Europeia Diferente:** A União Europeia foi, em parte, uma resposta à devastação de duas guerras mundiais, visando promover a cooperação e prevenir conflitos futuros. Sem essas guerras, a UE pode não existir em sua forma atual ou pode ter se desenvolvido ao longo de um caminho diferente. Talvez, uma integração europeia ocorresse de forma mais orgânica, focada em laços comerciais e culturais, em vez de uma resposta à necessidade de evitar guerras.\n",
       "*   **Desenvolvimento Tecnológico Diferente:** A guerra é um poderoso motivador da inovação tecnológica, principalmente em armamentos. Sem as duas guerras mundiais, o desenvolvimento tecnológico poderia ter seguido uma trajetória diferente, potencialmente com um foco maior em aplicações pacíficas. Poderíamos ver avanços mais rápidos em energia renovável ou medicina, por exemplo.\n",
       "*   **Oriente Médio Potencialmente Mais Estável:** O colapso do Império Otomano após a Primeira Guerra Mundial levou à criação de muitos estados-nação artificiais no Oriente Médio, muitas vezes com pouca consideração pelas fronteiras étnicas e religiosas existentes. Isso criou uma instabilidade duradoura. Sem a guerra, o Império Otomano poderia ter se reformado gradualmente ou se fragmentado de uma forma mais orgânica, potencialmente levando a uma região mais estável e menos conflituosa. No entanto, tensões internas dentro do império e a busca por autonomia de grupos étnicos provavelmente ainda levariam a conflitos, mas em uma escala menor e com diferentes atores envolvidos.\n",
       "\n",
       "**Por que essa alteração teria repercussões mínimas negativas:**\n",
       "\n",
       "Embora qualquer mudança importante na história tenha consequências imprevistas, prevenir uma guerra devastadora como a Primeira Guerra Mundial provavelmente teria um impacto predominantemente positivo. O potencial de menos sofrimento, maior estabilidade e um cenário político diferente supera as potenciais desvantagens. É essencial reconhecer que o progresso não é linear e que outros desafios e conflitos inevitavelmente surgiriam. No entanto, seu contexto seria drasticamente diferente e, potencialmente, menos catastrófico. Por exemplo, a competição por recursos naturais ainda existiria, mas talvez fosse mediada por acordos comerciais mais justos em um cenário de menor militarização global.\n",
       "\n",
       "Outras alterações possíveis, como evitar a ascensão de Hitler diretamente, seriam menos eficazes, pois não abordam as causas profundas da instabilidade europeia. A Primeira Guerra Mundial foi um evento catalisador de uma magnitude sem precedentes, e sua prevenção teria ramificações positivas em todos os níveis.\n",
       "\n",
       "É um experimento mental, é claro, mas prevenir o assassinato de Francisco Ferdinando é, na minha opinião, a mudança mais impactante e potencialmente benéfica que eu poderia fazer na história.\n",
       "\n",
       "**Principais Melhorias Incorporadas:**\n",
       "\n",
       "*   **Mais nuance:** Reconhecimento de que outros problemas ainda existiriam sem a Primeira Guerra.\n",
       "*   **Argumentação mais profunda:** Explicação mais detalhada de como a ausência da Primeira Guerra afetaria as ideologias, a estabilidade regional e o desenvolvimento tecnológico.\n",
       "*   **Justificativa reforçada:** Explicação de por que outras alternativas são menos eficazes.\n",
       "\n",
       "Espero que esta versão aprimorada seja mais convincente e abrangente.\n"
      ],
      "text/plain": [
       "<IPython.core.display.Markdown object>"
      ]
     },
     "metadata": {},
     "output_type": "display_data"
    }
   ],
   "source": [
    "# implantando modelo de Reflexão:\n",
    "\n",
    "# ... (código existente para obter as respostas e o ranqueamento do juiz) ...\n",
    "\n",
    "# Obter o índice do competidor com a melhor classificação\n",
    "best_competitor_index = int(results_dict[\"results\"][0]) - 1\n",
    "best_answer = answers[best_competitor_index]\n",
    "best_competitor_name = competitors[best_competitor_index]\n",
    "\n",
    "# Construir o prompt de reflexão\n",
    "reflection_prompt = f\"\"\"\n",
    "Você foi um dos competidores na seguinte tarefa:\n",
    "{question}\n",
    "\n",
    "Sua resposta original (Competidor {best_competitor_index + 1}) foi:\n",
    "{best_answer}\n",
    "\n",
    "As respostas dos outros competidores foram:\n",
    "{together}\n",
    "\n",
    "Um juiz avaliou as respostas e classificou-a como a melhor (ou a {best_competitor_index + 1}ª melhor, dependendo da classificação).\n",
    "\n",
    "Com base na pergunta original e nas abordagens dos outros competidores, analise sua própria resposta.\n",
    "Identifique onde ela pode ser aprimorada em termos de clareza, profundidade do argumento ou consideração de nuances.\n",
    "Gere uma versão aprimorada da sua resposta original, incorporando quaisquer melhorias que você identificar.\n",
    "\n",
    "Responda em português.\n",
    "\"\"\"\n",
    "\n",
    "reflection_messages = [{\"role\": \"user\", \"content\": reflection_prompt}]\n",
    "\n",
    "# Executar o modelo para reflexão (usando o mesmo modelo do melhor competidor ou outro)\n",
    "reflection_model = OpenAI(api_key=google_api_key, base_url=\"https://generativelanguage.googleapis.com/v1beta/openai/\") # Ou outro modelo, ex: \"gpt-4\" para maior capacidade de raciocínio\n",
    "reflection_response = reflection_model.chat.completions.create(\n",
    "    model=best_competitor_name, # Ou outro modelo, se preferir\n",
    "    messages=reflection_messages,\n",
    ")\n",
    "improved_answer = reflection_response.choices[0].message.content\n",
    "\n",
    "print(f\"\\n--- Resposta Aprimorada ({best_competitor_name}) ---\")\n",
    "display(Markdown(improved_answer))"
   ]
  },
  {
   "cell_type": "markdown",
   "metadata": {},
   "source": [
    "<table style=\"margin: 0; text-align: left; width:100%\">\n",
    "    <tr>\n",
    "        <td style=\"width: 150px; height: 150px; vertical-align: middle;\">\n",
    "            <img src=\"../assets/exercise.png\" width=\"150\" height=\"150\" style=\"display: block;\" />\n",
    "        </td>\n",
    "        <td>\n",
    "            <h2 style=\"color:#ff7800;\">Exercise</h2>\n",
    "            <span style=\"color:#ff7800;\">Which pattern(s) did this use? Try updating this to add another Agentic design pattern.\n",
    "            </span>\n",
    "        </td>\n",
    "    </tr>\n",
    "</table>"
   ]
  },
  {
   "cell_type": "markdown",
   "metadata": {},
   "source": [
    "<table style=\"margin: 0; text-align: left; width:100%\">\n",
    "    <tr>\n",
    "        <td style=\"width: 150px; height: 150px; vertical-align: middle;\">\n",
    "            <img src=\"../assets/business.png\" width=\"150\" height=\"150\" style=\"display: block;\" />\n",
    "        </td>\n",
    "        <td>\n",
    "            <h2 style=\"color:#00bfff;\">Commercial implications</h2>\n",
    "            <span style=\"color:#00bfff;\">These kinds of patterns - to send a task to multiple models, and evaluate results,\n",
    "            are common where you need to improve the quality of your LLM response. This approach can be universally applied\n",
    "            to business projects where accuracy is critical.\n",
    "            </span>\n",
    "        </td>\n",
    "    </tr>\n",
    "</table>"
   ]
  }
 ],
 "metadata": {
  "kernelspec": {
   "display_name": ".venv",
   "language": "python",
   "name": "python3"
  },
  "language_info": {
   "codemirror_mode": {
    "name": "ipython",
    "version": 3
   },
   "file_extension": ".py",
   "mimetype": "text/x-python",
   "name": "python",
   "nbconvert_exporter": "python",
   "pygments_lexer": "ipython3",
   "version": "3.12.0"
  }
 },
 "nbformat": 4,
 "nbformat_minor": 2
}
