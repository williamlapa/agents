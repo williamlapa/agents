{
 "cells": [
  {
   "cell_type": "markdown",
   "metadata": {},
   "source": [
    "# Welcome to the start of your adventure in Agentic AI"
   ]
  },
  {
   "cell_type": "markdown",
   "metadata": {},
   "source": [
    "<table style=\"margin: 0; text-align: left; width:100%\">\n",
    "    <tr>\n",
    "        <td style=\"width: 150px; height: 150px; vertical-align: middle;\">\n",
    "            <img src=\"../assets/stop.png\" width=\"150\" height=\"150\" style=\"display: block;\" />\n",
    "        </td>\n",
    "        <td>\n",
    "            <h2 style=\"color:#ff7800;\">Are you ready for action??</h2>\n",
    "            <span style=\"color:#ff7800;\">Have you completed all the setup steps in the <a href=\"../setup/\">setup</a> folder?<br/>\n",
    "            Have you checked out the guides in the <a href=\"../guides/01_intro.ipynb\">guides</a> folder?<br/>\n",
    "            Well in that case, you're ready!!\n",
    "            </span>\n",
    "        </td>\n",
    "    </tr>\n",
    "</table>"
   ]
  },
  {
   "cell_type": "markdown",
   "metadata": {},
   "source": [
    "<table style=\"margin: 0; text-align: left; width:100%\">\n",
    "    <tr>\n",
    "        <td style=\"width: 150px; height: 150px; vertical-align: middle;\">\n",
    "            <img src=\"../assets/tools.png\" width=\"150\" height=\"150\" style=\"display: block;\" />\n",
    "        </td>\n",
    "        <td>\n",
    "            <h2 style=\"color:#00bfff;\">This code is a live resource - keep an eye out for my updates</h2>\n",
    "            <span style=\"color:#00bfff;\">I push updates regularly. As people ask questions or have problems, I add more examples and improve explanations. As a result, the code below might not be identical to the videos, as I've added more steps and better comments. Consider this like an interactive book that accompanies the lectures.<br/><br/>\n",
    "            I try to send emails regularly with important updates related to the course. You can find this in the 'Announcements' section of Udemy in the left sidebar. You can also choose to receive my emails via your Notification Settings in Udemy. I'm respectful of your inbox and always try to add value with my emails!\n",
    "            </span>\n",
    "        </td>\n",
    "    </tr>\n",
    "</table>"
   ]
  },
  {
   "cell_type": "markdown",
   "metadata": {},
   "source": [
    "### And please do remember to contact me if I can help\n",
    "\n",
    "And I love to connect: https://www.linkedin.com/in/eddonner/\n",
    "\n",
    "\n",
    "### New to Notebooks like this one? Head over to the guides folder!\n",
    "\n",
    "Just to check you've already added the Python and Jupyter extensions to Cursor, if not already installed:\n",
    "- Open extensions (View >> extensions)\n",
    "- Search for python, and when the results show, click on the ms-python one, and Install it if not already installed\n",
    "- Search for jupyter, and when the results show, click on the Microsoft one, and Install it if not already installed  \n",
    "Then View >> Explorer to bring back the File Explorer.\n",
    "\n",
    "And then:\n",
    "1. Click where it says \"Select Kernel\" near the top right, and select the option called `.venv (Python 3.12.9)` or similar, which should be the first choice or the most prominent choice. You may need to choose \"Python Environments\" first.\n",
    "2. Click in each \"cell\" below, starting with the cell immediately below this text, and press Shift+Enter to run\n",
    "3. Enjoy!\n",
    "\n",
    "After you click \"Select Kernel\", if there is no option like `.venv (Python 3.12.9)` then please do the following:  \n",
    "1. On Mac: From the Cursor menu, choose Settings >> VS Code Settings (NOTE: be sure to select `VSCode Settings` not `Cursor Settings`);  \n",
    "On Windows PC: From the File menu, choose Preferences >> VS Code Settings(NOTE: be sure to select `VSCode Settings` not `Cursor Settings`)  \n",
    "2. In the Settings search bar, type \"venv\"  \n",
    "3. In the field \"Path to folder with a list of Virtual Environments\" put the path to the project root, like C:\\Users\\username\\projects\\agents (on a Windows PC) or /Users/username/projects/agents (on Mac or Linux).  \n",
    "And then try again.\n",
    "\n",
    "Having problems with missing Python versions in that list? Have you ever used Anaconda before? It might be interferring. Quit Cursor, bring up a new command line, and make sure that your Anaconda environment is deactivated:    \n",
    "`conda deactivate`  \n",
    "And if you still have any problems with conda and python versions, it's possible that you will need to run this too:  \n",
    "`conda config --set auto_activate_base false`  \n",
    "and then from within the Agents directory, you should be able to run `uv python list` and see the Python 3.12 version."
   ]
  },
  {
   "cell_type": "code",
   "execution_count": 1,
   "metadata": {},
   "outputs": [],
   "source": [
    "# First let's do an import\n",
    "from dotenv import load_dotenv\n"
   ]
  },
  {
   "cell_type": "code",
   "execution_count": 13,
   "metadata": {},
   "outputs": [
    {
     "data": {
      "text/plain": [
       "True"
      ]
     },
     "execution_count": 13,
     "metadata": {},
     "output_type": "execute_result"
    }
   ],
   "source": [
    "# Next it's time to load the API keys into environment variables\n",
    "\n",
    "load_dotenv(override=True)"
   ]
  },
  {
   "cell_type": "code",
   "execution_count": 14,
   "metadata": {},
   "outputs": [
    {
     "name": "stdout",
     "output_type": "stream",
     "text": [
      "OpenAI API Key exists and begins sk-proj-\n"
     ]
    }
   ],
   "source": [
    "# Check the keys\n",
    "\n",
    "import os\n",
    "openai_api_key = os.getenv('OPENAI_API_KEY')\n",
    "\n",
    "if openai_api_key:\n",
    "    print(f\"OpenAI API Key exists and begins {openai_api_key[:8]}\")\n",
    "else:\n",
    "    print(\"OpenAI API Key not set - please head to the troubleshooting guide in the setup folder\")\n",
    "    \n"
   ]
  },
  {
   "cell_type": "code",
   "execution_count": 15,
   "metadata": {},
   "outputs": [],
   "source": [
    "# And now - the all important import statement\n",
    "# If you get an import error - head over to troubleshooting guide\n",
    "\n",
    "from openai import OpenAI"
   ]
  },
  {
   "cell_type": "code",
   "execution_count": 16,
   "metadata": {},
   "outputs": [],
   "source": [
    "# And now we'll create an instance of the OpenAI class\n",
    "# If you're not sure what it means to create an instance of a class - head over to the guides folder!\n",
    "# If you get a NameError - head over to the guides folder to learn about NameErrors\n",
    "\n",
    "openai = OpenAI()"
   ]
  },
  {
   "cell_type": "code",
   "execution_count": 17,
   "metadata": {},
   "outputs": [],
   "source": [
    "# Create a list of messages in the familiar OpenAI format\n",
    "\n",
    "messages = [{\"role\": \"user\", \"content\": \"What is 2+2?\"}]"
   ]
  },
  {
   "cell_type": "code",
   "execution_count": 18,
   "metadata": {},
   "outputs": [
    {
     "name": "stdout",
     "output_type": "stream",
     "text": [
      "2 + 2 equals 4.\n"
     ]
    }
   ],
   "source": [
    "# And now call it! Any problems, head to the troubleshooting guide\n",
    "# This uses GPT 4.1 nano, the incredibly cheap model\n",
    "\n",
    "response = openai.chat.completions.create(\n",
    "    model=\"gpt-4.1-nano\",\n",
    "    messages=messages\n",
    ")\n",
    "\n",
    "print(response.choices[0].message.content)\n"
   ]
  },
  {
   "cell_type": "code",
   "execution_count": 19,
   "metadata": {},
   "outputs": [],
   "source": [
    "# And now - let's ask for a question:\n",
    "\n",
    "question = \"Please propose a hard, challenging question to assess someone's IQ. Respond only with the question.\"\n",
    "messages = [{\"role\": \"user\", \"content\": question}]\n"
   ]
  },
  {
   "cell_type": "code",
   "execution_count": 20,
   "metadata": {},
   "outputs": [
    {
     "name": "stdout",
     "output_type": "stream",
     "text": [
      "If two trains start at the same time from stations 300 miles apart and travel toward each other, one at 50 mph and the other at 70 mph, a bird starts flying at 90 mph from the first train toward the second, instantly turns back upon reaching the second train, and continues back and forth until the trains collide—how far does the bird travel?\n"
     ]
    }
   ],
   "source": [
    "# ask it - this uses GPT 4.1 mini, still cheap but more powerful than nano\n",
    "\n",
    "response = openai.chat.completions.create(\n",
    "    model=\"gpt-4.1-mini\",\n",
    "    messages=messages\n",
    ")\n",
    "\n",
    "question = response.choices[0].message.content\n",
    "\n",
    "print(question)\n"
   ]
  },
  {
   "cell_type": "code",
   "execution_count": 21,
   "metadata": {},
   "outputs": [],
   "source": [
    "# form a new messages list\n",
    "messages = [{\"role\": \"user\", \"content\": question}]\n"
   ]
  },
  {
   "cell_type": "code",
   "execution_count": 22,
   "metadata": {},
   "outputs": [
    {
     "name": "stdout",
     "output_type": "stream",
     "text": [
      "Let's solve the problem step-by-step.\n",
      "\n",
      "---\n",
      "\n",
      "### Given:\n",
      "- Distance between two stations = 300 miles\n",
      "- Train 1 speed = 50 mph\n",
      "- Train 2 speed = 70 mph\n",
      "- Bird speed = 90 mph\n",
      "- The bird flies back and forth between the trains until they collide.\n",
      "\n",
      "---\n",
      "\n",
      "### Step 1: Calculate the time until collision\n",
      "\n",
      "The trains travel toward each other, so their relative speed is the sum of their speeds:\n",
      "\n",
      "\\[\n",
      "50 \\text{ mph} + 70 \\text{ mph} = 120 \\text{ mph}\n",
      "\\]\n",
      "\n",
      "Time until collision is:\n",
      "\n",
      "\\[\n",
      "\\text{Time} = \\frac{\\text{Distance}}{\\text{Relative speed}} = \\frac{300 \\text{ miles}}{120 \\text{ mph}} = 2.5 \\text{ hours}\n",
      "\\]\n",
      "\n",
      "---\n",
      "\n",
      "### Step 2: Calculate the distance traveled by the bird\n",
      "\n",
      "The bird keeps flying until the trains collide, so it flies for 2.5 hours at 90 mph.\n",
      "\n",
      "\\[\n",
      "\\text{Distance traveled by bird} = \\text{Speed} \\times \\text{Time} = 90 \\text{ mph} \\times 2.5 \\text{ hours} = 225 \\text{ miles}\n",
      "\\]\n",
      "\n",
      "---\n",
      "\n",
      "### **Answer:**\n",
      "\n",
      "The bird travels **225 miles**.\n",
      "\n",
      "---\n",
      "\n",
      "This is a classic problem where you don't need to track every back-and-forth flight; instead, find the total time of train travel and multiply by the bird's speed.\n"
     ]
    }
   ],
   "source": [
    "# Ask it again\n",
    "\n",
    "response = openai.chat.completions.create(\n",
    "    model=\"gpt-4.1-mini\",\n",
    "    messages=messages\n",
    ")\n",
    "\n",
    "answer = response.choices[0].message.content\n",
    "print(answer)\n"
   ]
  },
  {
   "cell_type": "code",
   "execution_count": 23,
   "metadata": {},
   "outputs": [
    {
     "data": {
      "text/markdown": [
       "Let's solve the problem step-by-step.\n",
       "\n",
       "---\n",
       "\n",
       "### Given:\n",
       "- Distance between two stations = 300 miles\n",
       "- Train 1 speed = 50 mph\n",
       "- Train 2 speed = 70 mph\n",
       "- Bird speed = 90 mph\n",
       "- The bird flies back and forth between the trains until they collide.\n",
       "\n",
       "---\n",
       "\n",
       "### Step 1: Calculate the time until collision\n",
       "\n",
       "The trains travel toward each other, so their relative speed is the sum of their speeds:\n",
       "\n",
       "\\[\n",
       "50 \\text{ mph} + 70 \\text{ mph} = 120 \\text{ mph}\n",
       "\\]\n",
       "\n",
       "Time until collision is:\n",
       "\n",
       "\\[\n",
       "\\text{Time} = \\frac{\\text{Distance}}{\\text{Relative speed}} = \\frac{300 \\text{ miles}}{120 \\text{ mph}} = 2.5 \\text{ hours}\n",
       "\\]\n",
       "\n",
       "---\n",
       "\n",
       "### Step 2: Calculate the distance traveled by the bird\n",
       "\n",
       "The bird keeps flying until the trains collide, so it flies for 2.5 hours at 90 mph.\n",
       "\n",
       "\\[\n",
       "\\text{Distance traveled by bird} = \\text{Speed} \\times \\text{Time} = 90 \\text{ mph} \\times 2.5 \\text{ hours} = 225 \\text{ miles}\n",
       "\\]\n",
       "\n",
       "---\n",
       "\n",
       "### **Answer:**\n",
       "\n",
       "The bird travels **225 miles**.\n",
       "\n",
       "---\n",
       "\n",
       "This is a classic problem where you don't need to track every back-and-forth flight; instead, find the total time of train travel and multiply by the bird's speed."
      ],
      "text/plain": [
       "<IPython.core.display.Markdown object>"
      ]
     },
     "metadata": {},
     "output_type": "display_data"
    }
   ],
   "source": [
    "from IPython.display import Markdown, display\n",
    "\n",
    "display(Markdown(answer))\n",
    "\n"
   ]
  },
  {
   "cell_type": "markdown",
   "metadata": {},
   "source": [
    "# Congratulations!\n",
    "\n",
    "That was a small, simple step in the direction of Agentic AI, with your new environment!\n",
    "\n",
    "Next time things get more interesting..."
   ]
  },
  {
   "cell_type": "markdown",
   "metadata": {},
   "source": [
    "<table style=\"margin: 0; text-align: left; width:100%\">\n",
    "    <tr>\n",
    "        <td style=\"width: 150px; height: 150px; vertical-align: middle;\">\n",
    "            <img src=\"../assets/exercise.png\" width=\"150\" height=\"150\" style=\"display: block;\" />\n",
    "        </td>\n",
    "        <td>\n",
    "            <h2 style=\"color:#ff7800;\">Exercise</h2>\n",
    "            <span style=\"color:#ff7800;\">Now try this commercial application:<br/>\n",
    "            First ask the LLM to pick a business area that might be worth exploring for an Agentic AI opportunity.<br/>\n",
    "            Then ask the LLM to present a pain-point in that industry - something challenging that might be ripe for an Agentic solution.<br/>\n",
    "            Finally have 3 third LLM call propose the Agentic AI solution.\n",
    "            </span>\n",
    "        </td>\n",
    "    </tr>\n",
    "</table>"
   ]
  },
  {
   "cell_type": "code",
   "execution_count": 25,
   "metadata": {},
   "outputs": [
    {
     "data": {
      "text/markdown": [
       "Claro! Aqui estão três áreas de negócio que podem ser exploradas para uma oportunidade com IA agentiva na Receita Federal do Brasil, com exemplos reais (casos de uso) que mostram o potencial:\n",
       "\n",
       "1. **Detecção e Prevenção de Fraudes Fiscais**  \n",
       "   *Caso real:* A Receita Federal utiliza sistemas de cruzamento de dados para identificar inconsistências nas declarações de imposto de renda. Uma IA agentiva poderia automatizar a análise profunda de grandes volumes de dados fiscais, identificar padrões atípicos ou suspeitos com maior precisão e agir de forma proativa, recomendando investigações ou bloqueios temporários de contribuintes com risco elevado.  \n",
       "   *Oportunidade:* Um agente inteligente que aprende continuamente dos dados históricos e adapta seus modelos para antecipar fraudes emergentes, minimizando perdas e aumentando a eficiência da fiscalização.\n",
       "\n",
       "2. **Atendimento e Suporte Automático ao Contribuinte**  \n",
       "   *Caso real:* A Receita Federal já utiliza chatbots básicos para esclarecer dúvidas sobre declaração de impostos e documentos necessários. Uma IA agentiva poderia atuar de forma mais autônoma, entendendo consultas complexas, guiando os contribuintes em procedimentos específicos, personalizando respostas e até sugerindo a melhor forma de regularização ou benefícios fiscais.  \n",
       "   *Oportunidade:* Um assistente virtual avançado que interaja de forma natural, reduzindo a necessidade de atendimento humano e melhorando a experiência do cidadão.\n",
       "\n",
       "3. **Análise e Otimização da Arrecadação Tributária**  \n",
       "   *Caso real:* A Receita Federal monitora o desempenho da arrecadação e ajusta estratégias de fiscalização e incentivos. Uma IA agentiva pode integrar dados econômicos, comportamento do contribuinte e tendências do mercado para prever variações na arrecadação, sugerir ajustes em políticas, identificar setores vulneráveis à evasão fiscal e automatizar relatórios gerenciais.  \n",
       "   *Oportunidade:* Uma ferramenta inteligente que apoie a tomada de decisão estratégica, otimizando recursos e aumentando a eficiência da arrecadação estatal.\n",
       "\n",
       "Essas áreas combinam alto impacto para a Receita Federal com viabilidade técnica para o desenvolvimento de agentes inteligentes que atuem com autonomia e aprendizado contínuo."
      ],
      "text/plain": [
       "<IPython.core.display.Markdown object>"
      ]
     },
     "metadata": {},
     "output_type": "display_data"
    }
   ],
   "source": [
    "# First create the messages:\n",
    "\n",
    "messages = [{\"role\": \"user\", \"content\": \"pick 3 business area that might be worth exploring for an Agentic AI opportunity. Use casos reais para a Receita Federal do Brasil. Responda em Portugues.\"}]\n",
    "\n",
    "# Then make the first call:\n",
    "\n",
    "response = openai.chat.completions.create(\n",
    "    model=\"gpt-4.1-mini\",\n",
    "    messages=messages\n",
    ")\n",
    "\n",
    "# Then read the business idea:\n",
    "\n",
    "business_idea = response.choices[0].message.content\n",
    "display(Markdown(business_idea))\n",
    "\n",
    "# And repeat!"
   ]
  },
  {
   "cell_type": "code",
   "execution_count": 26,
   "metadata": {},
   "outputs": [
    {
     "data": {
      "text/markdown": [
       "Claro! Aqui estão 3 exemplos de uso de IA para automatizar rotinas domésticas nessa família:\n",
       "\n",
       "1. **Assistente Virtual para Gerenciamento de Compras**  \n",
       "   Utilizar um assistente virtual com reconhecimento de voz e interface simples, que permita à empregada doméstica (mesmo com baixa instrução) registrar facilmente os itens que estão acabando. O sistema pode monitorar o estoque de mantimentos, produtos de limpeza e outros, sugerindo automaticamente novas compras e criando listas de mercado inteligentes, que podem ser enviadas direto para o celular dos adultos responsáveis ou integradas com serviços de delivery.\n",
       "\n",
       "2. **Sistema de Reposição Automática com IA**  \n",
       "   Implementar uma plataforma que, por meio de sensores ou registros manuais simples feitos pela empregada, monitore o uso dos produtos domésticos. A IA pode prever o consumo baseado em padrões anteriores da família e realizar pedidos automáticos para fornecedores ou supermercados parceiros, garantindo que nunca falte nada em casa e evitando compras desnecessárias.\n",
       "\n",
       "3. **App de Planejamento e Organização Doméstica com IA**  \n",
       "   Uma aplicação móvel com interface intuitiva e recursos de IA que organiza as tarefas da casa, incluindo controle de estoque e compras, dividindo responsabilidades entre os membros da família e a empregada doméstica. A IA pode enviar lembretes e alertas sobre quando comprar determinados produtos, além de oferecer sugestões baseadas no histórico de consumo e promoções locais, facilitando o planejamento semanal das compras e o controle do orçamento.\n",
       "\n",
       "Essas soluções ajudam a otimizar o tempo da família e da empregada doméstica, tornando as tarefas mais simples, organizadas e eficientes."
      ],
      "text/plain": [
       "<IPython.core.display.Markdown object>"
      ]
     },
     "metadata": {},
     "output_type": "display_data"
    }
   ],
   "source": [
    "# First create the messages:\n",
    "\n",
    "messages = [{\"role\": \"user\", \"content\": \"Pegue 3 exemplos de uso de IA para automatizar rotinas domésticas de uma família de 2 adultos e 2 jovens moças. Nessa residência trabalha uma empregada doméstica com baixa instrução educacional. A família tem dificuldade em administrar de forma eficiente e automatizada as compras de mantimentos, material de limpeza e outros produtos.  Responda em Portugues.\"}]\n",
    "\n",
    "# Then make the first call:\n",
    "\n",
    "response = openai.chat.completions.create(\n",
    "    model=\"gpt-4.1-mini\",\n",
    "    messages=messages\n",
    ")\n",
    "\n",
    "# Then read the business idea:\n",
    "\n",
    "domestic = response.choices[0].message.content\n",
    "display(Markdown(domestic))\n",
    "\n",
    "# And repeat!"
   ]
  },
  {
   "cell_type": "code",
   "execution_count": 28,
   "metadata": {},
   "outputs": [
    {
     "data": {
      "text/markdown": [
       "Claro! Aqui estão três exemplos de uso de Inteligência Artificial (IA) para definir atividades da divisão de gestão de ativos de informações, vinculada à coordenação de governança de dados na Receita Federal do Brasil:\n",
       "\n",
       "1. **Classificação e Catalogação Automatizada de Dados**  \n",
       "Utilizar algoritmos de IA para identificar, classificar e catalogar automaticamente os ativos de informações da Receita Federal, facilitando a organização, o controle e o monitoramento dos dados. O sistema pode usar técnicas de processamento de linguagem natural (PLN) para extrair metadados relevantes, identificar sensibilidade e conformidade regulatória, ajudando a manter o catálogo de dados atualizado e alinhado às políticas internas e à LGPD.\n",
       "\n",
       "2. **Monitoramento e Detecção de Anomalias em Ativos de Dados**  \n",
       "Implementar modelos de machine learning para monitorar continuamente o uso, acesso e transferência dos ativos de informações, detectando comportamentos anômalos ou não conformidades que possam indicar riscos à segurança, vazamento de dados ou uso indevido. Isto permite intervenção rápida e preventiva, reforçando a governança e a proteção dos dados estratégicos da Receita Federal.\n",
       "\n",
       "3. **Automação de Processos para Auditoria e Conformidade de Dados**  \n",
       "Desenvolver agentes inteligentes que automatizam atividades como auditoria periódica de qualidade, integridade e conformidade dos ativos de dados, gerando relatórios detalhados e recomendações para a coordenação de governança. Esses sistemas podem cruzar informações de diferentes bases, identificar inconsistências e apoiar na tomada de decisão para o aperfeiçoamento dos controles internos.\n",
       "\n",
       "Se desejar, posso ajudar a detalhar algum desses exemplos ou sugerir outras ideias específicas!"
      ],
      "text/plain": [
       "<IPython.core.display.Markdown object>"
      ]
     },
     "metadata": {},
     "output_type": "display_data"
    }
   ],
   "source": [
    "# First create the messages:\n",
    "\n",
    "messages = [{\"role\": \"user\", \"content\": \"Ajude-me a criar 3 exemplos de uso de IA para definir atividades da divisão de gestão de ativos informações, ligada a coordenação de governança de dados na Receita Federal do Brasil. Trata-se de uma área nova, que está sendo criada para atender a demanda de governança de dados da Receita Federal do Brasil. Responda em Portugues.\"\n",
    "}]\n",
    "\n",
    "# Then make the first call:\n",
    "\n",
    "response = openai.chat.completions.create(\n",
    "    model=\"gpt-4.1-mini\",\n",
    "    messages=messages\n",
    ")\n",
    "\n",
    "# Then read the business idea:\n",
    "\n",
    "digain = response.choices[0].message.content\n",
    "display(Markdown(digain))\n",
    "\n",
    "# And repeat!"
   ]
  },
  {
   "cell_type": "code",
   "execution_count": 29,
   "metadata": {},
   "outputs": [
    {
     "data": {
      "text/markdown": [
       "Claro! A seguir, apresento uma proposta para as 3 principais atividades da Divisão de Gestão de Ativos de Informação, vinculada à Coordenação de Governança de Dados da Receita Federal do Brasil (RFB), além de um roteiro de trabalho com projetos organizados em curto, médio e longo prazo.\n",
       "\n",
       "---\n",
       "\n",
       "### Principais Atividades da Divisão de Gestão de Ativos de Informação\n",
       "\n",
       "1. **Mapeamento e Inventário dos Ativos de Informação**  \n",
       "   Realizar o levantamento, classificação e cadastro sistemático de todos os ativos de informação da Receita Federal, incluindo bases de dados, sistemas, documentos e metadados, para garantir visibilidade e controle sobre os dados institucionais.\n",
       "\n",
       "2. **Definição e Implementação de Políticas de Qualidade e Segurança da Informação**  \n",
       "   Estabelecer normas, padrões e procedimentos para garantir a integridade, confiabilidade, disponibilidade e confidencialidade dos ativos de informação, promovendo práticas de qualidade dos dados e atendimento às legislações vigentes (LGPD, Lei de Acesso à Informação etc.).\n",
       "\n",
       "3. **Monitoramento e Gestão do Ciclo de Vida dos Dados**  \n",
       "   Gerenciar o ciclo completo dos ativos de informação, desde a sua criação até o descarte, controlando versões, permissões de acesso e promovendo a governança proativa para assegurar que os dados estejam atualizados, documentados e adequados para suporte à tomada de decisões estratégicas.\n",
       "\n",
       "---\n",
       "\n",
       "### Roteiro de Trabalho com Projetos\n",
       "\n",
       "#### Curto Prazo (0 a 6 meses)\n",
       "- **Projeto 1: Diagnóstico e Inventário Inicial dos Ativos de Informação**  \n",
       "  Levantamento rápido dos principais sistemas e bases de dados existentes, com cadastramento preliminar e identificação dos responsáveis pelos dados em áreas estratégicas da RFB.  \n",
       "- **Projeto 2: Criação do Manual de Governança e Políticas de Dados**  \n",
       "  Desenvolvimento de um documento base que estabeleça objetivos, responsabilidades e diretrizes iniciais para a governança e gestão dos ativos de informação.  \n",
       "- **Projeto 3: Capacitação e Sensibilização Interna**  \n",
       "  Realização de workshops e treinamentos básicos para servidores-chave sobre a importância da gestão dos ativos e noções iniciais de governança e segurança de dados.\n",
       "\n",
       "#### Médio Prazo (6 meses a 1 ano)\n",
       "- **Projeto 4: Implantação de Ferramentas de Inventário e Controle**  \n",
       "  Seleção e implementação de software para gerenciamento centralizado de ativos de informação, integrando sistemas e promovendo a atualização constante do cadastro.  \n",
       "- **Projeto 5: Estabelecimento de Indicadores de Qualidade e Segurança dos Dados**  \n",
       "  Definição e monitoramento de métricas que permitam medir a confiabilidade, integridade e conformidade dos dados gerenciados.  \n",
       "- **Projeto 6: Desenvolvimento de Procedimentos para Gestão do Ciclo de Vida dos Dados**  \n",
       "  Criar processos formais para classificação, armazenamento, arquivamento e descarte seguro de dados, contemplando riscos e requisitos legais.\n",
       "\n",
       "#### Longo Prazo (1 a 3 anos)\n",
       "- **Projeto 7: Automação e Integração de Governança de Dados com Outros Sistemas da RFB**  \n",
       "  Implantar soluções tecnológicas avançadas para integração do inventário de ativos com plataformas de análise e inteligência da Receita Federal.  \n",
       "- **Projeto 8: Implantação de Cultura de Dados e Governança em Toda a Organização**  \n",
       "  Programas contínuos de treinamento, comunicação e disseminação das melhores práticas para todos os níveis hierárquicos da RFB.  \n",
       "- **Projeto 9: Revisão e Atualização Contínua das Políticas e Diretrizes**  \n",
       "  Manter o arcabouço normativo atualizado diante das mudanças legais, tecnológicas e estratégicas da Receita, garantindo aprimoramento constante da gestão de ativos de informação.\n",
       "\n",
       "---\n",
       "\n",
       "Espero que essa estrutura ajude a organizar a criação e o desenvolvimento da nova divisão, alinhando as demandas iniciais com um plano estratégico consistente para a governança de dados da Receita Federal do Brasil. Caso queira, posso detalhar cada projeto ou ajudar na elaboração de documentos específicos."
      ],
      "text/plain": [
       "<IPython.core.display.Markdown object>"
      ]
     },
     "metadata": {},
     "output_type": "display_data"
    }
   ],
   "source": [
    "# First create the messages:\n",
    "\n",
    "messages = [{\"role\": \"user\", \"content\": \"Ajude-me a definir 3 principais atividades da divisão de gestão de ativos informações, ligada a coordenação de governança de dados na Receita Federal do Brasil. Trata-se de uma área nova, que está sendo criada para atender a demanda de governança de dados da Receita Federal do Brasil. Elabore um roteiro de trabalho com projetos de curto, médio e longo prazo. Responda em Portugues.\"\n",
    "}]\n",
    "\n",
    "# Then make the first call:\n",
    "\n",
    "response = openai.chat.completions.create(\n",
    "    model=\"gpt-4.1-mini\",\n",
    "    messages=messages\n",
    ")\n",
    "\n",
    "# Then read the business idea:\n",
    "\n",
    "digain = response.choices[0].message.content\n",
    "display(Markdown(digain))\n",
    "\n",
    "# And repeat!"
   ]
  },
  {
   "cell_type": "markdown",
   "metadata": {},
   "source": []
  }
 ],
 "metadata": {
  "kernelspec": {
   "display_name": ".venv",
   "language": "python",
   "name": "python3"
  },
  "language_info": {
   "codemirror_mode": {
    "name": "ipython",
    "version": 3
   },
   "file_extension": ".py",
   "mimetype": "text/x-python",
   "name": "python",
   "nbconvert_exporter": "python",
   "pygments_lexer": "ipython3",
   "version": "3.12.0"
  }
 },
 "nbformat": 4,
 "nbformat_minor": 2
}
