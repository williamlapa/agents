{
 "cells": [
  {
   "cell_type": "markdown",
   "metadata": {},
   "source": [
    "## Welcome to Week 4, Day 4\n",
    "\n",
    "This is the start of an AWESOME project! Really simple and very effective."
   ]
  },
  {
   "cell_type": "markdown",
   "metadata": {},
   "source": [
    "### First - a heads up for Windows PC users\n",
    "\n",
    "While executing this notebook, you might hit a problem with the Playwright browser raising a NotImplementedError.\n",
    "\n",
    "This should work when we move to python modules, but it can cause problems in Windows in a notebook.\n",
    "\n",
    "If you it this error and would like to run the notebook, you need to make a small change which seems quite hacky!\n",
    "\n",
    "1. Right click in `.venv` in the File Explorer on the left and select \"Find in folder\"\n",
    "2. Search for `asyncio.set_event_loop_policy(WindowsSelectorEventLoopPolicy())`  \n",
    "3. That code should be found in a line of code in a file called `kernelapp.py`\n",
    "4. Comment out that line of code in that file! And save the file.\n",
    "5. Restart the kernel by pressing the \"Restart\" button above\n",
    "\n",
    "Thank you to student Nicolas for finding this, and to Yaki, Zibin and Bhaskar for confirming that this worked for them!"
   ]
  },
  {
   "cell_type": "code",
   "execution_count": 1,
   "metadata": {},
   "outputs": [],
   "source": [
    "from typing import Annotated\n",
    "from typing_extensions import TypedDict\n",
    "from langgraph.graph import StateGraph, START\n",
    "from langgraph.graph.message import add_messages\n",
    "from dotenv import load_dotenv\n",
    "from IPython.display import Image, display\n",
    "import gradio as gr\n",
    "from langgraph.prebuilt import ToolNode, tools_condition\n",
    "import requests\n",
    "import os\n",
    "from langchain.agents import Tool\n",
    "\n",
    "from langchain_openai import ChatOpenAI\n",
    "from langgraph.checkpoint.memory import MemorySaver"
   ]
  },
  {
   "cell_type": "code",
   "execution_count": 2,
   "metadata": {},
   "outputs": [
    {
     "data": {
      "text/plain": [
       "True"
      ]
     },
     "execution_count": 2,
     "metadata": {},
     "output_type": "execute_result"
    }
   ],
   "source": [
    "load_dotenv(override=True)"
   ]
  },
  {
   "cell_type": "markdown",
   "metadata": {},
   "source": [
    "### Asynchronous LangGraph\n",
    "\n",
    "To run a tool:  \n",
    "Sync: `tool.run(inputs)`  \n",
    "Async: `await tool.arun(inputs)`\n",
    "\n",
    "To invoke the graph:  \n",
    "Sync: `graph.invoke(state)`  \n",
    "Async: `await graph.ainvoke(state)`"
   ]
  },
  {
   "cell_type": "code",
   "execution_count": 3,
   "metadata": {},
   "outputs": [],
   "source": [
    "class State(TypedDict):\n",
    "    \n",
    "    messages: Annotated[list, add_messages]\n",
    "\n",
    "\n",
    "graph_builder = StateGraph(State)"
   ]
  },
  {
   "cell_type": "code",
   "execution_count": 4,
   "metadata": {},
   "outputs": [],
   "source": [
    "pushover_token = os.getenv(\"PUSHOVER_TOKEN\")\n",
    "pushover_user = os.getenv(\"PUSHOVER_USER\")\n",
    "pushover_url = \"https://api.pushover.net/1/messages.json\"\n",
    "\n",
    "def push(text: str):\n",
    "    \"\"\"Send a push notification to the user\"\"\"\n",
    "    requests.post(pushover_url, data = {\"token\": pushover_token, \"user\": pushover_user, \"message\": text})\n",
    "\n",
    "tool_push = Tool(\n",
    "        name=\"send_push_notification\",\n",
    "        func=push,\n",
    "        description=\"useful for when you want to send a push notification\"\n",
    "    )"
   ]
  },
  {
   "cell_type": "markdown",
   "metadata": {},
   "source": [
    "### Next: Install Playwright\n",
    "\n",
    "On Windows and MacOS:  \n",
    "`playwright install`\n",
    "\n",
    "On Linux:  \n",
    "`playwright install —with-reps chromium`"
   ]
  },
  {
   "cell_type": "code",
   "execution_count": 5,
   "metadata": {},
   "outputs": [],
   "source": [
    "!playwright install"
   ]
  },
  {
   "cell_type": "markdown",
   "metadata": {},
   "source": [
    "### Introducing nest_asyncio\n",
    "\n",
    "Python async code only allows for one \"event loop\" processing aynchronous events.\n",
    "\n",
    "The `nest_asyncio` library patches this, and is used for special situations, if you need to run a nested event loop.\n",
    "\n"
   ]
  },
  {
   "cell_type": "code",
   "execution_count": 6,
   "metadata": {},
   "outputs": [],
   "source": [
    "import nest_asyncio\n",
    "nest_asyncio.apply()"
   ]
  },
  {
   "cell_type": "markdown",
   "metadata": {},
   "source": [
    "### The LangChain community\n",
    "\n",
    "One of the remarkable things about LangChain is the rich community around it.\n",
    "\n",
    "Check this out:\n"
   ]
  },
  {
   "cell_type": "code",
   "execution_count": 7,
   "metadata": {},
   "outputs": [],
   "source": [
    "from langchain_community.agent_toolkits import PlayWrightBrowserToolkit\n",
    "from langchain_community.tools.playwright.utils import create_async_playwright_browser\n",
    "\n",
    "async_browser =  create_async_playwright_browser(headless=False)  # headful mode\n",
    "toolkit = PlayWrightBrowserToolkit.from_browser(async_browser=async_browser)\n",
    "tools = toolkit.get_tools()"
   ]
  },
  {
   "cell_type": "code",
   "execution_count": 9,
   "metadata": {},
   "outputs": [
    {
     "name": "stdout",
     "output_type": "stream",
     "text": [
      "click_element=async_browser=<Browser type=<BrowserType name=chromium executable_path=C:\\Users\\willi\\AppData\\Local\\ms-playwright\\chromium-1169\\chrome-win\\chrome.exe> version=136.0.7103.25>\n",
      "navigate_browser=async_browser=<Browser type=<BrowserType name=chromium executable_path=C:\\Users\\willi\\AppData\\Local\\ms-playwright\\chromium-1169\\chrome-win\\chrome.exe> version=136.0.7103.25>\n",
      "previous_webpage=async_browser=<Browser type=<BrowserType name=chromium executable_path=C:\\Users\\willi\\AppData\\Local\\ms-playwright\\chromium-1169\\chrome-win\\chrome.exe> version=136.0.7103.25>\n",
      "extract_text=async_browser=<Browser type=<BrowserType name=chromium executable_path=C:\\Users\\willi\\AppData\\Local\\ms-playwright\\chromium-1169\\chrome-win\\chrome.exe> version=136.0.7103.25>\n",
      "extract_hyperlinks=async_browser=<Browser type=<BrowserType name=chromium executable_path=C:\\Users\\willi\\AppData\\Local\\ms-playwright\\chromium-1169\\chrome-win\\chrome.exe> version=136.0.7103.25>\n",
      "get_elements=async_browser=<Browser type=<BrowserType name=chromium executable_path=C:\\Users\\willi\\AppData\\Local\\ms-playwright\\chromium-1169\\chrome-win\\chrome.exe> version=136.0.7103.25>\n",
      "current_webpage=async_browser=<Browser type=<BrowserType name=chromium executable_path=C:\\Users\\willi\\AppData\\Local\\ms-playwright\\chromium-1169\\chrome-win\\chrome.exe> version=136.0.7103.25>\n"
     ]
    }
   ],
   "source": [
    "for tool in tools:\n",
    "    print(f\"{tool.name}={tool}\")"
   ]
  },
  {
   "cell_type": "code",
   "execution_count": 13,
   "metadata": {},
   "outputs": [],
   "source": [
    "tool_dict = {tool.name:tool for tool in tools}\n",
    "\n",
    "navigate_tool = tool_dict.get(\"navigate_browser\")\n",
    "extract_text_tool = tool_dict.get(\"extract_text\")\n",
    "\n",
    "    \n",
    "await navigate_tool.arun({\"url\": \"https://www.cnn.com\"})\n",
    "text = await extract_text_tool.arun({})"
   ]
  },
  {
   "cell_type": "code",
   "execution_count": 14,
   "metadata": {},
   "outputs": [
    {
     "name": "stdout",
     "output_type": "stream",
     "text": [
      "Breaking News, Latest News and Videos | CNN CNN values your feedback\n",
      "1. How relevant is this ad to you? 2. Did you encounter any technical\n",
      "issues? No Video player was slow to load content Video content never\n",
      "loaded Ad froze or did not finish loading Video content did not start\n",
      "after ad Audio on ad was too loud Other issues Ad never loaded Ad\n",
      "prevented/slowed the page from loading Content moved around while ad\n",
      "loaded Ad was repetitive to ads I've seen previously Other issues\n",
      "Cancel Submit Thank You! Your effort and contribution in providing\n",
      "this feedback is much\n",
      "appreciated. Close Ad Feedback Close icon US World Politics Business\n",
      "Health Entertainment Style Travel Sports Science Climate Weather\n",
      "Ukraine-Russia War Israel-Hamas War Games More US World Politics\n",
      "Business Health Entertainment Style Travel Sports Science Climate\n",
      "Weather Ukraine-Russia War Israel-Hamas War Games Watch Listen Live TV\n",
      "Subscribe Sign in My Account Settings Newsletters Topics you follow\n",
      "Sign out Your CNN account Sign in to your CNN account Sign in My\n",
      "Account Settings Newsletters Topics you follow Sign out Your CNN\n",
      "account Sign in to your CNN account Live TV Listen Watch Edition US\n",
      "International Arabic Español Edition US International Arabic Español\n",
      "World Africa Americas Asia Australia China Europe India Middle East\n",
      "United Kingdom US Politics Trump Facts First CNN Polls 2025 Elections\n",
      "Business Tech Media Calculators Videos Markets Pre-markets After-Hours\n",
      "Fear & Greed Investing Markets Now Nightcap Health Life, But Better\n",
      "Fitness Food Sleep Mindfulness Relationships Entertainment Movies\n",
      "Television Celebrity Tech Innovate Foreseeable Future Mission: Ahead\n",
      "Work Transformed Innovative Cities Style Arts Design Fashion\n",
      "Architecture Luxury Beauty Video Travel Destinations Food & Drink Stay\n",
      "News Videos Sports Football Tennis Golf Motorsport US Sports Olympics\n",
      "Climbing Esports Hockey Science Space Life Unearthed Climate Solutions\n",
      "Weather Weather Video Climate Ukraine-Russia War Israel-Hamas War\n",
      "Features As Equals Call to Earth Freedom Project Impact Your World\n",
      "Inside Africa CNN Heroes Watch Live TV CNN Fast Shows A-Z CNN10 CNN\n",
      "Max CNN TV Schedules Listen CNN 5 Things Chasing Life with Dr. Sanjay\n",
      "Gupta The Assignment with Audie Cornish One Thing Tug of War CNN\n",
      "Political Briefing The Axe Files All There Is with Anderson Cooper All\n",
      "CNN Audio podcasts Games Daily Crossword Jumble Crossword Sudoblock\n",
      "Sudoku 5 Things Quiz About CNN Photos Investigations CNN Profiles CNN\n",
      "Leadership CNN Newsletters Work for CNN Follow CNN LA protests Austria\n",
      "school shooting Russia-Ukraine war Greta Thunberg Indian container\n",
      "ship fire Most beautiful castles Glamorous farm stays Victor\n",
      "Wembanyama Protests pop up across US as Trump doubles down on LA\n",
      "Show all • Live Updates Live Updates AP/Getty Images/Reuters Live\n",
      "Updates About 700 Marines and 2,000 additional National Guard members\n",
      "are being mobilized; LA mayor says her city is being ‘used for an\n",
      "experiment’ in federal authority Gallery Barricades and burning taxis:\n",
      "LA protests in photos Analysis Trump is acting like an authoritarian;\n",
      "California’s crisis now rests on what he does next The Mexican flag\n",
      "has become a defining symbol of the LA protests As ICE stages raids\n",
      "across L.A., local police and officials say they are left in the dark\n",
      "Who are the people protesting in Los Angeles? Hegseth facing questions\n",
      "over cost of military’s involvement in LA protests Analysis Why\n",
      "Trump’s move toward using the military on US soil is so fraught •\n",
      "Video 1:17 CNN CNN crew escorted away from protest zone by LAPD 1:17 •\n",
      "Video 1:08 CNN Los Angeles mayor slams vandalism during protests 1:08\n",
      "• Video 1:24 CNN Former foreign minister of Mexico reacts to\n",
      "Kinzinger’s comments on Mexican flags at protests 1:24 • Video 1:06\n",
      "CNN Trump suggests border czar should arrest Newsom. See Homan’s\n",
      "reaction 1:06 • Video 0:36 Gobierno de México Mexico’s president\n",
      "responds to LA protests 0:36 • Video 0:55 Getty Images Why LA is such\n",
      "a hotspot for immigration unrest 0:55 • Video 3:09 CNN Los Angeles\n",
      "mayor blames immigration raids for violence 3:09 • Video 0:53 David\n",
      "Swanson/Reuters CNN correspondent explains why LA is such a hotspot\n",
      "for immigration unrest 0:53 • Video 1:55 Getty Images What would it\n",
      "take for Trump to send active military to streets of LA? 1:55 Kleine\n",
      "Zeitung/AP Gunman opens fire in Austrian school, killing nine and\n",
      "throwing country into shock Israel Foreign Ministry/X/Reuters Greta\n",
      "Thunberg departs Israel on flight to Paris after detention aboard aid\n",
      "ship Getty Images/Reuters Massive Russian drone attack slams Kyiv and\n",
      "hits maternity hospital in Odesa, Ukrainian officials say Putin\n",
      "promised to make Ukraine pay for its airbase attacks. What does he\n",
      "have left? Play Catch up on today's global news - Source: CNN Video\n",
      "Catch up on today’s news Lyle Johnson/Design Pics Editorial/Universal\n",
      "Images Group/Getty Images World’s most beautiful castles • Live\n",
      "Updates Live Updates Reuters Live Updates Jane says she didn’t\n",
      "understand the ‘the terms and conditions’ of her relationship with\n",
      "Combs at first d3sign/Moment RF/Getty Images Financial constraints big\n",
      "driver of global ‘fertility crisis,’ UN finds Fred Lee/Getty Images\n",
      "World’s tallest monk? Victor Wembanyama spotted at China’s Shaolin\n",
      "Temple with shaved head Mondadori Portfolio /Getty Images 18-year-old\n",
      "swimming sensation breaks decade-old world record • Video 1:30 Comedy\n",
      "Central Video Jon Stewart on the art of distraction 1:30 Ad Feedback\n",
      "More top stories Show all Getty Images UK, Canada and Western allies\n",
      "sanction two far-right Israeli government ministers France says\n",
      "Palestinian Authority makes ‘unprecedented commitments’ to reform\n",
      "ahead of conference on statehood Multiple explosions reported in\n",
      "Colombian city of Cali ‘Disruptions all over the place’ if today’s\n",
      "China talks fail Horror of Pakistani teen’s murder compounded by\n",
      "‘digital vigilantism’ blaming women who dare to be online Video See\n",
      "what’s coming to your iPhone and other Apple devices 1:51 Guillaume\n",
      "Souvant/AFP via Getty Images A family thought the sculpture on their\n",
      "piano was a ‘fake’ Rodin. Now it’s sold for nearly $1 million Noe\n",
      "DeWitt/Wildflower Farms At $3,000 a night, luxury farm resorts are the\n",
      "next glamorous getaway Courtesy Diego Garcia Running across the entire\n",
      "Australian continent in 35 days seems impossible. Not for this\n",
      "ultrarunner Ad Feedback Justin Sullivan/Getty Images Analysis Apple\n",
      "may be the only tech company getting AI right, actually Jun 10, 2025\n",
      "Valerie Plesch/For The Washington Post via Getty Images Smithsonian\n",
      "says it’s committed to being free from ‘partisan influence’ after\n",
      "Trump tries to remove gallery director Jun 10, 2025 Visual China\n",
      "Group/Getty Images China to make all hospitals offer epidurals to\n",
      "incentivize childbirth Jun 10, 2025 Ad Feedback Jeff Chiu/AP Mark\n",
      "Zuckerberg is reportedly recruiting a team to build a\n",
      "‘superintelligence’ Chris Young/AP Canada plans to hit NATO spending\n",
      "target early and reduce reliance on US defense: Carney Hector\n",
      "Retamal/AFP/Getty Images Global economy on track for worst decade\n",
      "since 1960s, World Bank warns • Video 1:14 Schmidt et\n",
      "al./NJIT/NSO/AURA/NSF Video New tech reveals never-before-seen details\n",
      "in solar corona 1:14 David Levenson/Shutterstock Princess Diana gowns\n",
      "star in ‘largest’ auction of late royal’s fashion Joe Doucet x\n",
      "Partners This pigment changes color depending on the temperature. It\n",
      "could revolutionize the home Ashit Desai/Moment Unreleased RF/Getty\n",
      "Images Indian town’s abandoned European-style mansions are a throwback\n",
      "to its opulent past Getty Images Justin Baldoni and Blake Lively’s\n",
      "legal fight isn’t over Ahn Young-joon/AP BTS stars finish military\n",
      "service as band plans to reunite this year Courtesy Cameron Mofid Why\n",
      "this 25-year-old American decided to travel to every country in the\n",
      "world • Video 2:43 CNN Video TV is OK. Cell phones aren't. Here is\n",
      "where you're messing up your circadian rhythm 2:43 Ad Feedback\n",
      "Featured Sections Style Gareth Davies/Mission Pictures/Getty Images\n",
      "Remember when Liz Hurley wore ‘that’ dress? He drove a bulldozer at\n",
      "Asia’s first World Expo. Now, he’s one of the event’s star architects\n",
      "Facelifts aren’t just to combat aging. Young people are using it to\n",
      "finesse facial features Asian painters were marginalized during 1920s\n",
      "Paris. Now their artworks fetch millions at auction Global Travel\n",
      "Show all Boom Supersonic America’s skies may soon open up to\n",
      "supersonic travel. But there’s still a big problem Once home to the\n",
      "CIA, this tiny Southeast Asia runway was considered ‘the most secret\n",
      "place on Earth’ Double-decker passenger planes are a dying breed.\n",
      "These airlines are keeping them alive 14 Spanish dishes everyone\n",
      "should try – from churros to jamón Ad Feedback Global Business Getty\n",
      "Images/Cavan Images RF How the $1,000-per-baby ‘Trump accounts’ would\n",
      "work and who would benefit most Leaders of ‘orgasmic meditation’\n",
      "company OneTaste convicted in forced labor trial ‘This is not over’:\n",
      "Tesla Takedown protesters keep pressure on Elon Musk despite DOGE exit\n",
      "CNN Exclusive Most US workers struggle with their schedules. Here’s\n",
      "why employers should care Space and science Tayfun\n",
      "Coskun/Anadolu/Getty Images A phenomenon last seen in 2006 will make\n",
      "June’s full moon the lowest in the Northern Hemisphere in decades AI\n",
      "analysis of ancient handwriting gives new age estimates for Dead Sea\n",
      "Scrolls A surprising study found hints of biological activity on a\n",
      "distant planet. Now, scientists say there’s more to the story ‘Never\n",
      "quit the lunar quest’ was this moon mission’s motto. Here’s its tragic\n",
      "tale SPORT Show all CNN Sarina Wiegman and England women starting from\n",
      "‘zero’ heading into Euro 2025 Florida Panthers dominate Game 3 of the\n",
      "Stanley Cup Final as frustrations boil over for the Edmonton Oilers\n",
      "Analysis Carlos Alcaraz and Jannik Sinner’s epic French Open final\n",
      "proved the future of men’s tennis is in good hands Summer McIntosh\n",
      "breaks another world record, smashing decade-old 200m individual\n",
      "medley mark Ad Feedback US Politics AP/Imagn Images What to watch in\n",
      "Tuesday’s primaries for New Jersey governor GOP lawmakers uneasy about\n",
      "package to codify DOGE cuts ahead of House vote this week Trump’s new\n",
      "travel ban takes effect as tensions escalate over immigration\n",
      "enforcement health and wellness • CNN Exclusive CNN Exclusive Kobus\n",
      "Louw/E+/Getty Images CNN Exclusive Most US workers face unpredictable,\n",
      "inflexible schedules — here’s why that could hurt employers Men are\n",
      "more likely than women to die of broken heart syndrome, study finds\n",
      "RFK Jr. is investigating infant formula. Here’s what’s at stake Your\n",
      "coffee habit could be linked to healthier aging, study finds Tech •\n",
      "Analysis Analysis Rneaw/iStockphoto/Getty Images Analysis The next\n",
      "tech revolution probably won’t look anything like the last one The\n",
      "biggest updates Apple just announced for the iPhone, Apple Watch and\n",
      "other major products Why this key chip technology is crucial to the AI\n",
      "race between the US and China Photos You Should See • Gallery Gallery\n",
      "Brendan McDermid/Reuters Gallery The best photos from the 2025 Tony\n",
      "Awards • Gallery Gallery Matthew Eisman/Getty Images Gallery People\n",
      "we’ve lost in 2025 • Gallery Gallery Dan Campisi/CNN Gallery Stunning\n",
      "architecture unveiled at Japan’s World Expo • Gallery Gallery Sara\n",
      "Krulwich/The New York Times/Redux Gallery In pictures: 10 years of\n",
      "‘Hamilton’ • Gallery Gallery Dendrinos/MOm Gallery Mediterranean monk\n",
      "seals: Back from the brink • Gallery Gallery Lisa Michele Burns\n",
      "Gallery Australia’s most jaw-dropping landscapes Ad Feedback In Case\n",
      "You Missed It Taylor Hill/FilmMagic/Getty Images Judge dismisses\n",
      "Justin Baldoni’s $400 million defamation lawsuit against Blake Lively\n",
      "and Ryan Reynolds Sports betting is legal and growing more popular.\n",
      "Harassment of athletes by angry gamblers is rising too Brother of AG\n",
      "Pam Bondi and a former Ed Martin aide lose their bids to take over DC\n",
      "Bar London’s newest and most exclusive hotel penthouses start at\n",
      "$50,000 a night Heavyweight boxing champion Usyk pleads with Trump,\n",
      "inviting him to spend a week in Ukraine: ‘Open your eyes, help my\n",
      "people’ RFK Jr. removes all current members of CDC vaccine advisory\n",
      "committee Judge denies Sean ‘Diddy’ Combs’ second request for\n",
      "mistrial, likens cross-examination to ‘Perry Mason moment’ Satellite\n",
      "images show damaged North Korean warship moved to drydock near Russian\n",
      "border Subscribe Sign in My Account Settings Newsletters Topics you\n",
      "follow Sign out Your CNN account Sign in to your CNN account Live TV\n",
      "Listen Watch World Africa Americas Asia Australia China Europe India\n",
      "Middle East United Kingdom US Politics Trump Facts First CNN Polls\n",
      "2025 Elections Business Tech Media Calculators Videos Markets Pre-\n",
      "markets After-Hours Fear & Greed Investing Markets Now Nightcap Health\n",
      "Life, But Better Fitness Food Sleep Mindfulness Relationships\n",
      "Entertainment Movies Television Celebrity Tech Innovate Foreseeable\n",
      "Future Mission: Ahead Work Transformed Innovative Cities Style Arts\n",
      "Design Fashion Architecture Luxury Beauty Video Travel Destinations\n",
      "Food & Drink Stay News Videos Sports Football Tennis Golf Motorsport\n",
      "US Sports Olympics Climbing Esports Hockey Science Space Life\n",
      "Unearthed Climate Solutions Weather Weather Video Climate Ukraine-\n",
      "Russia War Israel-Hamas War Features As Equals Call to Earth Freedom\n",
      "Project Impact Your World Inside Africa CNN Heroes Watch Live TV CNN\n",
      "Fast Shows A-Z CNN10 CNN Max CNN TV Schedules Listen CNN 5 Things\n",
      "Chasing Life with Dr. Sanjay Gupta The Assignment with Audie Cornish\n",
      "One Thing Tug of War CNN Political Briefing The Axe Files All There Is\n",
      "with Anderson Cooper All CNN Audio podcasts Games Daily Crossword\n",
      "Jumble Crossword Sudoblock Sudoku 5 Things Quiz About CNN Photos\n",
      "Investigations CNN Profiles CNN Leadership CNN Newsletters Work for\n",
      "CNN Watch Listen Live TV Follow CNN Subscribe Sign in My Account\n",
      "Settings Newsletters Topics you follow Sign out Your CNN account Sign\n",
      "in to your CNN account Terms of Use Privacy Policy Cookie Settings Ad\n",
      "Choices Accessibility & CC About Newsletters Transcripts © 2025 Cable\n",
      "News Network. A Warner Bros. Discovery Company. All Rights Reserved.\n",
      "CNN Sans ™ & © 2016 Cable News Network. Manage Cookies+ When you visit\n",
      "any website, it may store or retrieve information on your browser,\n",
      "mostly in the form of cookies. This information might be about you,\n",
      "your preferences or your device and is mostly used to make the site\n",
      "work as you expect it to. The information does not usually directly\n",
      "identify you, but it can give you a more personalized web experience.\n",
      "Because we respect your right to privacy, you can choose not to allow\n",
      "some types of cookies. Click on the different category headings to\n",
      "find out more and change our default settings. However, blocking some\n",
      "types of cookies may impact your experience of the site and the\n",
      "services we are able to offer. Privacy Policy Allow All Manage Consent\n",
      "Preferences Use limited data to select advertising Use limited data to\n",
      "select advertising Advertising presented to you on this service can be\n",
      "based on limited data, such as the website or app you are using, your\n",
      "non-precise location, your device type or which content you are (or\n",
      "have been) interacting with (for example, to limit the number of times\n",
      "an ad is presented to you). Use profiles to select personalised\n",
      "advertising Use profiles to select personalised advertising\n",
      "Advertising presented to you on this service can be based on your\n",
      "advertising profiles, which can reflect your activity on this service\n",
      "or other websites or apps (like the forms you submit, content you look\n",
      "at), possible interests and personal aspects. Create profiles for\n",
      "personalised advertising Create profiles for personalised advertising\n",
      "Information about your activity on this service (such as forms you\n",
      "submit, content you look at) can be stored and combined with other\n",
      "information about you (for example, information from your previous\n",
      "activity on this service and other websites or apps) or similar users.\n",
      "This is then used to build or improve a profile about you (that might\n",
      "include possible interests and personal aspects). Your profile can be\n",
      "used (also later) to present advertising that appears more relevant\n",
      "based on your possible interests by this and other entities. Use\n",
      "profiles to select personalised content Use profiles to select\n",
      "personalised content Content presented to you on this service can be\n",
      "based on your content personalisation profiles, which can reflect your\n",
      "activity on this or other services (for instance, the forms you\n",
      "submit, content you look at), possible interests and personal aspects.\n",
      "This can for example be used to adapt the order in which content is\n",
      "shown to you, so that it is even easier for you to find (non-\n",
      "advertising) content that matches your interests. Create profiles to\n",
      "personalise content Create profiles to personalise content Information\n",
      "about your activity on this service (for instance, forms you submit,\n",
      "non-advertising content you look at) can be stored and combined with\n",
      "other information about you (such as your previous activity on this\n",
      "service or other websites or apps) or similar users. This is then used\n",
      "to build or improve a profile about you (which might for example\n",
      "include possible interests and personal aspects). Your profile can be\n",
      "used (also later) to present content that appears more relevant based\n",
      "on your possible interests, such as by adapting the order in which\n",
      "content is shown to you, so that it is even easier for you to find\n",
      "content that matches your interests. Measure advertising performance\n",
      "Measure advertising performance Information regarding which\n",
      "advertising is presented to you and how you interact with it can be\n",
      "used to determine how well an advert has worked for you or other users\n",
      "and whether the goals of the advertising were reached. For instance,\n",
      "whether you saw an ad, whether you clicked on it, whether it led you\n",
      "to buy a product or visit a website, etc. This is very helpful to\n",
      "understand the relevance of advertising campaigns. Measure content\n",
      "performance Measure content performance Information regarding which\n",
      "content is presented to you and how you interact with it can be used\n",
      "to determine whether the (non-advertising) content e.g. reached its\n",
      "intended audience and matched your interests. For instance, whether\n",
      "you read an article, watch a video, listen to a podcast or look at a\n",
      "product description, how long you spent on this service and the web\n",
      "pages you visit etc. This is very helpful to understand the relevance\n",
      "of (non-advertising) content that is shown to you. Understand\n",
      "audiences through statistics or combinations of data from different\n",
      "sources Understand audiences through statistics or combinations of\n",
      "data from different sources Reports can be generated based on the\n",
      "combination of data sets (like user profiles, statistics, market\n",
      "research, analytics data) regarding your interactions and those of\n",
      "other users with advertising or (non-advertising) content to identify\n",
      "common characteristics (for instance, to determine which target\n",
      "audiences are more receptive to an ad campaign or to certain\n",
      "contents). Develop and improve services Develop and improve services\n",
      "Information about your activity on this service, such as your\n",
      "interaction with ads or content, can be very helpful to improve\n",
      "products and services and to build new products and services based on\n",
      "user interactions, the type of audience, etc. This specific purpose\n",
      "does not include the development or improvement of user profiles and\n",
      "identifiers. Ensure security, prevent and detect fraud, and fix errors\n",
      "Always Active Your data can be used to monitor for and prevent unusual\n",
      "and possibly fraudulent activity (for example, regarding advertising,\n",
      "ad clicks by bots), and ensure systems and processes work properly and\n",
      "securely. It can also be used to correct any problems you, the\n",
      "publisher or the advertiser may encounter in the delivery of content\n",
      "and ads and in your interaction with them. Deliver and present\n",
      "advertising and content Always Active Certain information (like an IP\n",
      "address or device capabilities) is used to ensure the technical\n",
      "compatibility of the content or advertising, and to facilitate the\n",
      "transmission of the content or ad to your device. Strictly Necessary\n",
      "Cookies Always Active These cookies are necessary for the website to\n",
      "function and cannot be switched off in our systems. You can set your\n",
      "browser to block or alert you about these cookies, but some parts of\n",
      "the site will not work. Back Button Cookie List Search Icon Filter\n",
      "Icon Clear checkbox label label Apply Cancel Consent Leg.Interest\n",
      "checkbox label label checkbox label label checkbox label label\n",
      "Essential Cookies Only Confirm My Choices\n"
     ]
    }
   ],
   "source": [
    "import textwrap\n",
    "print(textwrap.fill(text))"
   ]
  },
  {
   "cell_type": "code",
   "execution_count": 15,
   "metadata": {},
   "outputs": [],
   "source": [
    "all_tools = tools + [tool_push]"
   ]
  },
  {
   "cell_type": "code",
   "execution_count": 16,
   "metadata": {},
   "outputs": [],
   "source": [
    "\n",
    "llm = ChatOpenAI(model=\"gpt-4o-mini\")\n",
    "llm_with_tools = llm.bind_tools(all_tools)\n",
    "\n",
    "\n",
    "def chatbot(state: State):\n",
    "    return {\"messages\": [llm_with_tools.invoke(state[\"messages\"])]}\n"
   ]
  },
  {
   "cell_type": "code",
   "execution_count": 17,
   "metadata": {},
   "outputs": [
    {
     "data": {
      "image/png": "[encoded data removed]",
      "text/plain": [
       "<IPython.core.display.Image object>"
      ]
     },
     "metadata": {},
     "output_type": "display_data"
    }
   ],
   "source": [
    "\n",
    "graph_builder = StateGraph(State)\n",
    "graph_builder.add_node(\"chatbot\", chatbot)\n",
    "graph_builder.add_node(\"tools\", ToolNode(tools=all_tools))\n",
    "graph_builder.add_conditional_edges( \"chatbot\", tools_condition, \"tools\")\n",
    "graph_builder.add_edge(\"tools\", \"chatbot\")\n",
    "graph_builder.add_edge(START, \"chatbot\")\n",
    "\n",
    "memory = MemorySaver()\n",
    "graph = graph_builder.compile(checkpointer=memory)\n",
    "display(Image(graph.get_graph().draw_mermaid_png()))"
   ]
  },
  {
   "cell_type": "code",
   "execution_count": 18,
   "metadata": {},
   "outputs": [
    {
     "name": "stdout",
     "output_type": "stream",
     "text": [
      "* Running on local URL:  http://127.0.0.1:7860\n",
      "* To create a public link, set `share=True` in `launch()`.\n"
     ]
    },
    {
     "data": {
      "text/html": [
       "<div><iframe src=\"http://127.0.0.1:7860/\" width=\"100%\" height=\"500\" allow=\"autoplay; camera; microphone; clipboard-read; clipboard-write;\" frameborder=\"0\" allowfullscreen></iframe></div>"
      ],
      "text/plain": [
       "<IPython.core.display.HTML object>"
      ]
     },
     "metadata": {},
     "output_type": "display_data"
    },
    {
     "data": {
      "text/plain": []
     },
     "execution_count": 18,
     "metadata": {},
     "output_type": "execute_result"
    }
   ],
   "source": [
    "config = {\"configurable\": {\"thread_id\": \"10\"}}\n",
    "\n",
    "async def chat(user_input: str, history):\n",
    "    result = await graph.ainvoke({\"messages\": [{\"role\": \"user\", \"content\": user_input}]}, config=config)\n",
    "    return result[\"messages\"][-1].content\n",
    "\n",
    "\n",
    "gr.ChatInterface(chat, type=\"messages\").launch()"
   ]
  },
  {
   "cell_type": "code",
   "execution_count": null,
   "metadata": {},
   "outputs": [],
   "source": []
  }
 ],
 "metadata": {
  "kernelspec": {
   "display_name": ".venv",
   "language": "python",
   "name": "python3"
  },
  "language_info": {
   "codemirror_mode": {
    "name": "ipython",
    "version": 3
   },
   "file_extension": ".py",
   "mimetype": "text/x-python",
   "name": "python",
   "nbconvert_exporter": "python",
   "pygments_lexer": "ipython3",
   "version": "3.12.11"
  }
 },
 "nbformat": 4,
 "nbformat_minor": 2
}
