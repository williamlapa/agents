{
 "cells": [
  {
   "cell_type": "markdown",
   "metadata": {},
   "source": [
    "## Deep Research\n",
    "\n",
    "One of the classic cross-business Agentic use cases! This is huge."
   ]
  },
  {
   "cell_type": "markdown",
   "metadata": {},
   "source": [
    "<table style=\"margin: 0; text-align: left; width:100%\">\n",
    "    <tr>\n",
    "        <td style=\"width: 150px; height: 150px; vertical-align: middle;\">\n",
    "            <img src=\"../assets/business.png\" width=\"150\" height=\"150\" style=\"display: block;\" />\n",
    "        </td>\n",
    "        <td>\n",
    "            <h2 style=\"color:#00bfff;\">Commercial implications</h2>\n",
    "            <span style=\"color:#00bfff;\">A Deep Research agent is broadly applicable to any business area, and to your own day-to-day activities. You can make use of this yourself!\n",
    "            </span>\n",
    "        </td>\n",
    "    </tr>\n",
    "</table>"
   ]
  },
  {
   "cell_type": "code",
   "execution_count": 1,
   "metadata": {},
   "outputs": [],
   "source": [
    "from agents import Agent, WebSearchTool, trace, Runner, gen_trace_id, function_tool\n",
    "from agents.model_settings import ModelSettings\n",
    "from pydantic import BaseModel, Field\n",
    "from dotenv import load_dotenv\n",
    "import asyncio\n",
    "import sendgrid\n",
    "import os\n",
    "from sendgrid.helpers.mail import Mail, Email, To, Content\n",
    "from typing import Dict\n",
    "from IPython.display import display, Markdown"
   ]
  },
  {
   "cell_type": "code",
   "execution_count": 2,
   "metadata": {},
   "outputs": [
    {
     "data": {
      "text/plain": [
       "True"
      ]
     },
     "execution_count": 2,
     "metadata": {},
     "output_type": "execute_result"
    }
   ],
   "source": [
    "load_dotenv(override=True)"
   ]
  },
  {
   "cell_type": "markdown",
   "metadata": {},
   "source": [
    "## OpenAI Hosted Tools\n",
    "\n",
    "OpenAI Agents SDK includes the following hosted tools:\n",
    "\n",
    "The `WebSearchTool` lets an agent search the web.  \n",
    "The `FileSearchTool` allows retrieving information from your OpenAI Vector Stores.  \n",
    "The `ComputerTool` allows automating computer use tasks like taking screenshots and clicking.\n",
    "\n",
    "### Important note - API charge of WebSearchTool\n",
    "\n",
    "This is costing me 2.5 cents per call for OpenAI WebSearchTool. That can add up to $2-$3 for the next 2 labs. We'll use low cost Search tools with other platforms, so feel free to skip running this if the cost is a concern.\n",
    "\n",
    "Costs are here: https://platform.openai.com/docs/pricing#web-search"
   ]
  },
  {
   "cell_type": "code",
   "execution_count": null,
   "metadata": {},
   "outputs": [],
   "source": [
    "INSTRUCTIONS = \"You are a research assistant. Given a search term, you search the web for that term and \\\n",
    "produce a concise summary of the results. The summary must 2-3 paragraphs and less than 300 \\\n",
    "words. Capture the main points. Write succintly, no need to have complete sentences or good \\\n",
    "grammar. This will be consumed by someone synthesizing a report, so it's vital you capture the \\\n",
    "essence and ignore any fluff. Do not include any additional commentary other than the summary itself.\"\n",
    "\n",
    "search_agent = Agent(\n",
    "    name=\"Search agent\",\n",
    "    instructions=INSTRUCTIONS,\n",
    "    tools=[WebSearchTool(search_context_size=\"low\")],\n",
    "    model=\"gpt-4o-mini\",\n",
    "    model_settings=ModelSettings(tool_choice=\"required\"),\n",
    ")"
   ]
  },
  {
   "cell_type": "code",
   "execution_count": null,
   "metadata": {},
   "outputs": [],
   "source": [
    "message = \"Latest AI Agent frameworks in 2025. Responda em portugues. Seja suscinto.\"\n",
    "\n",
    "with trace(\"Search\"):\n",
    "    result = await Runner.run(search_agent, message)\n",
    "\n",
    "display(Markdown(result.final_output))"
   ]
  },
  {
   "cell_type": "markdown",
   "metadata": {},
   "source": [
    "### As always, take a look at the trace\n",
    "\n",
    "https://platform.openai.com/traces"
   ]
  },
  {
   "cell_type": "markdown",
   "metadata": {},
   "source": [
    "### We will now use Structured Outputs, and include a description of the fields"
   ]
  },
  {
   "cell_type": "code",
   "execution_count": 3,
   "metadata": {},
   "outputs": [],
   "source": [
    "\n",
    "##Criar um Novo Agente Clarificador\n",
    "\n",
    "class ClarificationQuestions(BaseModel):\n",
    "    questions: list[str] = Field(description=\"3 perguntas para esclarecer melhor a consulta\")\n",
    "\n",
    "CLARIFICATION_INSTRUCTIONS = \"\"\"Você é um assistente que ajuda a refinar consultas de pesquisa. \n",
    "Dada uma consulta inicial, gere exatamente 3 perguntas esclarecedoras que ajudariam a \n",
    "tornar a pesquisa mais específica e útil. As perguntas devem cobrir aspectos como: \n",
    "escopo temporal, público-alvo, contexto específico, ou detalhes técnicos.\"\"\"\n",
    "\n",
    "clarification_agent = Agent(\n",
    "    name=\"ClarificationAgent\",\n",
    "    instructions=CLARIFICATION_INSTRUCTIONS,\n",
    "    model=\"gpt-4o-mini\",\n",
    "    output_type=ClarificationQuestions,\n",
    ")\n",
    "\n",
    "#########\n",
    "\n",
    "# See note above about cost of WebSearchTool\n",
    "\n",
    "HOW_MANY_SEARCHES = 3\n",
    "\n",
    "INSTRUCTIONS = f\"You are a helpful research assistant. Given a query, come up with a set of web searches \\\n",
    "to perform to best answer the query. Output {HOW_MANY_SEARCHES} terms to query for. Responda em portugues.\"\n",
    "\n",
    "# Use Pydantic to define the Schema of our response - this is known as \"Structured Outputs\"\n",
    "# With massive thanks to student Wes C. for discovering and fixing a nasty bug with this!\n",
    "\n",
    "class WebSearchItem(BaseModel):\n",
    "    reason: str = Field(description=\"Your reasoning for why this search is important to the query.\")\n",
    "\n",
    "    query: str = Field(description=\"The search term to use for the web search.\")\n",
    "\n",
    "\n",
    "class WebSearchPlan(BaseModel):\n",
    "    searches: list[WebSearchItem] = Field(description=\"A list of web searches to perform to best answer the query.\")\n",
    "\n",
    "\n",
    "planner_agent = Agent(\n",
    "    name=\"PlannerAgent\",\n",
    "    instructions=INSTRUCTIONS,\n",
    "    model=\"gpt-4o-mini\",\n",
    "    output_type=WebSearchPlan,\n",
    ")"
   ]
  },
  {
   "cell_type": "code",
   "execution_count": 4,
   "metadata": {},
   "outputs": [
    {
     "name": "stdout",
     "output_type": "stream",
     "text": [
      "searches=[WebSearchItem(reason='Para encontrar informações atualizadas sobre os frameworks de agentes de IA que estão sendo desenvolvidos ou utilizados em 2025.', query='frameworks agentes de IA 2025'), WebSearchItem(reason='Para identificar quais tecnologias e abordagens estão sendo mais adotadas na criação de agentes inteligentes em 2025.', query='tendências agentes de IA 2025'), WebSearchItem(reason='Para obter um panorama geral das principais ferramentas e plataformas disponíveis para desenvolvimento de agentes de IA em 2025.', query='principais ferramentas desenvolvimento IA 2025')]\n"
     ]
    }
   ],
   "source": [
    "\n",
    "message = \"Latest AI Agent frameworks in 2025. Responda em portugues.\"\n",
    "\n",
    "with trace(\"Search\"):\n",
    "    result = await Runner.run(planner_agent, message)\n",
    "    print(result.final_output)"
   ]
  },
  {
   "cell_type": "code",
   "execution_count": 5,
   "metadata": {},
   "outputs": [
    {
     "name": "stdout",
     "output_type": "stream",
     "text": [
      "RunResult:\n",
      "- Last agent: Agent(name=\"PlannerAgent\", ...)\n",
      "- Final output (WebSearchPlan):\n",
      "    {\n",
      "      \"searches\": [\n",
      "        {\n",
      "          \"reason\": \"Para encontrar informações atualizadas sobre os frameworks de agentes de IA que estão sendo desenvolvidos ou utilizados em 2025.\",\n",
      "          \"query\": \"frameworks agentes de IA 2025\"\n",
      "        },\n",
      "        {\n",
      "          \"reason\": \"Para identificar quais tecnologias e abordagens estão sendo mais adotadas na criação de agentes inteligentes em 2025.\",\n",
      "          \"query\": \"tendências agentes de IA 2025\"\n",
      "        },\n",
      "        {\n",
      "          \"reason\": \"Para obter um panorama geral das principais ferramentas e plataformas disponíveis para desenvolvimento de agentes de IA em 2025.\",\n",
      "          \"query\": \"principais ferramentas desenvolvimento IA 2025\"\n",
      "        }\n",
      "      ]\n",
      "    }\n",
      "- 1 new item(s)\n",
      "- 1 raw response(s)\n",
      "- 0 input guardrail result(s)\n",
      "- 0 output guardrail result(s)\n",
      "(See `RunResult` for more details)\n"
     ]
    }
   ],
   "source": [
    "print(result)"
   ]
  },
  {
   "cell_type": "code",
   "execution_count": 6,
   "metadata": {},
   "outputs": [],
   "source": [
    "@function_tool\n",
    "def send_email(subject: str, html_body: str) -> Dict[str, str]:\n",
    "    \"\"\" Send out an email with the given subject and HTML body \"\"\"\n",
    "    sg = sendgrid.SendGridAPIClient(api_key=os.environ.get('SENDGRID_API_KEY'))\n",
    "    from_email = Email(\"williamlapa40@gmail.com\") # Change this to your verified email\n",
    "    to_email = To(\"williamlapa@hotmail.com\") # Change this to your email\n",
    "    content = Content(\"text/html\", html_body)\n",
    "    mail = Mail(from_email, to_email, subject, content).get()\n",
    "    response = sg.client.mail.send.post(request_body=mail)\n",
    "    return {\"status\": \"success\"}"
   ]
  },
  {
   "cell_type": "code",
   "execution_count": 7,
   "metadata": {},
   "outputs": [
    {
     "data": {
      "text/plain": [
       "FunctionTool(name='send_email', description='Send out an email with the given subject and HTML body', params_json_schema={'properties': {'subject': {'title': 'Subject', 'type': 'string'}, 'html_body': {'title': 'Html Body', 'type': 'string'}}, 'required': ['subject', 'html_body'], 'title': 'send_email_args', 'type': 'object', 'additionalProperties': False}, on_invoke_tool=<function function_tool.<locals>._create_function_tool.<locals>._on_invoke_tool at 0x000001835BB87CE0>, strict_json_schema=True)"
      ]
     },
     "execution_count": 7,
     "metadata": {},
     "output_type": "execute_result"
    }
   ],
   "source": [
    "send_email"
   ]
  },
  {
   "cell_type": "code",
   "execution_count": 8,
   "metadata": {},
   "outputs": [],
   "source": [
    "INSTRUCTIONS = \"\"\"You are able to send a nicely formatted HTML email based on a detailed report.\n",
    "You will be provided with a detailed report. You should use your tool to send one email, providing the \n",
    "report converted into clean, well presented HTML with an appropriate subject line.\"\"\"\n",
    "\n",
    "email_agent = Agent(\n",
    "    name=\"Email agent\",\n",
    "    instructions=INSTRUCTIONS,\n",
    "    tools=[send_email],\n",
    "    model=\"gpt-4o-mini\",\n",
    ")\n",
    "\n"
   ]
  },
  {
   "cell_type": "code",
   "execution_count": 9,
   "metadata": {},
   "outputs": [],
   "source": [
    "INSTRUCTIONS = (\n",
    "    \"You are a senior researcher tasked with writing a cohesive report for a research query. \"\n",
    "    \"You will be provided with the original query, and some initial research done by a research assistant.\\n\"\n",
    "    \"You should first come up with an outline for the report that describes the structure and \"\n",
    "    \"flow of the report. Then, generate the report and return that as your final output.\\n\"\n",
    "    \"The final output should be in markdown format, and it should be lengthy and detailed. Aim \"\n",
    "    \"for 5-10 pages of content, at least 1000 words. Escreva em portugues. Traga referências em forma de links ao final do texto\"\n",
    ")\n",
    "\n",
    "\n",
    "class ReportData(BaseModel):\n",
    "    short_summary: str = Field(description=\"A short 2-3 sentence summary of the findings.\")\n",
    "\n",
    "    markdown_report: str = Field(description=\"The final report\")\n",
    "\n",
    "    follow_up_questions: list[str] = Field(description=\"Suggested topics to research further\")\n",
    "\n",
    "\n",
    "writer_agent = Agent(\n",
    "    name=\"WriterAgent\",\n",
    "    instructions=INSTRUCTIONS,\n",
    "    model=\"gpt-4o-mini\",\n",
    "    output_type=ReportData,\n",
    ")"
   ]
  },
  {
   "cell_type": "markdown",
   "metadata": {},
   "source": [
    "### The next 3 functions will plan and execute the search, using planner_agent and search_agent"
   ]
  },
  {
   "cell_type": "code",
   "execution_count": 10,
   "metadata": {},
   "outputs": [],
   "source": [
    "async def plan_searches(query: str):\n",
    "    \"\"\" Use the planner_agent to plan which searches to run for the query \"\"\"\n",
    "    print(\"Planning searches...\")\n",
    "    result = await Runner.run(planner_agent, f\"Query: {query}\")\n",
    "    print(f\"Will perform {len(result.final_output.searches)} searches\")\n",
    "    return result.final_output\n",
    "\n",
    "async def perform_searches(search_plan: WebSearchPlan):\n",
    "    \"\"\" Call search() for each item in the search plan \"\"\"\n",
    "    print(\"Searching...\")\n",
    "    tasks = [asyncio.create_task(search(item)) for item in search_plan.searches]\n",
    "    results = await asyncio.gather(*tasks)\n",
    "    print(\"Finished searching\")\n",
    "    return results\n",
    "\n",
    "async def search(item: WebSearchItem):\n",
    "    \"\"\" Use the search agent to run a web search for each item in the search plan \"\"\"\n",
    "    input = f\"Search term: {item.query}\\nReason for searching: {item.reason}\"\n",
    "    result = await Runner.run(search_agent, input)\n",
    "    return result.final_output"
   ]
  },
  {
   "cell_type": "markdown",
   "metadata": {},
   "source": [
    "### The next 2 functions write a report and email it"
   ]
  },
  {
   "cell_type": "code",
   "execution_count": null,
   "metadata": {},
   "outputs": [],
   "source": [
    "async def write_report(query: str, search_results: list[str]):\n",
    "    \"\"\" Use the writer agent to write a report based on the search results\"\"\"\n",
    "    print(\"Thinking about report...\")\n",
    "    input = f\"Original query: {query}\\nSummarized search results: {search_results}\"\n",
    "    result = await Runner.run(writer_agent, input)\n",
    "    print(\"Finished writing report\")\n",
    "    return result.final_output\n",
    "\n",
    "async def send_email(report: ReportData):\n",
    "    \"\"\" Use the email agent to send an email with the report \"\"\"\n",
    "    print(\"Writing email...\")\n",
    "    result = await Runner.run(email_agent, report.markdown_report)\n",
    "    print(\"Email sent\")\n",
    "    return report\n",
    "\n",
    "# ADICIONE AQUI AS NOVAS FUNÇÕES:\n",
    "async def ask_clarifications(query: str):\n",
    "    \"\"\"Gera 3 perguntas esclarecedoras baseadas na consulta\"\"\"\n",
    "    print(\"Gerando perguntas esclarecedoras...\")\n",
    "    result = await Runner.run(clarification_agent, f\"Consulta: {query}\")\n",
    "    return result.final_output\n",
    "\n",
    "async def refine_search_plan(original_query: str, questions: list[str], answers: list[str]):\n",
    "    \"\"\"Refina o plano de busca com base nas respostas das perguntas\"\"\"\n",
    "    context = f\"\"\"\n",
    "    Consulta original: {original_query}\n",
    "    \n",
    "    Informações adicionais baseadas nas perguntas esclarecedoras:\n",
    "    {chr(10).join([f\"- {q}: {a}\" for q, a in zip(questions, answers)])}\n",
    "    \n",
    "    Use essas informações para criar um plano de busca mais refinado e específico.\n",
    "    \"\"\"\n",
    "    result = await Runner.run(planner_agent, context)\n",
    "    return result.final_output"
   ]
  },
  {
   "cell_type": "markdown",
   "metadata": {},
   "source": [
    "### Showtime!"
   ]
  },
  {
   "cell_type": "code",
   "execution_count": null,
   "metadata": {},
   "outputs": [],
   "source": [
    "query = \"Latest AI Agent frameworks in 2025\"\n",
    "\n",
    "with trace(\"Research trace\"):\n",
    "    print(\"Starting research...\")\n",
    "    \n",
    "    # NOVO: Gerar perguntas esclarecedoras\n",
    "    clarifications = await ask_clarifications(query)\n",
    "    print(\"\\nPerguntas esclarecedoras:\")\n",
    "    for i, question in enumerate(clarifications.questions, 1):\n",
    "        print(f\"{i}. {question}\")\n",
    "    \n",
    "    # Para teste, vamos simular respostas\n",
    "    # Em produção, você coletaria estas respostas do usuário\n",
    "    sample_answers = [\n",
    "        \"Foco em frameworks open-source para Python\",\n",
    "        \"Para desenvolvedores iniciantes e intermediários\", \n",
    "        \"Incluir comparação de facilidade de uso e documentação\"\n",
    "    ]\n",
    "    \n",
    "    print(\"\\nRespostas simuladas:\")\n",
    "    for i, answer in enumerate(sample_answers, 1):\n",
    "        print(f\"{i}. {answer}\")\n",
    "    \n",
    "    # Refinar o plano de busca com as informações coletadas\n",
    "    refined_search_plan = await refine_search_plan(query, clarifications.questions, sample_answers)\n",
    "    \n",
    "    # Continuar com o fluxo normal usando o plano refinado\n",
    "    search_results = await perform_searches(refined_search_plan)\n",
    "    report = await write_report(query, search_results)\n",
    "    await send_email(report)\n",
    "    print(\"Hooray!\")\n",
    "\n",
    "\n"
   ]
  },
  {
   "cell_type": "markdown",
   "metadata": {},
   "source": [
    "### As always, take a look at the trace\n",
    "\n",
    "https://platform.openai.com/traces"
   ]
  },
  {
   "cell_type": "markdown",
   "metadata": {},
   "source": [
    "<table style=\"margin: 0; text-align: left; width:100%\">\n",
    "    <tr>\n",
    "        <td style=\"width: 150px; height: 150px; vertical-align: middle;\">\n",
    "            <img src=\"../assets/thanks.png\" width=\"150\" height=\"150\" style=\"display: block;\" />\n",
    "        </td>\n",
    "        <td>\n",
    "            <h2 style=\"color:#00cc00;\">Congratulations on your progress, and a request</h2>\n",
    "            <span style=\"color:#00cc00;\">You've reached an important moment with the course; you've created a valuable Agent using one of the latest Agent frameworks. You've upskilled, and unlocked new commercial possibilities. Take a moment to celebrate your success!<br/><br/>Something I should ask you -- my editor would smack me if I didn't mention this. If you're able to rate the course on Udemy, I'd be seriously grateful: it's the most important way that Udemy decides whether to show the course to others and it makes a massive difference.<br/><br/>And another reminder to <a href=\"https://www.linkedin.com/in/eddonner/\">connect with me on LinkedIn</a> if you wish! If you wanted to post about your progress on the course, please tag me and I'll weigh in to increase your exposure.\n",
    "            </span>\n",
    "        </td>\n",
    "    </tr>"
   ]
  },
  {
   "cell_type": "markdown",
   "metadata": {},
   "source": [
    "## Desafios"
   ]
  },
  {
   "cell_type": "markdown",
   "metadata": {},
   "source": [
    "Start by coming up with 3 clarifyng questions based on the query. (Comece elaborando 3 perguntas de esclarecimento com base na solicitação.)\n",
    "\n",
    "Tune the searches taking into account the clarifications. (Ajuste as buscas levando em consideração os esclarecimentos.)\n",
    "\n",
    "Make the manager an Agent with agent_as-tolls and handoffs.(Transforme o gerente em um Agente com agent_as-tools e handsoff).\n"
   ]
  },
  {
   "cell_type": "markdown",
   "metadata": {},
   "source": []
  },
  {
   "cell_type": "markdown",
   "metadata": {},
   "source": [
    "## O que o código passará a fazer:\n",
    "\n",
    "**Antes das mudanças:**\n",
    "- Recebia uma consulta → planejava buscas → executava buscas → escrevia relatório → enviava email\n",
    "\n",
    "**Depois das mudanças:**\n",
    "1. **Recebe a consulta inicial** (\"Latest AI Agent frameworks in 2025\")\n",
    "\n",
    "2. **Gera 3 perguntas esclarecedoras automaticamente**, como:\n",
    "   - \"Você quer focar em frameworks específicos para alguma linguagem?\"\n",
    "   - \"Qual é o público-alvo do relatório?\"\n",
    "   - \"Há algum aspecto específico que deve ser priorizizado?\"\n",
    "\n",
    "3. **Usa respostas simuladas** (ou reais do usuário) para refinar a busca\n",
    "\n",
    "4. **Cria um plano de busca mais específico** baseado nas respostas, resultando em buscas mais direcionadas\n",
    "\n",
    "5. **Continua o fluxo normal** (busca → relatório → email) mas com resultados mais precisos\n",
    "\n",
    "## Resultado Prático:\n",
    "\n",
    "**Ao invés de buscas genéricas como:**\n",
    "- \"AI Agent frameworks 2025\"\n",
    "- \"Latest AI tools\"\n",
    "- \"Agent development platforms\"\n",
    "\n",
    "**Terá buscas refinadas como:**\n",
    "- \"Open-source Python AI agent frameworks 2025\"\n",
    "- \"Beginner-friendly AI agent development tools\"\n",
    "- \"AI agent frameworks comparison usability documentation\"\n",
    "\n",
    "**Benefício:** O relatório final será mais específico, relevante e útil, porque as buscas foram direcionadas pelas perguntas esclarecedoras, ao invés de serem genéricas."
   ]
  },
  {
   "cell_type": "markdown",
   "metadata": {},
   "source": [
    "Claro! Aqui está um resumo conceitual do fluxo do código do notebook **5_lab4_desafio.ipynb**:\n",
    "\n",
    "---\n",
    "\n",
    "## Passo a Passo Conceitual\n",
    "\n",
    "### 1. **Receber a Consulta Inicial**\n",
    "O usuário fornece uma consulta de pesquisa, por exemplo:  \n",
    "`\"Latest AI Agent frameworks in 2025\"`\n",
    "\n",
    "---\n",
    "\n",
    "### 2. **Gerar Perguntas Esclarecedoras**\n",
    "Um agente (ClarificationAgent) gera automaticamente 3 perguntas para refinar a consulta, tornando a busca mais específica e relevante.\n",
    "\n",
    "---\n",
    "\n",
    "### 3. **Obter Respostas para as Perguntas**\n",
    "As respostas às perguntas esclarecedoras são coletadas (no exemplo, são simuladas, mas poderiam ser do usuário).\n",
    "\n",
    "---\n",
    "\n",
    "### 4. **Refinar o Plano de Busca**\n",
    "Com base nas respostas, um novo plano de busca é criado por outro agente (PlannerAgent), tornando as buscas mais direcionadas e eficazes.\n",
    "\n",
    "---\n",
    "\n",
    "### 5. **Executar as Buscas**\n",
    "Para cada item do plano de busca refinado, um agente de busca (SearchAgent) realiza pesquisas na web e retorna os resultados.\n",
    "\n",
    "---\n",
    "\n",
    "### 6. **Gerar Relatório**\n",
    "Um agente escritor (WriterAgent) recebe os resultados das buscas e gera um relatório detalhado e estruturado em Markdown, incluindo um resumo, o conteúdo principal e sugestões de pesquisas futuras.\n",
    "\n",
    "---\n",
    "\n",
    "### 7. **Enviar o Relatório por Email**\n",
    "Um agente de email (EmailAgent) envia o relatório gerado para o destinatário especificado, formatando-o em HTML.\n",
    "\n",
    "---\n",
    "\n",
    "## Resumindo em Fluxo:\n",
    "\n",
    "1. **Consulta inicial**  \n",
    "2. → **Perguntas esclarecedoras**  \n",
    "3. → **Respostas**  \n",
    "4. → **Plano de busca refinado**  \n",
    "5. → **Execução das buscas**  \n",
    "6. → **Geração do relatório**  \n",
    "7. → **Envio do relatório por email**\n",
    "\n",
    "---\n",
    "\n",
    "**Benefício:**  \n",
    "O processo resulta em pesquisas e relatórios muito mais relevantes e personalizados, pois as buscas são ajustadas conforme as necessidades e contexto do usuário, graças ao ciclo de esclarecimento e refinamento."
   ]
  }
 ],
 "metadata": {
  "kernelspec": {
   "display_name": ".venv",
   "language": "python",
   "name": "python3"
  },
  "language_info": {
   "codemirror_mode": {
    "name": "ipython",
    "version": 3
   },
   "file_extension": ".py",
   "mimetype": "text/x-python",
   "name": "python",
   "nbconvert_exporter": "python",
   "pygments_lexer": "ipython3",
   "version": "3.12.0"
  }
 },
 "nbformat": 4,
 "nbformat_minor": 2
}
