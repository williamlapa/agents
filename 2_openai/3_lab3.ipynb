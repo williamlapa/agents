{
 "cells": [
  {
   "cell_type": "markdown",
   "metadata": {},
   "source": [
    "## Week 2 Day 3\n",
    "\n",
    "Now we get to more detail:\n",
    "\n",
    "1. Different models\n",
    "\n",
    "2. Structured Outputs\n",
    "\n",
    "3. Guardrails"
   ]
  },
  {
   "cell_type": "code",
   "execution_count": 24,
   "metadata": {},
   "outputs": [],
   "source": [
    "from dotenv import load_dotenv\n",
    "from openai import AsyncOpenAI\n",
    "from agents import Agent, Runner, trace, function_tool, OpenAIChatCompletionsModel, input_guardrail, GuardrailFunctionOutput\n",
    "from typing import Dict, List\n",
    "import sendgrid\n",
    "import os\n",
    "from sendgrid.helpers.mail import Mail, Email, To, Content\n",
    "from pydantic import BaseModel"
   ]
  },
  {
   "cell_type": "code",
   "execution_count": 2,
   "metadata": {},
   "outputs": [
    {
     "data": {
      "text/plain": [
       "True"
      ]
     },
     "execution_count": 2,
     "metadata": {},
     "output_type": "execute_result"
    }
   ],
   "source": [
    "load_dotenv(override=True)"
   ]
  },
  {
   "cell_type": "code",
   "execution_count": 3,
   "metadata": {},
   "outputs": [
    {
     "name": "stdout",
     "output_type": "stream",
     "text": [
      "OpenAI API Key exists and begins sk-proj-\n",
      "Google API Key exists and begins AI\n",
      "DeepSeek API Key exists and begins sk-\n",
      "Groq API Key exists and begins gsk_\n"
     ]
    }
   ],
   "source": [
    "openai_api_key = os.getenv('OPENAI_API_KEY')\n",
    "google_api_key = os.getenv('GOOGLE_API_KEY')\n",
    "deepseek_api_key = os.getenv('DEEPSEEK_API_KEY')\n",
    "groq_api_key = os.getenv('GROQ_API_KEY')\n",
    "\n",
    "if openai_api_key:\n",
    "    print(f\"OpenAI API Key exists and begins {openai_api_key[:8]}\")\n",
    "else:\n",
    "    print(\"OpenAI API Key not set\")\n",
    "\n",
    "if google_api_key:\n",
    "    print(f\"Google API Key exists and begins {google_api_key[:2]}\")\n",
    "else:\n",
    "    print(\"Google API Key not set (and this is optional)\")\n",
    "\n",
    "if deepseek_api_key:\n",
    "    print(f\"DeepSeek API Key exists and begins {deepseek_api_key[:3]}\")\n",
    "else:\n",
    "    print(\"DeepSeek API Key not set (and this is optional)\")\n",
    "\n",
    "if groq_api_key:\n",
    "    print(f\"Groq API Key exists and begins {groq_api_key[:4]}\")\n",
    "else:\n",
    "    print(\"Groq API Key not set (and this is optional)\")"
   ]
  },
  {
   "cell_type": "code",
   "execution_count": 4,
   "metadata": {},
   "outputs": [],
   "source": [
    "instructions1 = \"You are a sales agent working for ComplAI, \\\n",
    "a company that provides a SaaS tool for ensuring SOC2 compliance and preparing for audits, powered by AI. \\\n",
    "You write professional, serious cold emails.\"\n",
    "\n",
    "instructions2 = \"You are a humorous, engaging sales agent working for ComplAI, \\\n",
    "a company that provides a SaaS tool for ensuring SOC2 compliance and preparing for audits, powered by AI. \\\n",
    "You write witty, engaging cold emails that are likely to get a response.\"\n",
    "\n",
    "instructions3 = \"You are a busy sales agent working for ComplAI, \\\n",
    "a company that provides a SaaS tool for ensuring SOC2 compliance and preparing for audits, powered by AI. \\\n",
    "You write concise, to the point cold emails.\""
   ]
  },
  {
   "cell_type": "markdown",
   "metadata": {},
   "source": [
    "### It's easy to use any models with OpenAI compatible endpoints"
   ]
  },
  {
   "cell_type": "code",
   "execution_count": 5,
   "metadata": {},
   "outputs": [],
   "source": [
    "GEMINI_BASE_URL = \"https://generativelanguage.googleapis.com/v1beta/openai/\"\n",
    "DEEPSEEK_BASE_URL = \"https://api.deepseek.com/v1\"\n",
    "GROQ_BASE_URL = \"https://api.groq.com/openai/v1\""
   ]
  },
  {
   "cell_type": "code",
   "execution_count": 6,
   "metadata": {},
   "outputs": [],
   "source": [
    "\n",
    "deepseek_client = AsyncOpenAI(base_url=DEEPSEEK_BASE_URL, api_key=deepseek_api_key)\n",
    "gemini_client = AsyncOpenAI(base_url=GEMINI_BASE_URL, api_key=google_api_key)\n",
    "groq_client = AsyncOpenAI(base_url=GROQ_BASE_URL, api_key=groq_api_key)\n",
    "\n",
    "deepseek_model = OpenAIChatCompletionsModel(model=\"deepseek-chat\", openai_client=deepseek_client)\n",
    "gemini_model = OpenAIChatCompletionsModel(model=\"gemini-2.0-flash\", openai_client=gemini_client)\n",
    "llama3_3_model = OpenAIChatCompletionsModel(model=\"llama-3.3-70b-versatile\", openai_client=groq_client)"
   ]
  },
  {
   "cell_type": "code",
   "execution_count": 7,
   "metadata": {},
   "outputs": [],
   "source": [
    "sales_agent1 = Agent(name=\"DeepSeek Sales Agent\", instructions=instructions1, model=deepseek_model)\n",
    "sales_agent2 =  Agent(name=\"Gemini Sales Agent\", instructions=instructions2, model=gemini_model)\n",
    "sales_agent3  = Agent(name=\"Llama3.3 Sales Agent\",instructions=instructions3,model=llama3_3_model)"
   ]
  },
  {
   "cell_type": "code",
   "execution_count": 8,
   "metadata": {},
   "outputs": [],
   "source": [
    "description = \"Write a cold sales email\"\n",
    "\n",
    "tool1 = sales_agent1.as_tool(tool_name=\"sales_agent1\", tool_description=description)\n",
    "tool2 = sales_agent2.as_tool(tool_name=\"sales_agent2\", tool_description=description)\n",
    "tool3 = sales_agent3.as_tool(tool_name=\"sales_agent3\", tool_description=description)"
   ]
  },
  {
   "cell_type": "code",
   "execution_count": 9,
   "metadata": {},
   "outputs": [],
   "source": [
    "@function_tool\n",
    "def send_html_email(subject: str, html_body: str) -> Dict[str, str]:\n",
    "    \"\"\" Send out an email with the given subject and HTML body to all sales prospects \"\"\"\n",
    "    sg = sendgrid.SendGridAPIClient(api_key=os.environ.get('SENDGRID_API_KEY'))\n",
    "    from_email = Email(\"williamlapa40@gmail.com\")  # Change to your verified sender\n",
    "    to_email = To(\"williamlapa@hotmail.com\")  # Change to your recipient\n",
    "    content = Content(\"text/html\", html_body)\n",
    "    mail = Mail(from_email, to_email, subject, content).get()\n",
    "    response = sg.client.mail.send.post(request_body=mail)\n",
    "    return {\"status\": \"success\"}"
   ]
  },
  {
   "cell_type": "code",
   "execution_count": 10,
   "metadata": {},
   "outputs": [],
   "source": [
    "subject_instructions = \"You can write a subject for a cold sales email. \\\n",
    "You are given a message and you need to write a subject for an email that is likely to get a response.\"\n",
    "\n",
    "html_instructions = \"You can convert a text email body to an HTML email body. \\\n",
    "You are given a text email body which might have some markdown \\\n",
    "and you need to convert it to an HTML email body with simple, clear, compelling layout and design.\"\n",
    "\n",
    "subject_writer = Agent(name=\"Email subject writer\", instructions=subject_instructions, model=\"gpt-4o-mini\")\n",
    "subject_tool = subject_writer.as_tool(tool_name=\"subject_writer\", tool_description=\"Write a subject for a cold sales email\")\n",
    "\n",
    "html_converter = Agent(name=\"HTML email body converter\", instructions=html_instructions, model=\"gpt-4o-mini\")\n",
    "html_tool = html_converter.as_tool(tool_name=\"html_converter\",tool_description=\"Convert a text email body to an HTML email body\")"
   ]
  },
  {
   "cell_type": "code",
   "execution_count": 11,
   "metadata": {},
   "outputs": [],
   "source": [
    "email_tools = [subject_tool, html_tool, send_html_email]"
   ]
  },
  {
   "cell_type": "code",
   "execution_count": 12,
   "metadata": {},
   "outputs": [],
   "source": [
    "instructions =\"You are an email formatter and sender. You receive the body of an email to be sent. \\\n",
    "You first use the subject_writer tool to write a subject for the email, then use the html_converter tool to convert the body to HTML. \\\n",
    "Finally, you use the send_html_email tool to send the email with the subject and HTML body.\"\n",
    "\n",
    "\n",
    "emailer_agent = Agent(\n",
    "    name=\"Email Manager\",\n",
    "    instructions=instructions,\n",
    "    tools=email_tools,\n",
    "    model=\"gpt-4o-mini\",\n",
    "    handoff_description=\"Convert an email to HTML and send it\")"
   ]
  },
  {
   "cell_type": "code",
   "execution_count": 13,
   "metadata": {},
   "outputs": [],
   "source": [
    "tools = [tool1, tool2, tool3]\n",
    "handoffs = [emailer_agent]"
   ]
  },
  {
   "cell_type": "code",
   "execution_count": 15,
   "metadata": {},
   "outputs": [],
   "source": [
    "sales_manager_instructions = \"You are a sales manager working for ComplAI. You use the tools given to you to generate cold sales emails. \\\n",
    "You never generate sales emails yourself; you always use the tools. \\\n",
    "You try all 3 sales agent tools at least once before choosing the best one. \\\n",
    "You can use the tools multiple times if you're not satisfied with the results from the first try. \\\n",
    "You select the single best email using your own judgement of which email will be most effective. \\\n",
    "After picking the email, you handoff to the Email Manager agent to format and send the email.\\\n",
    "Gere os textos em português \"\n",
    "\n",
    "\n",
    "sales_manager = Agent(\n",
    "    name=\"Sales Manager\",\n",
    "    instructions=sales_manager_instructions,\n",
    "    tools=tools,\n",
    "    handoffs=handoffs,\n",
    "    model=\"gpt-4o-mini\")\n",
    "\n",
    "message = \"Send out a cold sales email addressed to Dear CEO from Alice\"\n",
    "\n",
    "with trace(\"Automated SDR\"):\n",
    "    result = await Runner.run(sales_manager, message)"
   ]
  },
  {
   "cell_type": "code",
   "execution_count": 19,
   "metadata": {},
   "outputs": [
    {
     "name": "stdout",
     "output_type": "stream",
     "text": [
      "The cold sales email has been successfully sent to the CEO. If you need further assistance or have more emails to send, just let me know!\n"
     ]
    }
   ],
   "source": [
    "print(result.final_output)"
   ]
  },
  {
   "cell_type": "markdown",
   "metadata": {},
   "source": [
    "## Check out the trace:\n",
    "\n",
    "https://platform.openai.com/traces"
   ]
  },
  {
   "cell_type": "code",
   "execution_count": 20,
   "metadata": {},
   "outputs": [],
   "source": [
    "class NameCheckOutput(BaseModel):\n",
    "    is_name_in_message: bool\n",
    "    name: str\n",
    "\n",
    "guardrail_agent = Agent( \n",
    "    name=\"Name check\",\n",
    "    instructions=\"Check if the user is including someone's personal name in what they want you to do.\",\n",
    "    output_type=NameCheckOutput,\n",
    "    model=\"gpt-4o-mini\"\n",
    ")"
   ]
  },
  {
   "cell_type": "code",
   "execution_count": 21,
   "metadata": {},
   "outputs": [],
   "source": [
    "@input_guardrail\n",
    "async def guardrail_against_name(ctx, agent, message):\n",
    "    result = await Runner.run(guardrail_agent, message, context=ctx.context)\n",
    "    is_name_in_message = result.final_output.is_name_in_message\n",
    "    return GuardrailFunctionOutput(output_info={\"found_name\": result.final_output},tripwire_triggered=is_name_in_message)"
   ]
  },
  {
   "cell_type": "code",
   "execution_count": 22,
   "metadata": {},
   "outputs": [
    {
     "ename": "InputGuardrailTripwireTriggered",
     "evalue": "Guardrail InputGuardrail triggered tripwire",
     "output_type": "error",
     "traceback": [
      "\u001b[31m---------------------------------------------------------------------------\u001b[39m",
      "\u001b[31mInputGuardrailTripwireTriggered\u001b[39m           Traceback (most recent call last)",
      "\u001b[36mCell\u001b[39m\u001b[36m \u001b[39m\u001b[32mIn[22]\u001b[39m\u001b[32m, line 13\u001b[39m\n\u001b[32m     10\u001b[39m message = \u001b[33m\"\u001b[39m\u001b[33mSend out a cold sales email addressed to Dear CEO from Alice\u001b[39m\u001b[33m\"\u001b[39m\n\u001b[32m     12\u001b[39m \u001b[38;5;28;01mwith\u001b[39;00m trace(\u001b[33m\"\u001b[39m\u001b[33mProtected Automated SDR\u001b[39m\u001b[33m\"\u001b[39m):\n\u001b[32m---> \u001b[39m\u001b[32m13\u001b[39m     result = \u001b[38;5;28;01mawait\u001b[39;00m Runner.run(careful_sales_manager, message)\n",
      "\u001b[36mFile \u001b[39m\u001b[32mc:\\Users\\02392179425\\Desktop\\agents_course\\agents\\.venv\\Lib\\site-packages\\agents\\run.py:218\u001b[39m, in \u001b[36mRunner.run\u001b[39m\u001b[34m(cls, starting_agent, input, context, max_turns, hooks, run_config, previous_response_id)\u001b[39m\n\u001b[32m    213\u001b[39m logger.debug(\n\u001b[32m    214\u001b[39m     \u001b[33mf\u001b[39m\u001b[33m\"\u001b[39m\u001b[33mRunning agent \u001b[39m\u001b[38;5;132;01m{\u001b[39;00mcurrent_agent.name\u001b[38;5;132;01m}\u001b[39;00m\u001b[33m (turn \u001b[39m\u001b[38;5;132;01m{\u001b[39;00mcurrent_turn\u001b[38;5;132;01m}\u001b[39;00m\u001b[33m)\u001b[39m\u001b[33m\"\u001b[39m,\n\u001b[32m    215\u001b[39m )\n\u001b[32m    217\u001b[39m \u001b[38;5;28;01mif\u001b[39;00m current_turn == \u001b[32m1\u001b[39m:\n\u001b[32m--> \u001b[39m\u001b[32m218\u001b[39m     input_guardrail_results, turn_result = \u001b[38;5;28;01mawait\u001b[39;00m asyncio.gather(\n\u001b[32m    219\u001b[39m         \u001b[38;5;28mcls\u001b[39m._run_input_guardrails(\n\u001b[32m    220\u001b[39m             starting_agent,\n\u001b[32m    221\u001b[39m             starting_agent.input_guardrails\n\u001b[32m    222\u001b[39m             + (run_config.input_guardrails \u001b[38;5;129;01mor\u001b[39;00m []),\n\u001b[32m    223\u001b[39m             copy.deepcopy(\u001b[38;5;28minput\u001b[39m),\n\u001b[32m    224\u001b[39m             context_wrapper,\n\u001b[32m    225\u001b[39m         ),\n\u001b[32m    226\u001b[39m         \u001b[38;5;28mcls\u001b[39m._run_single_turn(\n\u001b[32m    227\u001b[39m             agent=current_agent,\n\u001b[32m    228\u001b[39m             all_tools=all_tools,\n\u001b[32m    229\u001b[39m             original_input=original_input,\n\u001b[32m    230\u001b[39m             generated_items=generated_items,\n\u001b[32m    231\u001b[39m             hooks=hooks,\n\u001b[32m    232\u001b[39m             context_wrapper=context_wrapper,\n\u001b[32m    233\u001b[39m             run_config=run_config,\n\u001b[32m    234\u001b[39m             should_run_agent_start_hooks=should_run_agent_start_hooks,\n\u001b[32m    235\u001b[39m             tool_use_tracker=tool_use_tracker,\n\u001b[32m    236\u001b[39m             previous_response_id=previous_response_id,\n\u001b[32m    237\u001b[39m         ),\n\u001b[32m    238\u001b[39m     )\n\u001b[32m    239\u001b[39m \u001b[38;5;28;01melse\u001b[39;00m:\n\u001b[32m    240\u001b[39m     turn_result = \u001b[38;5;28;01mawait\u001b[39;00m \u001b[38;5;28mcls\u001b[39m._run_single_turn(\n\u001b[32m    241\u001b[39m         agent=current_agent,\n\u001b[32m    242\u001b[39m         all_tools=all_tools,\n\u001b[32m   (...)\u001b[39m\u001b[32m    250\u001b[39m         previous_response_id=previous_response_id,\n\u001b[32m    251\u001b[39m     )\n",
      "\u001b[36mFile \u001b[39m\u001b[32mc:\\Users\\02392179425\\Desktop\\agents_course\\agents\\.venv\\Lib\\site-packages\\agents\\run.py:859\u001b[39m, in \u001b[36mRunner._run_input_guardrails\u001b[39m\u001b[34m(cls, agent, guardrails, input, context)\u001b[39m\n\u001b[32m    852\u001b[39m         t.cancel()\n\u001b[32m    853\u001b[39m     _error_tracing.attach_error_to_current_span(\n\u001b[32m    854\u001b[39m         SpanError(\n\u001b[32m    855\u001b[39m             message=\u001b[33m\"\u001b[39m\u001b[33mGuardrail tripwire triggered\u001b[39m\u001b[33m\"\u001b[39m,\n\u001b[32m    856\u001b[39m             data={\u001b[33m\"\u001b[39m\u001b[33mguardrail\u001b[39m\u001b[33m\"\u001b[39m: result.guardrail.get_name()},\n\u001b[32m    857\u001b[39m         )\n\u001b[32m    858\u001b[39m     )\n\u001b[32m--> \u001b[39m\u001b[32m859\u001b[39m     \u001b[38;5;28;01mraise\u001b[39;00m InputGuardrailTripwireTriggered(result)\n\u001b[32m    860\u001b[39m \u001b[38;5;28;01melse\u001b[39;00m:\n\u001b[32m    861\u001b[39m     guardrail_results.append(result)\n",
      "\u001b[31mInputGuardrailTripwireTriggered\u001b[39m: Guardrail InputGuardrail triggered tripwire"
     ]
    }
   ],
   "source": [
    "careful_sales_manager = Agent(\n",
    "    name=\"Sales Manager\",\n",
    "    instructions=sales_manager_instructions,\n",
    "    tools=tools,\n",
    "    handoffs=[emailer_agent],\n",
    "    model=\"gpt-4o-mini\",\n",
    "    input_guardrails=[guardrail_against_name]\n",
    "    )\n",
    "\n",
    "message = \"Send out a cold sales email addressed to Dear CEO from Alice\"\n",
    "\n",
    "with trace(\"Protected Automated SDR\"):\n",
    "    result = await Runner.run(careful_sales_manager, message)"
   ]
  },
  {
   "cell_type": "markdown",
   "metadata": {},
   "source": [
    "## Check out the trace:\n",
    "\n",
    "https://platform.openai.com/traces"
   ]
  },
  {
   "cell_type": "code",
   "execution_count": 23,
   "metadata": {},
   "outputs": [],
   "source": [
    "\n",
    "message = \"Send out a cold sales email addressed to Dear CEO from Head of Business Development\"\n",
    "\n",
    "with trace(\"Protected Automated SDR with no names\"):\n",
    "    result = await Runner.run(careful_sales_manager, message)"
   ]
  },
  {
   "cell_type": "markdown",
   "metadata": {},
   "source": [
    "<table style=\"margin: 0; text-align: left; width:100%\">\n",
    "    <tr>\n",
    "        <td style=\"width: 150px; height: 150px; vertical-align: middle;\">\n",
    "            <img src=\"../assets/exercise.png\" width=\"150\" height=\"150\" style=\"display: block;\" />\n",
    "        </td>\n",
    "        <td>\n",
    "            <h2 style=\"color:#ff7800;\">Exercise</h2>\n",
    "            <span style=\"color:#ff7800;\">• Try different models<br/>• Add more input and output guardrails<br/>• Use structured outputs for the email generation\n",
    "            </span>\n",
    "        </td>\n",
    "    </tr>\n",
    "</table>"
   ]
  },
  {
   "cell_type": "markdown",
   "metadata": {},
   "source": []
  },
  {
   "cell_type": "markdown",
   "metadata": {},
   "source": [
    "## Outro exemplo de uso do guardrail"
   ]
  },
  {
   "cell_type": "code",
   "execution_count": null,
   "metadata": {},
   "outputs": [],
   "source": [
    "# Guardrail para verificação de senha comum\n",
    "\n",
    "# 1. O que o Agente Guardrail Vai Entregar\n",
    "class PasswordCheckOutput(BaseModel):\n",
    "    has_common_password: bool\n",
    "    found_passwords: List[str]\n",
    "\n",
    "# 2. O Agente de Verificação de Senhas\n",
    "password_guardrail_agent = Agent(\n",
    "    name=\"Password Checker\",\n",
    "    instructions=\"Check if the user's message contains any common or obvious passwords like 'password', '123456', 'admin', etc.\",\n",
    "    output_type=PasswordCheckOutput,\n",
    "    model=\"gpt-4o-mini\"\n",
    ")\n",
    "\n",
    "# 3. A Função da Barreira de Segurança\n",
    "@input_guardrail\n",
    "async def guardrail_against_passwords(ctx, agent, message):\n",
    "    result = await Runner.run(password_guardrail_agent, message, context=ctx.context)\n",
    "    has_password_in_message = result.final_output.has_common_password\n",
    "    return GuardrailFunctionOutput(output_info={\"found_common_password\": result.final_output}, tripwire_triggered=has_password_in_message)\n",
    "\n",
    "# 4. O Agente Principal (que vai usar o guardrail)\n",
    "# Vamos reutilizar o 'careful_sales_manager' e adicionar o novo guardrail\n",
    "# Observação: Para este exemplo, 'sales_manager_instructions', 'tools' e 'emailer_agent'\n",
    "# seriam definidos em outro lugar no seu código, como no exemplo anterior.\n",
    "# Apenas a lista de 'input_guardrails' é modificada aqui.\n",
    "\n",
    "class SomeAgentOutput(BaseModel): # Apenas um tipo de saída de exemplo para o agente principal\n",
    "    status: str\n",
    "\n",
    "careful_sales_manager = Agent(\n",
    "    name=\"Sales Manager\",\n",
    "    instructions=\"Manage sales tasks and interact with customers.\",\n",
    "    output_type=SomeAgentOutput, # Usando um tipo de saída de exemplo\n",
    "    tools=tools, \n",
    "    handoffs=[emailer_agent], \n",
    "    model=\"gpt-4o-mini\",\n",
    "    input_guardrails=[guardrail_against_passwords] # Adicionando o novo guardrail\n",
    ")\n",
    "\n",
    "# 5. Mensagens de Exemplo\n",
    "message_with_password = \"Please reset my account. My new password is password123.\"\n",
    "message_without_password = \"I need to send an email to John Doe.\"\n",
    "\n",
    "# Executando com o guardrail\n",
    "async def run_example():\n",
    "    print(\"--- Testando com senha ---\")\n",
    "    with trace(\"Protected Automated SDR\"):\n",
    "        result_with_password = await Runner.run(careful_sales_manager, message_with_password)\n",
    "        print(f\"Resultado com senha: {result_with_password.final_output}\")\n",
    "        print(f\"Guardrail ativado: {result_with_password.tripwire_triggered}\")\n",
    "        print(f\"Detalhes do guardrail: {result_with_password.guardrails_output}\")\n",
    "\n",
    "    print(\"\\n--- Testando sem senha ---\")\n",
    "    with trace(\"Protected Automated SDR\"):\n",
    "        result_without_password = await Runner.run(careful_sales_manager, message_without_password)\n",
    "        print(f\"Resultado sem senha: {result_without_password.final_output}\")\n",
    "        print(f\"Guardrail ativado: {result_without_password.tripwire_triggered}\")\n",
    "        print(f\"Detalhes do guardrail: {result_without_password.guardrails_output}\")\n",
    "\n",
    "\n",
    "await run_example()"
   ]
  },
  {
   "cell_type": "code",
   "execution_count": null,
   "metadata": {},
   "outputs": [],
   "source": [
    "# Executando exemplo\n",
    "message = \"Please reset my account. My new password is 123456.\"\n",
    "\n",
    "with trace(\"Exeemplo Guardrail com senha\"):\n",
    "    result = await Runner.run(careful_sales_manager, message)\n",
    "    print(f\"Resultado com senha: {result.final_output}\")\n",
    "    # print(f\"Guardrail ativado: {result.tripwire_triggered}\")\n",
    "    # print(f\"Detalhes do guardrail: {result.guardrails_output}\")"
   ]
  },
  {
   "cell_type": "markdown",
   "metadata": {},
   "source": [
    "## Usando outra estrutura de resposta"
   ]
  },
  {
   "cell_type": "code",
   "execution_count": 33,
   "metadata": {},
   "outputs": [],
   "source": [
    "# Definindo a Estrutura do E-mail (EmailOutput)\n",
    "\n",
    "from pydantic import BaseModel, Field\n",
    "from typing import List, Optional\n",
    "\n",
    "class EmailOutput(BaseModel):\n",
    "    \"\"\"Estrutura para um e-mail de vendas.\"\"\"\n",
    "    recipient_name: str = Field(description=\"O nome do destinatário do e-mail.\")\n",
    "    recipient_title: Optional[str] = Field(description=\"O cargo do destinatário, se conhecido. Opcional.\")\n",
    "    subject: str = Field(description=\"O assunto conciso e cativante do e-mail.\")\n",
    "    greeting: str = Field(description=\"A saudação personalizada do e-mail (ex: 'Prezado [Nome]', 'Olá [Nome]').\")\n",
    "    body_paragraphs: List[str] = Field(description=\"Uma lista de parágrafos que compõem o corpo do e-mail. Cada item da lista é um parágrafo.\")\n",
    "    call_to_action: str = Field(description=\"Uma chamada clara à ação para o destinatário (ex: 'Agende uma reunião', 'Visite nosso site').\")\n",
    "    sender_name: str = Field(description=\"O nome do remetente do e-mail.\")\n",
    "    sender_title: str = Field(description=\"O cargo do remetente do e-mail.\")\n",
    "    signature: str = Field(description=\"A assinatura do e-mail (ex: 'Atenciosamente,', 'Cordialmente,').\")\n",
    "    company_name: str = Field(description=\"O nome da empresa que envia o e-mail.\")"
   ]
  },
  {
   "cell_type": "code",
   "execution_count": 34,
   "metadata": {},
   "outputs": [],
   "source": [
    "# Agente de Geração de E-mails\n",
    "# Agora, vamos criar um agente que usará essa estrutura para gerar o e-mail.\n",
    "\n",
    "# As definições de NameCheckOutput e guardrail_against_name do exemplo anterior\n",
    "# (se você quiser usar o guardrail de nome neste agente também)\n",
    "class NameCheckOutput(BaseModel):\n",
    "    is_name_in_message: bool\n",
    "    name: str\n",
    "\n",
    "guardrail_agent = Agent(\n",
    "    name=\"Name check\",\n",
    "    instructions=\"Check if the user is including someone's personal name in what they want you to do.\",\n",
    "    output_type=NameCheckOutput,\n",
    "    model=\"gpt-4o-mini\"\n",
    ")\n",
    "\n",
    "@input_guardrail\n",
    "async def guardrail_against_name(ctx, agent, message):\n",
    "    result = await Runner.run(guardrail_agent, message, context=ctx.context)\n",
    "    is_name_in_message = result.final_output.is_name_in_message\n",
    "    # Se o nome for detectado, o tripwire é ativado, e a execução do agente principal pode ser interrompida ou alterada.\n",
    "    return GuardrailFunctionOutput(output_info={\"found_name\": result.final_output},tripwire_triggered=is_name_in_message)\n",
    "\n",
    "# Agora, o agente de geração de e-mails\n",
    "emailer_agent = Agent(\n",
    "    name=\"Email Generator\",\n",
    "    instructions=\"\"\"Você é um redator de e-mails de vendas profissional.\n",
    "    Sua tarefa é gerar um e-mail de vendas convincente para um novo lead,\n",
    "    com base nas informações fornecidas.\n",
    "    Seja conciso, profissional e persuasivo.\n",
    "    Sua saída DEVE seguir o formato EmailOutput estritamente.\n",
    "    \"\"\",\n",
    "    output_type=EmailOutput, # AQUI está a chave: definimos a saída esperada\n",
    "    model=\"gpt-4o-mini\", # Pode ser 'gpt-4o', 'gpt-3.5-turbo', etc.\n",
    "    # input_guardrails=[guardrail_against_name] # Podemos aplicar o guardrail de nome aqui também, se quisermos.\n",
    ")\n",
    "\n",
    "# O agente principal que orquestra\n",
    "sales_manager_instructions = \"\"\"\n",
    "Você é um gerente de vendas automatizado.\n",
    "Sua principal função é receber solicitações de leads e gerar e-mails de vendas.\n",
    "Use o 'Email Generator' para criar o e-mail.\n",
    "\"\"\"\n",
    "\n",
    "careful_sales_manager = Agent(\n",
    "    name=\"Sales Manager\",\n",
    "    instructions=sales_manager_instructions,\n",
    "    handoffs=[emailer_agent], # O Sales Manager pode \"passar a bola\" para o Emailer Agent\n",
    "    model=\"gpt-4o-mini\",\n",
    "    input_guardrails=[guardrail_against_name] # Reutilizando o guardrail de nome\n",
    ")"
   ]
  },
  {
   "cell_type": "code",
   "execution_count": 35,
   "metadata": {},
   "outputs": [
    {
     "name": "stdout",
     "output_type": "stream",
     "text": [
      "--- Gerando E-mail com Saída Estruturada ---\n"
     ]
    },
    {
     "name": "stderr",
     "output_type": "stream",
     "text": [
      "C:\\Users\\02392179425\\AppData\\Local\\Programs\\Python\\Python312\\Lib\\re\\__init__.py:260: RuntimeWarning: coroutine 'run_example' was never awaited\n",
      "  return pattern.translate(_special_chars_map)\n",
      "RuntimeWarning: Enable tracemalloc to get the object allocation traceback\n"
     ]
    },
    {
     "ename": "InputGuardrailTripwireTriggered",
     "evalue": "Guardrail InputGuardrail triggered tripwire",
     "output_type": "error",
     "traceback": [
      "\u001b[31m---------------------------------------------------------------------------\u001b[39m",
      "\u001b[31mInputGuardrailTripwireTriggered\u001b[39m           Traceback (most recent call last)",
      "\u001b[36mCell\u001b[39m\u001b[36m \u001b[39m\u001b[32mIn[35]\u001b[39m\u001b[32m, line 122\u001b[39m\n\u001b[32m    113\u001b[39m \u001b[38;5;66;03m# Re-definir o careful_sales_manager para ter o handoff correto\u001b[39;00m\n\u001b[32m    114\u001b[39m careful_sales_manager = Agent(\n\u001b[32m    115\u001b[39m     name=\u001b[33m\"\u001b[39m\u001b[33mSales Manager\u001b[39m\u001b[33m\"\u001b[39m,\n\u001b[32m    116\u001b[39m     instructions=sales_manager_instructions,\n\u001b[32m   (...)\u001b[39m\u001b[32m    119\u001b[39m     input_guardrails=[guardrail_against_name] \u001b[38;5;66;03m# Reutilizando o guardrail de nome\u001b[39;00m\n\u001b[32m    120\u001b[39m )\n\u001b[32m--> \u001b[39m\u001b[32m122\u001b[39m \u001b[38;5;28;01mawait\u001b[39;00m run_email_generation_example()\n",
      "\u001b[36mCell\u001b[39m\u001b[36m \u001b[39m\u001b[32mIn[35]\u001b[39m\u001b[32m, line 9\u001b[39m, in \u001b[36mrun_email_generation_example\u001b[39m\u001b[34m()\u001b[39m\n\u001b[32m      6\u001b[39m \u001b[38;5;28mprint\u001b[39m(\u001b[33m\"\u001b[39m\u001b[33m--- Gerando E-mail com Saída Estruturada ---\u001b[39m\u001b[33m\"\u001b[39m)\n\u001b[32m      7\u001b[39m \u001b[38;5;28;01mwith\u001b[39;00m trace(\u001b[33m\"\u001b[39m\u001b[33mEmail Generation SDR\u001b[39m\u001b[33m\"\u001b[39m):\n\u001b[32m      8\u001b[39m     \u001b[38;5;66;03m# O Sales Manager receberá a mensagem e fará o handoff para o Emailer Agent\u001b[39;00m\n\u001b[32m----> \u001b[39m\u001b[32m9\u001b[39m     result = \u001b[38;5;28;01mawait\u001b[39;00m Runner.run(careful_sales_manager, message)\n\u001b[32m     11\u001b[39m     \u001b[38;5;66;03m# O 'final_output' do Runner.run quando há um handoff para um agente com output_type\u001b[39;00m\n\u001b[32m     12\u001b[39m     \u001b[38;5;66;03m# conterá a saída estruturada desse agente.\u001b[39;00m\n\u001b[32m     13\u001b[39m     \u001b[38;5;66;03m# Guardrails-AI pode encapsular isso um pouco, então precisamos acessar corretamente.\u001b[39;00m\n\u001b[32m     14\u001b[39m \n\u001b[32m     15\u001b[39m     \u001b[38;5;66;03m# Verificando se o tripwire foi ativado (se o guardrail de nome estivesse ativo e detectasse um nome)\u001b[39;00m\n\u001b[32m     16\u001b[39m     \u001b[38;5;28;01mif\u001b[39;00m result.tripwire_triggered:\n",
      "\u001b[36mFile \u001b[39m\u001b[32mc:\\Users\\02392179425\\Desktop\\agents_course\\agents\\.venv\\Lib\\site-packages\\agents\\run.py:218\u001b[39m, in \u001b[36mRunner.run\u001b[39m\u001b[34m(cls, starting_agent, input, context, max_turns, hooks, run_config, previous_response_id)\u001b[39m\n\u001b[32m    213\u001b[39m logger.debug(\n\u001b[32m    214\u001b[39m     \u001b[33mf\u001b[39m\u001b[33m\"\u001b[39m\u001b[33mRunning agent \u001b[39m\u001b[38;5;132;01m{\u001b[39;00mcurrent_agent.name\u001b[38;5;132;01m}\u001b[39;00m\u001b[33m (turn \u001b[39m\u001b[38;5;132;01m{\u001b[39;00mcurrent_turn\u001b[38;5;132;01m}\u001b[39;00m\u001b[33m)\u001b[39m\u001b[33m\"\u001b[39m,\n\u001b[32m    215\u001b[39m )\n\u001b[32m    217\u001b[39m \u001b[38;5;28;01mif\u001b[39;00m current_turn == \u001b[32m1\u001b[39m:\n\u001b[32m--> \u001b[39m\u001b[32m218\u001b[39m     input_guardrail_results, turn_result = \u001b[38;5;28;01mawait\u001b[39;00m asyncio.gather(\n\u001b[32m    219\u001b[39m         \u001b[38;5;28mcls\u001b[39m._run_input_guardrails(\n\u001b[32m    220\u001b[39m             starting_agent,\n\u001b[32m    221\u001b[39m             starting_agent.input_guardrails\n\u001b[32m    222\u001b[39m             + (run_config.input_guardrails \u001b[38;5;129;01mor\u001b[39;00m []),\n\u001b[32m    223\u001b[39m             copy.deepcopy(\u001b[38;5;28minput\u001b[39m),\n\u001b[32m    224\u001b[39m             context_wrapper,\n\u001b[32m    225\u001b[39m         ),\n\u001b[32m    226\u001b[39m         \u001b[38;5;28mcls\u001b[39m._run_single_turn(\n\u001b[32m    227\u001b[39m             agent=current_agent,\n\u001b[32m    228\u001b[39m             all_tools=all_tools,\n\u001b[32m    229\u001b[39m             original_input=original_input,\n\u001b[32m    230\u001b[39m             generated_items=generated_items,\n\u001b[32m    231\u001b[39m             hooks=hooks,\n\u001b[32m    232\u001b[39m             context_wrapper=context_wrapper,\n\u001b[32m    233\u001b[39m             run_config=run_config,\n\u001b[32m    234\u001b[39m             should_run_agent_start_hooks=should_run_agent_start_hooks,\n\u001b[32m    235\u001b[39m             tool_use_tracker=tool_use_tracker,\n\u001b[32m    236\u001b[39m             previous_response_id=previous_response_id,\n\u001b[32m    237\u001b[39m         ),\n\u001b[32m    238\u001b[39m     )\n\u001b[32m    239\u001b[39m \u001b[38;5;28;01melse\u001b[39;00m:\n\u001b[32m    240\u001b[39m     turn_result = \u001b[38;5;28;01mawait\u001b[39;00m \u001b[38;5;28mcls\u001b[39m._run_single_turn(\n\u001b[32m    241\u001b[39m         agent=current_agent,\n\u001b[32m    242\u001b[39m         all_tools=all_tools,\n\u001b[32m   (...)\u001b[39m\u001b[32m    250\u001b[39m         previous_response_id=previous_response_id,\n\u001b[32m    251\u001b[39m     )\n",
      "\u001b[36mFile \u001b[39m\u001b[32mc:\\Users\\02392179425\\Desktop\\agents_course\\agents\\.venv\\Lib\\site-packages\\agents\\run.py:859\u001b[39m, in \u001b[36mRunner._run_input_guardrails\u001b[39m\u001b[34m(cls, agent, guardrails, input, context)\u001b[39m\n\u001b[32m    852\u001b[39m         t.cancel()\n\u001b[32m    853\u001b[39m     _error_tracing.attach_error_to_current_span(\n\u001b[32m    854\u001b[39m         SpanError(\n\u001b[32m    855\u001b[39m             message=\u001b[33m\"\u001b[39m\u001b[33mGuardrail tripwire triggered\u001b[39m\u001b[33m\"\u001b[39m,\n\u001b[32m    856\u001b[39m             data={\u001b[33m\"\u001b[39m\u001b[33mguardrail\u001b[39m\u001b[33m\"\u001b[39m: result.guardrail.get_name()},\n\u001b[32m    857\u001b[39m         )\n\u001b[32m    858\u001b[39m     )\n\u001b[32m--> \u001b[39m\u001b[32m859\u001b[39m     \u001b[38;5;28;01mraise\u001b[39;00m InputGuardrailTripwireTriggered(result)\n\u001b[32m    860\u001b[39m \u001b[38;5;28;01melse\u001b[39;00m:\n\u001b[32m    861\u001b[39m     guardrail_results.append(result)\n",
      "\u001b[31mInputGuardrailTripwireTriggered\u001b[39m: Guardrail InputGuardrail triggered tripwire"
     ]
    }
   ],
   "source": [
    "# A mensagem que o usuário daria ao Sales Manager\n",
    "message = \"Gerar um e-mail de vendas para João Silva, CEO da TechInovate, sobre nossa nova solução de IA para otimização de processos.\"\n",
    "\n",
    "# Executando o processo\n",
    "async def run_email_generation_example():\n",
    "    print(\"--- Gerando E-mail com Saída Estruturada ---\")\n",
    "    with trace(\"Email Generation SDR\"):\n",
    "        # O Sales Manager receberá a mensagem e fará o handoff para o Emailer Agent\n",
    "        result = await Runner.run(careful_sales_manager, message)\n",
    "\n",
    "        # O 'final_output' do Runner.run quando há um handoff para um agente com output_type\n",
    "        # conterá a saída estruturada desse agente.\n",
    "        # Guardrails-AI pode encapsular isso um pouco, então precisamos acessar corretamente.\n",
    "\n",
    "        # Verificando se o tripwire foi ativado (se o guardrail de nome estivesse ativo e detectasse um nome)\n",
    "        if result.tripwire_triggered:\n",
    "            print(f\"Guardrail Ativado! Motivo: {result.guardrails_output.get('guardrail_against_name').output_info}\")\n",
    "            print(\"Não foi possível gerar o e-mail devido ao guardrail.\")\n",
    "            return\n",
    "\n",
    "        # A saída final do 'Runner.run' para o 'careful_sales_manager'\n",
    "        # deve conter o resultado do 'emailer_agent' se o handoff foi bem-sucedido.\n",
    "        # A forma exata de acessar depende da versão da biblioteca, mas geralmente é via final_output\n",
    "        # ou através de logs detalhados.\n",
    "        # No guardrails-ai, se um handoff ocorre e o agente delegado produz uma saída,\n",
    "        # essa saída é o 'final_output' do Runner.run.\n",
    "\n",
    "        email_data: EmailOutput = result.final_output\n",
    "\n",
    "        print(\"\\n--- E-mail Gerado (Estruturado) ---\")\n",
    "        print(f\"Tipo de objeto: {type(email_data)}\")\n",
    "        print(f\"Nome do Destinatário: {email_data.recipient_name}\")\n",
    "        print(f\"Cargo do Destinatário: {email_data.recipient_title}\")\n",
    "        print(f\"Assunto: {email_data.subject}\")\n",
    "        print(f\"Saudação: {email_data.greeting}\")\n",
    "        print(\"Corpo do E-mail:\")\n",
    "        for paragraph in email_data.body_paragraphs:\n",
    "            print(f\"- {paragraph}\")\n",
    "        print(f\"Chamada para Ação: {email_data.call_to_action}\")\n",
    "        print(f\"Nome do Remetente: {email_data.sender_name}\")\n",
    "        print(f\"Cargo do Remetente: {email_data.sender_title}\")\n",
    "        print(f\"Assinatura: {email_data.signature}\")\n",
    "        print(f\"Nome da Empresa: {email_data.company_name}\")\n",
    "\n",
    "        # Como você usaria isso em um sistema de envio de e-mail:\n",
    "        print(\"\\n--- Exemplo de Montagem do E-mail Real ---\")\n",
    "        full_email_body = \"\\n\\n\".join(email_data.body_paragraphs)\n",
    "        final_email_text = (\n",
    "            f\"Para: {email_data.recipient_name} ({email_data.recipient_title or 'N/A'})\\n\"\n",
    "            f\"Assunto: {email_data.subject}\\n\\n\"\n",
    "            f\"{email_data.greeting}\\n\\n\"\n",
    "            f\"{full_email_body}\\n\\n\"\n",
    "            f\"{email_data.call_to_action}\\n\\n\"\n",
    "            f\"{email_data.signature}\\n\"\n",
    "            f\"{email_data.sender_name}\\n\"\n",
    "            f\"{email_data.sender_title}\\n\"\n",
    "            f\"{email_data.company_name}\"\n",
    "        )\n",
    "        print(final_email_text)\n",
    "\n",
    "# Para rodar (se for um script Python):\n",
    "if __name__ == \"__main__\":\n",
    "    # Mock para evitar erros se tools e emailer_agent não estiverem definidos globalmente\n",
    "    class MockTool:\n",
    "        def __call__(self, *args, **kwargs):\n",
    "            pass\n",
    "    tools = [MockTool()]\n",
    "    class MockEmailerAgent: # Ajustando o mock para o handoff\n",
    "        def __init__(self, *args, **kwargs):\n",
    "            self.name = kwargs.get('name', 'MockEmailer')\n",
    "            self.instructions = kwargs.get('instructions', '')\n",
    "            self.output_type = kwargs.get('output_type')\n",
    "            self.model = kwargs.get('model', 'gpt-4o-mini') # Mock LLM model\n",
    "\n",
    "        async def run(self, message, context):\n",
    "            # Este é um mock simplificado de como o EmailerAgent real responderia\n",
    "            # Em um cenário real, você não precisaria mockar o EmailerAgent se ele estivesse definido corretamente\n",
    "            # Este mock é apenas para que o `Runner.run` do `careful_sales_manager` funcione sem erros de dependência\n",
    "            return {\n",
    "                \"final_output\": EmailOutput(\n",
    "                    recipient_name=\"João Silva\",\n",
    "                    recipient_title=\"CEO\",\n",
    "                    subject=\"Potencialize a Otimização de Processos com Nossa Solução de IA\",\n",
    "                    greeting=\"Prezado João,\",\n",
    "                    body_paragraphs=[\n",
    "                        \"Entendemos que a otimização de processos é crucial para a inovação e o crescimento.\",\n",
    "                        \"Nossa nova solução de IA foi desenvolvida para identificar gargalos, automatizar tarefas repetitivas e gerar insights acionáveis, resultando em maior eficiência e redução de custos para a TechInovate.\",\n",
    "                        \"Gostaria de explorar como podemos adaptar essa tecnologia às necessidades específicas de sua empresa.\"\n",
    "                    ],\n",
    "                    call_to_action=\"Agende uma breve demonstração para ver nossa solução em ação e discutir o potencial impacto na TechInovate.\",\n",
    "                    sender_name=\"Seu Nome\",\n",
    "                    sender_title=\"Gerente de Contas\",\n",
    "                    signature=\"Atenciosamente,\",\n",
    "                    company_name=\"Sua Empresa de Inovação\"\n",
    "                )\n",
    "            }\n",
    "\n",
    "    # Re-definir o emailer_agent usando a classe MockEmailerAgent para evitar erros de dependência\n",
    "    # APENAS PARA FINS DE TESTE DESTE SCRIPT ISOLADO\n",
    "    # Em um projeto real, você teria a definição completa do EmailerAgent\n",
    "    emailer_agent = Agent(\n",
    "        name=\"Email Generator\",\n",
    "        instructions=\"\"\"Você é um redator de e-mails de vendas profissional.\n",
    "        Sua tarefa é gerar um e-mail de vendas convincente para um novo lead,\n",
    "        com base nas informações fornecidas.\n",
    "        Seja conciso, profissional e persuasivo.\n",
    "        Sua saída DEVE seguir o formato EmailOutput estritamente.\n",
    "        \"\"\",\n",
    "        output_type=EmailOutput, # AQUI está a chave: definimos a saída esperada\n",
    "        model=\"gpt-4o-mini\"\n",
    "    )\n",
    "\n",
    "    # Re-definir o careful_sales_manager para ter o handoff correto\n",
    "    careful_sales_manager = Agent(\n",
    "        name=\"Sales Manager\",\n",
    "        instructions=sales_manager_instructions,\n",
    "        handoffs=[emailer_agent], # O Sales Manager pode \"passar a bola\" para o Emailer Agent\n",
    "        model=\"gpt-4o-mini\",\n",
    "        input_guardrails=[guardrail_against_name] # Reutilizando o guardrail de nome\n",
    "    )\n",
    "\n",
    "    await run_email_generation_example()"
   ]
  }
 ],
 "metadata": {
  "kernelspec": {
   "display_name": ".venv",
   "language": "python",
   "name": "python3"
  },
  "language_info": {
   "codemirror_mode": {
    "name": "ipython",
    "version": 3
   },
   "file_extension": ".py",
   "mimetype": "text/x-python",
   "name": "python",
   "nbconvert_exporter": "python",
   "pygments_lexer": "ipython3",
   "version": "3.12.0"
  }
 },
 "nbformat": 4,
 "nbformat_minor": 2
}
