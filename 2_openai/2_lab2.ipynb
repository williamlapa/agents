{
 "cells": [
  {
   "cell_type": "markdown",
   "metadata": {},
   "source": [
    "## Week 2 Day 2\n",
    "\n",
    "Our first Agentic Framework project!!\n",
    "\n",
    "Prepare yourself for something ridiculously easy.\n",
    "\n",
    "We're going to build a simple Agent system for generating cold sales outreach emails:\n",
    "1. Agent workflow\n",
    "2. Use of tools to call functions\n",
    "3. Agent collaboration via Tools and Handoffs"
   ]
  },
  {
   "cell_type": "markdown",
   "metadata": {},
   "source": [
    "## Before we start - some setup:\n",
    "\n",
    "\n",
    "Please visit Sendgrid at: https://sendgrid.com/\n",
    "\n",
    "(Sendgrid is a Twilio company for sending emails.)\n",
    "\n",
    "Please set up an account - it's free! (at least, for me, right now).\n",
    "\n",
    "Once you've created an account, click on:\n",
    "\n",
    "Settings (left sidebar) >> API Keys >> Create API Key (button on top right)\n",
    "\n",
    "Copy the key to the clipboard, then add a new line to your .env file:\n",
    "\n",
    "`SENDGRID_API_KEY=xxxx`\n",
    "\n",
    "And also, within SendGrid, go to:\n",
    "\n",
    "Settings (left sidebar) >> Sender Authentication >> \"Verify a Single Sender\"  \n",
    "and verify that your own email address is a real email address, so that SendGrid can send emails for you.\n"
   ]
  },
  {
   "cell_type": "code",
   "execution_count": 46,
   "metadata": {},
   "outputs": [],
   "source": [
    "from dotenv import load_dotenv\n",
    "from agents import Agent, Runner, trace, function_tool\n",
    "from openai.types.responses import ResponseTextDeltaEvent\n",
    "from typing import Dict\n",
    "import sendgrid\n",
    "import os\n",
    "from sendgrid.helpers.mail import Mail, Email, To, Content\n",
    "import asyncio\n",
    "from typing import Dict, List, Any\n",
    "\n"
   ]
  },
  {
   "cell_type": "code",
   "execution_count": 2,
   "metadata": {},
   "outputs": [
    {
     "data": {
      "text/plain": [
       "True"
      ]
     },
     "execution_count": 2,
     "metadata": {},
     "output_type": "execute_result"
    }
   ],
   "source": [
    "load_dotenv(override=True)"
   ]
  },
  {
   "cell_type": "markdown",
   "metadata": {},
   "source": [
    "## Step 1: Agent workflow"
   ]
  },
  {
   "cell_type": "code",
   "execution_count": 3,
   "metadata": {},
   "outputs": [],
   "source": [
    "instructions1 = \"You are a sales agent working for ComplAI, \\\n",
    "a company that provides a SaaS tool for ensuring SOC2 compliance and preparing for audits, powered by AI. \\\n",
    "You write professional, serious cold emails.\"\n",
    "\n",
    "instructions2 = \"You are a humorous, engaging sales agent working for ComplAI, \\\n",
    "a company that provides a SaaS tool for ensuring SOC2 compliance and preparing for audits, powered by AI. \\\n",
    "You write witty, engaging cold emails that are likely to get a response.\"\n",
    "\n",
    "instructions3 = \"You are a busy sales agent working for ComplAI, \\\n",
    "a company that provides a SaaS tool for ensuring SOC2 compliance and preparing for audits, powered by AI. \\\n",
    "You write concise, to the point cold emails.\""
   ]
  },
  {
   "cell_type": "code",
   "execution_count": 4,
   "metadata": {},
   "outputs": [],
   "source": [
    "sales_agent1 = Agent(\n",
    "        name=\"Professional Sales Agent\",\n",
    "        instructions=instructions1,\n",
    "        model=\"gpt-4o-mini\"\n",
    ")\n",
    "\n",
    "sales_agent2 = Agent(\n",
    "        name=\"Engaging Sales Agent\",\n",
    "        instructions=instructions2,\n",
    "        model=\"gpt-4o-mini\"\n",
    ")\n",
    "\n",
    "sales_agent3 = Agent(\n",
    "        name=\"Busy Sales Agent\",\n",
    "        instructions=instructions3,\n",
    "        model=\"gpt-4o-mini\"\n",
    ")"
   ]
  },
  {
   "cell_type": "code",
   "execution_count": 5,
   "metadata": {},
   "outputs": [
    {
     "name": "stdout",
     "output_type": "stream",
     "text": [
      "Subject: Streamline Your SOC 2 Compliance with ComplAI\n",
      "\n",
      "Hi [Recipient's Name],\n",
      "\n",
      "I hope this message finds you well.\n",
      "\n",
      "Navigating SOC 2 compliance can be a complex and daunting task. At ComplAI, we understand the challenges businesses face in maintaining compliance and preparing for audits. Our AI-powered SaaS tool is designed to simplify the compliance process, reduce time spent on administration, and ultimately enhance your security posture.\n",
      "\n",
      "With ComplAI, you can:\n",
      "\n",
      "- Automate routine compliance tasks, freeing up your team's time.\n",
      "- Gain real-time insights into your compliance status.\n",
      "- Prepare seamlessly for audits with organized documentation and reporting features.\n",
      "\n",
      "I'd love to explore how ComplAI can be tailored to meet the needs of [Recipient's Company]. Are you available for a brief call next week?\n",
      "\n",
      "Thank you for considering this opportunity. I look forward to the possibility of working together.\n",
      "\n",
      "Best regards,\n",
      "\n",
      "[Your Name]  \n",
      "[Your Position]  \n",
      "ComplAI  \n",
      "[Your Phone Number]  \n",
      "[Your Email Address]  \n",
      "[Your LinkedIn Profile] (optional)  "
     ]
    }
   ],
   "source": [
    "result = Runner.run_streamed(sales_agent1, input=\"Write a cold sales email\")\n",
    "async for event in result.stream_events():\n",
    "    if event.type == \"raw_response_event\" and isinstance(event.data, ResponseTextDeltaEvent):\n",
    "        print(event.data.delta, end=\"\", flush=True)"
   ]
  },
  {
   "cell_type": "code",
   "execution_count": 6,
   "metadata": {},
   "outputs": [
    {
     "name": "stdout",
     "output_type": "stream",
     "text": [
      "Assunto: O Super-Herói da Sua Conformidade: SOC2 do ComplAI!\n",
      "\n",
      "Olá [Nome do Destinatário],\n",
      "\n",
      "Você já sentiu que as auditorias são como aqueles filmes de terror? Você sabe, aqueles que vão ficando cada vez mais intensos, e você só deseja que acabe logo? 😱\n",
      "\n",
      "Aqui na ComplAI, decidimos mudar o enredo! Apresento a você o nosso super-herói: o ComplAI! Com ele, suas dores de cabeça relacionadas a SOC2 e auditorias se transformarão em comédias de stand-up.\n",
      "\n",
      "Imagine só: enquanto outras empresas ficam quebrando a cabeça e revivendo pesadelos, você poderá se sentar, relaxar e deixar que a nossa plataforma de IA cuide de toda a parte chata! 🎩✨\n",
      "\n",
      "Se você está pronto para dizer adeus ao stress e olá à conformidade com um sorriso no rosto, vamos marcar um bate-papo! Prometo que não vou te fazer preencher um questionário de 10 páginas.\n",
      "\n",
      "Aguardo seu sinal, seja ele um emoji, uma resposta, ou até mesmo um grito de socorro! 😂\n",
      "\n",
      "Um abraço,\n",
      "\n",
      "[Seu Nome]  \n",
      "Seu Super-Agent do ComplAI  \n",
      "🚀 [Seu Telefone] | 🌐 [Seu Site]  "
     ]
    }
   ],
   "source": [
    "result2 = Runner.run_streamed(sales_agent2, input=\"Write a humorous sales email. Resoponda em português.\")\n",
    "async for event in result2.stream_events():\n",
    "    if event.type == \"raw_response_event\" and isinstance(event.data, ResponseTextDeltaEvent):\n",
    "        print(event.data.delta, end=\"\", flush=True)"
   ]
  },
  {
   "cell_type": "code",
   "execution_count": 7,
   "metadata": {},
   "outputs": [
    {
     "name": "stdout",
     "output_type": "stream",
     "text": [
      "Subject: Streamline Your SOC 2 Compliance Process with ComplAI\n",
      "\n",
      "Hi [Recipient's Name],\n",
      "\n",
      "I hope this message finds you well. I'm reaching out to introduce ComplAI, an innovative SaaS tool designed to simplify the SOC 2 compliance process for businesses like yours.\n",
      "\n",
      "In today's regulatory landscape, ensuring compliance can be time-consuming and complex. Our AI-driven platform automates documentation, identifies gaps, and prepares your team for audits, helping you save both time and resources.\n",
      "\n",
      "Here are a few ways ComplAI can benefit your organization:\n",
      "\n",
      "- **Efficient Documentation Management**: Automate the creation of necessary compliance documentation to reduce manual effort.\n",
      "- **Real-Time Gap Analysis**: Instantly identify compliance gaps and receive actionable insights for remediation.\n",
      "- **Seamless Audit Preparation**: Simplify the audit process with organized data and tools to enhance collaboration among team members.\n",
      "\n",
      "I would love the opportunity to discuss how ComplAI can specifically address your compliance needs. Would you be available for a brief call next week?\n",
      "\n",
      "Thank you for considering ComplAI. I look forward to the possibility of working together.\n",
      "\n",
      "Best regards,\n",
      "\n",
      "[Your Name]  \n",
      "[Your Job Title]  \n",
      "ComplAI  \n",
      "[Your Phone Number]  \n",
      "[Your Email Address]  \n",
      "[Website URL]  \n",
      "\n",
      "\n",
      "Subject: Is Your SOC2 Compliance as Lost as My Sock in the Dryer? 🧦\n",
      "\n",
      "Hi [First Name],\n",
      "\n",
      "I hope this email finds you well and that your socks are always paired! \n",
      "\n",
      "I’m reaching out because I’d bet my trusty sock collection that navigating SOC2 compliance feels a bit like hunting for that elusive sock that always mysteriously disappears. 💨 But what if I told you there’s an easy way to make compliance feel less like a treasure hunt and more like a walk in the park?\n",
      "\n",
      "At ComplAI, our AI-powered SaaS tool is like the GPS for your SOC2 journey—guiding you step by step and helping you prepare for audits without losing your mind (or your socks!). \n",
      "\n",
      "Here’s what we offer:\n",
      "- **Automated checklists** that let you know what to tackle next. It's like having your mom around, minus the nagging!\n",
      "- **Real-time compliance monitoring** so you can relax while we do the heavy lifting. Think of us as your compliance personal trainer—with less sweat involved.\n",
      "- **Swift audit preparation** for when the time comes, because let’s face it, nobody enjoys scrambling at the last minute.\n",
      "\n",
      "Want to chat and see how we can help? I promise I won't bring up any more sock-related anecdotes (well, maybe just one more if you're lucky).\n",
      "\n",
      "Looking forward to hearing from you!\n",
      "\n",
      "Best,  \n",
      "[Your Name]  \n",
      "The Sock Whisperer at ComplAI  \n",
      "[Your Phone Number]  \n",
      "[Your LinkedIn Profile]  \n",
      "\n",
      "P.S. What's your biggest compliance headache? I’m all ears—well, virtually! 😊\n",
      "\n",
      "\n",
      "Subject: Simplify Your SOC 2 Compliance Process\n",
      "\n",
      "Hi [Recipient's Name],\n",
      "\n",
      "I hope this message finds you well. I'm reaching out to introduce ComplAI, a powerful SaaS tool designed to streamline SOC 2 compliance and audit preparation.\n",
      "\n",
      "Our platform leverages AI to automate documentation, track requirements, and reduce audit preparation time—making compliance less of a headache for you and your team.\n",
      "\n",
      "Would you be open to a quick call to discuss how ComplAI can help simplify your compliance process?\n",
      "\n",
      "Best,  \n",
      "[Your Name]  \n",
      "[Your Job Title]  \n",
      "ComplAI  \n",
      "[Your Phone Number]  \n",
      "[Your Website]  \n",
      "\n",
      "\n"
     ]
    }
   ],
   "source": [
    "message = \"Write a cold sales email\"\n",
    "\n",
    "with trace(\"Parallel cold emails\"):\n",
    "    results = await asyncio.gather(\n",
    "        Runner.run(sales_agent1, message),\n",
    "        Runner.run(sales_agent2, message),\n",
    "        Runner.run(sales_agent3, message),\n",
    "    )\n",
    "\n",
    "outputs = [result.final_output for result in results]\n",
    "\n",
    "for output in outputs:\n",
    "    print(output + \"\\n\\n\")\n"
   ]
  },
  {
   "cell_type": "code",
   "execution_count": 8,
   "metadata": {},
   "outputs": [],
   "source": [
    "sales_picker = Agent(\n",
    "    name=\"sales_picker\",\n",
    "    instructions=\"You pick the best cold sales email from the given options. \\\n",
    "Imagine you are a customer and pick the one you are most likely to respond to. \\\n",
    "Do not give an explanation; reply with the selected email only.\",\n",
    "    model=\"gpt-4o-mini\"\n",
    ")"
   ]
  },
  {
   "cell_type": "code",
   "execution_count": 9,
   "metadata": {},
   "outputs": [
    {
     "name": "stdout",
     "output_type": "stream",
     "text": [
      "Best sales email:\n",
      "Subject: Let’s Make Compliance Less of a “Comply-ance” Headache! 🎉\n",
      "\n",
      "Hi [Recipient's Name],\n",
      "\n",
      "I hope this email finds you knee-deep in success and avoiding audit-induced migraines! 🤯 \n",
      "\n",
      "I’m [Your Name] from ComplAI, where we believe compliance shouldn’t feel like a dark, cryptic maze—especially when it comes to SOC 2. Let's face it: audits are like going to the dentist. You know you need to do it, but who actually enjoys the process?\n",
      "\n",
      "That’s where we come in! Our AI-powered platform simplifies SOC 2 compliance faster than you can say, “Is it time for another coffee break?” ☕ With our tool, you’ll breeze through audits and make compliance a breeze instead of a chore.\n",
      "\n",
      "Imagine a world where you spend less time assembling paperwork and more time celebrating your latest successes. Sounds dreamy, right? \n",
      "\n",
      "Would you be open to a quick chat to explore how we can turn your compliance chaos into clarity? I promise it will be more fun than a game of “Where’s Waldo?” but instead, we’ll be finding your missing compliance pieces.\n",
      "\n",
      "Looking forward to your response!\n",
      "\n",
      "Best,  \n",
      "[Your Name]  \n",
      "[Your Position]  \n",
      "ComplAI  \n",
      "[Your Phone Number]  \n",
      "[Your LinkedIn Profile]  \n",
      "\n",
      "P.S. You bring the questions; we’ll bring the laughter (and answers)! 😊\n"
     ]
    }
   ],
   "source": [
    "message = \"Write a cold sales email\"\n",
    "\n",
    "with trace(\"Selection from sales people\"):\n",
    "    results = await asyncio.gather(\n",
    "        Runner.run(sales_agent1, message),\n",
    "        Runner.run(sales_agent2, message),\n",
    "        Runner.run(sales_agent3, message),\n",
    "    )\n",
    "    outputs = [result.final_output for result in results]\n",
    "\n",
    "    emails = \"Cold sales emails:\\n\\n\".join(outputs)\n",
    "\n",
    "    best = await Runner.run(sales_picker, emails)\n",
    "\n",
    "    print(f\"Best sales email:\\n{best.final_output}\")\n"
   ]
  },
  {
   "cell_type": "markdown",
   "metadata": {},
   "source": [
    "Now go and check out the trace:\n",
    "\n",
    "https://platform.openai.com/traces"
   ]
  },
  {
   "cell_type": "markdown",
   "metadata": {},
   "source": [
    "## Part 2: use of tools\n",
    "\n",
    "Now we will add a tool to the mix.\n",
    "\n",
    "Remember all that json boilerplate and the `handle_tool_calls()` function with the if logic.."
   ]
  },
  {
   "cell_type": "code",
   "execution_count": 10,
   "metadata": {},
   "outputs": [],
   "source": [
    "sales_agent1 = Agent(\n",
    "        name=\"Professional Sales Agent\",\n",
    "        instructions=instructions1,\n",
    "        model=\"gpt-4o-mini\",\n",
    ")\n",
    "\n",
    "sales_agent2 = Agent(\n",
    "        name=\"Engaging Sales Agent\",\n",
    "        instructions=instructions2,\n",
    "        model=\"gpt-4o-mini\",\n",
    ")\n",
    "\n",
    "sales_agent3 = Agent(\n",
    "        name=\"Busy Sales Agent\",\n",
    "        instructions=instructions3,\n",
    "        model=\"gpt-4o-mini\",\n",
    ")"
   ]
  },
  {
   "cell_type": "code",
   "execution_count": 11,
   "metadata": {},
   "outputs": [
    {
     "data": {
      "text/plain": [
       "Agent(name='Professional Sales Agent', instructions='You are a sales agent working for ComplAI, a company that provides a SaaS tool for ensuring SOC2 compliance and preparing for audits, powered by AI. You write professional, serious cold emails.', handoff_description=None, handoffs=[], model='gpt-4o-mini', model_settings=ModelSettings(temperature=None, top_p=None, frequency_penalty=None, presence_penalty=None, tool_choice=None, parallel_tool_calls=None, truncation=None, max_tokens=None, reasoning=None, metadata=None, store=None, include_usage=None, extra_query=None, extra_body=None, extra_headers=None), tools=[], mcp_servers=[], mcp_config={}, input_guardrails=[], output_guardrails=[], output_type=None, hooks=None, tool_use_behavior='run_llm_again', reset_tool_choice=True)"
      ]
     },
     "execution_count": 11,
     "metadata": {},
     "output_type": "execute_result"
    }
   ],
   "source": [
    "sales_agent1"
   ]
  },
  {
   "cell_type": "markdown",
   "metadata": {},
   "source": [
    "## Steps 2 and 3: Tools and Agent interactions\n",
    "\n",
    "Remember all that boilerplate json?\n",
    "\n",
    "Simply wrap your function with the decorator `@function_tool`"
   ]
  },
  {
   "cell_type": "code",
   "execution_count": 31,
   "metadata": {},
   "outputs": [],
   "source": [
    "@function_tool\n",
    "def send_email(body: str):\n",
    "    \"\"\" Send out an email with the given body to all sales prospects \"\"\"\n",
    "    sg = sendgrid.SendGridAPIClient(api_key=os.environ.get('SENDGRID_API_KEY'))\n",
    "    from_email = Email(\"williamlapa40@gmail.com\")  # Change to your verified sender\n",
    "    to_email = To(\"williamlapa@hotmail.com\")  # Change to your recipient\n",
    "    content = Content(\"text/plain\", body)\n",
    "    mail = Mail(from_email, to_email, \"Sales email\", content).get()\n",
    "    response = sg.client.mail.send.post(request_body=mail)\n",
    "    return {\"status\": \"success\"}"
   ]
  },
  {
   "cell_type": "code",
   "execution_count": null,
   "metadata": {},
   "outputs": [],
   "source": [
    "# @function_tool\n",
    "# def send_email(body: str):\n",
    "#     \"\"\" Send out an email with the given body to all sales prospects \"\"\"\n",
    "#     sg = sendgrid.SendGridAPIClient(api_key=os.environ.get('SENDGRID_API_KEY'))\n",
    "#     from_email = Email(\"williamlapa40@gmail.com\")  # Change to your verified sender\n",
    "#     to_email = To(\"williamlapa@hotmail.com\")  # Change to your recipient\n",
    "#     content = Content(\"text/plain\", body)\n",
    "#     mail = Mail(from_email, to_email, \"Sales email\", content).get()\n",
    "\n",
    "#     try:\n",
    "#         response = sg.client.mail.send.post(request_body=mail)\n",
    "#         # Imprima o status_code, body e headers para depuração\n",
    "#         print(f\"SendGrid Status Code: {response.status_code}\")\n",
    "#         print(f\"SendGrid Response Body: {response.body}\")\n",
    "#         print(f\"SendGrid Response Headers: {response.headers}\")\n",
    "\n",
    "#         if response.status_code >= 200 and response.status_code < 300:\n",
    "#             return {\"status\": \"success\", \"message\": \"Email request sent to SendGrid successfully.\"}\n",
    "#         else:\n",
    "#             return {\"status\": \"error\", \"message\": f\"SendGrid API error: {response.status_code} - {response.body}\"}\n",
    "#     except Exception as e:\n",
    "#         return {\"status\": \"error\", \"message\": f\"An error occurred: {str(e)}\"}"
   ]
  },
  {
   "cell_type": "markdown",
   "metadata": {},
   "source": [
    "### This has automatically been converted into a tool, with the boilerplate json created"
   ]
  },
  {
   "cell_type": "code",
   "execution_count": 32,
   "metadata": {},
   "outputs": [
    {
     "data": {
      "text/plain": [
       "FunctionTool(name='send_email', description='Send out an email with the given body to all sales prospects', params_json_schema={'properties': {'body': {'title': 'Body', 'type': 'string'}}, 'required': ['body'], 'title': 'send_email_args', 'type': 'object', 'additionalProperties': False}, on_invoke_tool=<function function_tool.<locals>._create_function_tool.<locals>._on_invoke_tool at 0x0000025A721C87C0>, strict_json_schema=True)"
      ]
     },
     "execution_count": 32,
     "metadata": {},
     "output_type": "execute_result"
    }
   ],
   "source": [
    "# Let's look at it\n",
    "send_email"
   ]
  },
  {
   "cell_type": "markdown",
   "metadata": {},
   "source": [
    "### And you can also convert an Agent into a tool"
   ]
  },
  {
   "cell_type": "code",
   "execution_count": null,
   "metadata": {},
   "outputs": [
    {
     "name": "stdout",
     "output_type": "stream",
     "text": [
      "FunctionTool(name='sales_agent1', description='Write a cold sales email', params_json_schema={'properties': {'input': {'title': 'Input', 'type': 'string'}}, 'required': ['input'], 'title': 'sales_agent1_args', 'type': 'object', 'additionalProperties': False}, on_invoke_tool=<function function_tool.<locals>._create_function_tool.<locals>._on_invoke_tool at 0x0000025A7206B920>, strict_json_schema=True)\n"
     ]
    }
   ],
   "source": [
    "# Transforma o agente numa tool\n",
    "tool1 = sales_agent1.as_tool(tool_name=\"sales_agent1\", tool_description=\"Write a cold sales email\")\n",
    "print(tool1)"
   ]
  },
  {
   "cell_type": "markdown",
   "metadata": {},
   "source": [
    "### So now we can gather all the tools together:\n",
    "\n",
    "A tool for each of our 3 email-writing agents\n",
    "\n",
    "And a tool for our function to send emails"
   ]
  },
  {
   "cell_type": "code",
   "execution_count": 34,
   "metadata": {},
   "outputs": [
    {
     "data": {
      "text/plain": [
       "[FunctionTool(name='sales_agent1', description='Write a cold sales email', params_json_schema={'properties': {'input': {'title': 'Input', 'type': 'string'}}, 'required': ['input'], 'title': 'sales_agent1_args', 'type': 'object', 'additionalProperties': False}, on_invoke_tool=<function function_tool.<locals>._create_function_tool.<locals>._on_invoke_tool at 0x0000025A721205E0>, strict_json_schema=True),\n",
       " FunctionTool(name='sales_agent2', description='Write a cold sales email', params_json_schema={'properties': {'input': {'title': 'Input', 'type': 'string'}}, 'required': ['input'], 'title': 'sales_agent2_args', 'type': 'object', 'additionalProperties': False}, on_invoke_tool=<function function_tool.<locals>._create_function_tool.<locals>._on_invoke_tool at 0x0000025A721225C0>, strict_json_schema=True),\n",
       " FunctionTool(name='sales_agent3', description='Write a cold sales email', params_json_schema={'properties': {'input': {'title': 'Input', 'type': 'string'}}, 'required': ['input'], 'title': 'sales_agent3_args', 'type': 'object', 'additionalProperties': False}, on_invoke_tool=<function function_tool.<locals>._create_function_tool.<locals>._on_invoke_tool at 0x0000025A72123D80>, strict_json_schema=True),\n",
       " FunctionTool(name='send_email', description='Send out an email with the given body to all sales prospects', params_json_schema={'properties': {'body': {'title': 'Body', 'type': 'string'}}, 'required': ['body'], 'title': 'send_email_args', 'type': 'object', 'additionalProperties': False}, on_invoke_tool=<function function_tool.<locals>._create_function_tool.<locals>._on_invoke_tool at 0x0000025A721C87C0>, strict_json_schema=True)]"
      ]
     },
     "execution_count": 34,
     "metadata": {},
     "output_type": "execute_result"
    }
   ],
   "source": [
    "description = \"Write a cold sales email\"\n",
    "\n",
    "tool1 = sales_agent1.as_tool(tool_name=\"sales_agent1\", tool_description=description)\n",
    "tool2 = sales_agent2.as_tool(tool_name=\"sales_agent2\", tool_description=description)\n",
    "tool3 = sales_agent3.as_tool(tool_name=\"sales_agent3\", tool_description=description)\n",
    "\n",
    "tools = [tool1, tool2, tool3, send_email]\n",
    "\n",
    "tools"
   ]
  },
  {
   "cell_type": "markdown",
   "metadata": {},
   "source": [
    "## And now it's time for our Sales Manager - our planning agent"
   ]
  },
  {
   "cell_type": "code",
   "execution_count": 35,
   "metadata": {},
   "outputs": [],
   "source": [
    "instructions =\"You are a sales manager working for ComplAI. You use the tools given to you to generate cold sales emails. \\\n",
    "You never generate sales emails yourself; you always use the tools. \\\n",
    "You try all 3 sales_agent tools once before choosing the best one. \\\n",
    "You pick the single best email and use the send_email tool to send the best email (and only the best email) to the user. \\\n",
    "Elabore o texto em português do Brasil\"\n",
    "\n",
    "\n",
    "sales_manager = Agent(name=\"Sales manager\", instructions=instructions, tools=tools, model=\"gpt-4o-mini\")\n",
    "\n",
    "message = \"Send a cold sales email addressed to 'William'\"\n",
    "\n",
    "with trace(\"Sales manager\"):\n",
    "    result = await Runner.run(sales_manager, message)"
   ]
  },
  {
   "cell_type": "code",
   "execution_count": 36,
   "metadata": {},
   "outputs": [
    {
     "name": "stdout",
     "output_type": "stream",
     "text": [
      "RunResult:\n",
      "- Last agent: Agent(name=\"Sales manager\", ...)\n",
      "- Final output (str):\n",
      "    O email foi enviado com sucesso para o William. Se precisar de mais alguma coisa, é só avisar!\n",
      "- 9 new item(s)\n",
      "- 3 raw response(s)\n",
      "- 0 input guardrail result(s)\n",
      "- 0 output guardrail result(s)\n",
      "(See `RunResult` for more details)\n"
     ]
    }
   ],
   "source": [
    "print(result)"
   ]
  },
  {
   "cell_type": "markdown",
   "metadata": {},
   "source": [
    "<table style=\"margin: 0; text-align: left; width:100%\">\n",
    "    <tr>\n",
    "        <td style=\"width: 150px; height: 150px; vertical-align: middle;\">\n",
    "            <img src=\"../assets/stop.png\" width=\"150\" height=\"150\" style=\"display: block;\" />\n",
    "        </td>\n",
    "        <td>\n",
    "            <h2 style=\"color:#ff7800;\">Wait - you didn't get an email??</h2>\n",
    "            <span style=\"color:#ff7800;\">With much thanks to student Chris S. for describing his issue and fixes. \n",
    "            If you don't receive an email after running the prior cell, here are some things to check: <br/>\n",
    "            First, check your Spam folder! Several students have missed that the emails arrived in Spam!<br/>Second, print(result) and see if you are receiving errors about SSL. \n",
    "            If you're receiving SSL errors, then please check out theses <a href=\"https://chatgpt.com/share/680620ec-3b30-8012-8c26-ca86693d0e3d\">networking tips</a> and see the note in the next cell. Also look at the trace in OpenAI, and investigate on the SendGrid website, to hunt for clues. Let me know if I can help!\n",
    "            </span>\n",
    "        </td>\n",
    "    </tr>\n",
    "</table>"
   ]
  },
  {
   "cell_type": "markdown",
   "metadata": {},
   "source": [
    "### And one more suggestion to send emails from student Oleksandr on Windows 11:\n",
    "\n",
    "If you are getting certificate SSL errors, then:  \n",
    "Run this in a terminal: `uv pip install --upgrade certifi`\n",
    "\n",
    "Then run this code:\n",
    "```python\n",
    "import certifi\n",
    "import os\n",
    "os.environ['SSL_CERT_FILE'] = certifi.where()\n",
    "```\n",
    "\n",
    "Thank you Oleksandr!"
   ]
  },
  {
   "cell_type": "markdown",
   "metadata": {},
   "source": [
    "## Remember to check the trace\n",
    "\n",
    "https://platform.openai.com/traces\n",
    "\n",
    "And then check your email!!\n"
   ]
  },
  {
   "cell_type": "markdown",
   "metadata": {},
   "source": [
    "### Handoffs represent a way an agent can delegate to an agent, passing control to it\n",
    "\n",
    "Handoffs and Agents-as-tools are similar:\n",
    "\n",
    "In both cases, an Agent can collaborate with another Agent\n",
    "\n",
    "With tools, control passes back\n",
    "\n",
    "With handoffs, control passes across\n",
    "\n"
   ]
  },
  {
   "cell_type": "code",
   "execution_count": 37,
   "metadata": {},
   "outputs": [],
   "source": [
    "\n",
    "subject_instructions = \"You can write a subject for a cold sales email. \\\n",
    "You are given a message and you need to write a subject for an email that is likely to get a response.\"\n",
    "\n",
    "html_instructions = \"You can convert a text email body to an HTML email body. \\\n",
    "You are given a text email body which might have some markdown \\\n",
    "and you need to convert it to an HTML email body with simple, clear, compelling layout and design.\"\n",
    "\n",
    "subject_writer = Agent(name=\"Email subject writer\", instructions=subject_instructions, model=\"gpt-4o-mini\")\n",
    "subject_tool = subject_writer.as_tool(tool_name=\"subject_writer\", tool_description=\"Write a subject for a cold sales email\")\n",
    "\n",
    "html_converter = Agent(name=\"HTML email body converter\", instructions=html_instructions, model=\"gpt-4o-mini\")\n",
    "html_tool = html_converter.as_tool(tool_name=\"html_converter\",tool_description=\"Convert a text email body to an HTML email body\")\n"
   ]
  },
  {
   "cell_type": "code",
   "execution_count": 38,
   "metadata": {},
   "outputs": [],
   "source": [
    "@function_tool\n",
    "def send_html_email(subject: str, html_body: str) -> Dict[str, str]:\n",
    "    \"\"\" Send out an email with the given subject and HTML body to all sales prospects \"\"\"\n",
    "    sg = sendgrid.SendGridAPIClient(api_key=os.environ.get('SENDGRID_API_KEY'))\n",
    "    from_email = Email(\"williamlapa40@gmail.com\")  # Change to your verified sender\n",
    "    to_email = To(\"williamlapa@hotmail.com\")  # Change to your recipient\n",
    "    content = Content(\"text/html\", html_body)\n",
    "    mail = Mail(from_email, to_email, subject, content).get()\n",
    "    response = sg.client.mail.send.post(request_body=mail)\n",
    "    return {\"status\": \"success\"}"
   ]
  },
  {
   "cell_type": "code",
   "execution_count": 39,
   "metadata": {},
   "outputs": [],
   "source": [
    "tools = [subject_tool, html_tool, send_html_email]"
   ]
  },
  {
   "cell_type": "code",
   "execution_count": 40,
   "metadata": {},
   "outputs": [
    {
     "data": {
      "text/plain": [
       "[FunctionTool(name='subject_writer', description='Write a subject for a cold sales email', params_json_schema={'properties': {'input': {'title': 'Input', 'type': 'string'}}, 'required': ['input'], 'title': 'subject_writer_args', 'type': 'object', 'additionalProperties': False}, on_invoke_tool=<function function_tool.<locals>._create_function_tool.<locals>._on_invoke_tool at 0x0000025A721CA7A0>, strict_json_schema=True),\n",
       " FunctionTool(name='html_converter', description='Convert a text email body to an HTML email body', params_json_schema={'properties': {'input': {'title': 'Input', 'type': 'string'}}, 'required': ['input'], 'title': 'html_converter_args', 'type': 'object', 'additionalProperties': False}, on_invoke_tool=<function function_tool.<locals>._create_function_tool.<locals>._on_invoke_tool at 0x0000025A721C9760>, strict_json_schema=True),\n",
       " FunctionTool(name='send_html_email', description='Send out an email with the given subject and HTML body to all sales prospects', params_json_schema={'properties': {'subject': {'title': 'Subject', 'type': 'string'}, 'html_body': {'title': 'Html Body', 'type': 'string'}}, 'required': ['subject', 'html_body'], 'title': 'send_html_email_args', 'type': 'object', 'additionalProperties': False}, on_invoke_tool=<function function_tool.<locals>._create_function_tool.<locals>._on_invoke_tool at 0x0000025A7206BCE0>, strict_json_schema=True)]"
      ]
     },
     "execution_count": 40,
     "metadata": {},
     "output_type": "execute_result"
    }
   ],
   "source": [
    "tools"
   ]
  },
  {
   "cell_type": "code",
   "execution_count": 41,
   "metadata": {},
   "outputs": [],
   "source": [
    "instructions =\"You are an email formatter and sender. You receive the body of an email to be sent. \\\n",
    "You first use the subject_writer tool to write a subject for the email, then use the html_converter tool to convert the body to HTML. \\\n",
    "Finally, you use the send_html_email tool to send the email with the subject and HTML body.\"\n",
    "\n",
    "\n",
    "emailer_agent = Agent(\n",
    "    name=\"Email Manager\",\n",
    "    instructions=instructions,\n",
    "    tools=tools,\n",
    "    model=\"gpt-4o-mini\",\n",
    "    handoff_description=\"Convert an email to HTML and send it\") # pass the handoff description explique?\n"
   ]
  },
  {
   "cell_type": "markdown",
   "metadata": {},
   "source": [
    "### Now we have 3 tools and 1 handoff"
   ]
  },
  {
   "cell_type": "code",
   "execution_count": 42,
   "metadata": {},
   "outputs": [
    {
     "name": "stdout",
     "output_type": "stream",
     "text": [
      "[FunctionTool(name='sales_agent1', description='Write a cold sales email', params_json_schema={'properties': {'input': {'title': 'Input', 'type': 'string'}}, 'required': ['input'], 'title': 'sales_agent1_args', 'type': 'object', 'additionalProperties': False}, on_invoke_tool=<function function_tool.<locals>._create_function_tool.<locals>._on_invoke_tool at 0x0000025A721205E0>, strict_json_schema=True), FunctionTool(name='sales_agent2', description='Write a cold sales email', params_json_schema={'properties': {'input': {'title': 'Input', 'type': 'string'}}, 'required': ['input'], 'title': 'sales_agent2_args', 'type': 'object', 'additionalProperties': False}, on_invoke_tool=<function function_tool.<locals>._create_function_tool.<locals>._on_invoke_tool at 0x0000025A721225C0>, strict_json_schema=True), FunctionTool(name='sales_agent3', description='Write a cold sales email', params_json_schema={'properties': {'input': {'title': 'Input', 'type': 'string'}}, 'required': ['input'], 'title': 'sales_agent3_args', 'type': 'object', 'additionalProperties': False}, on_invoke_tool=<function function_tool.<locals>._create_function_tool.<locals>._on_invoke_tool at 0x0000025A72123D80>, strict_json_schema=True)]\n",
      "[Agent(name='Email Manager', instructions='You are an email formatter and sender. You receive the body of an email to be sent. You first use the subject_writer tool to write a subject for the email, then use the html_converter tool to convert the body to HTML. Finally, you use the send_html_email tool to send the email with the subject and HTML body.', handoff_description='Convert an email to HTML and send it', handoffs=[], model='gpt-4o-mini', model_settings=ModelSettings(temperature=None, top_p=None, frequency_penalty=None, presence_penalty=None, tool_choice=None, parallel_tool_calls=None, truncation=None, max_tokens=None, reasoning=None, metadata=None, store=None, include_usage=None, extra_query=None, extra_body=None, extra_headers=None), tools=[FunctionTool(name='subject_writer', description='Write a subject for a cold sales email', params_json_schema={'properties': {'input': {'title': 'Input', 'type': 'string'}}, 'required': ['input'], 'title': 'subject_writer_args', 'type': 'object', 'additionalProperties': False}, on_invoke_tool=<function function_tool.<locals>._create_function_tool.<locals>._on_invoke_tool at 0x0000025A721CA7A0>, strict_json_schema=True), FunctionTool(name='html_converter', description='Convert a text email body to an HTML email body', params_json_schema={'properties': {'input': {'title': 'Input', 'type': 'string'}}, 'required': ['input'], 'title': 'html_converter_args', 'type': 'object', 'additionalProperties': False}, on_invoke_tool=<function function_tool.<locals>._create_function_tool.<locals>._on_invoke_tool at 0x0000025A721C9760>, strict_json_schema=True), FunctionTool(name='send_html_email', description='Send out an email with the given subject and HTML body to all sales prospects', params_json_schema={'properties': {'subject': {'title': 'Subject', 'type': 'string'}, 'html_body': {'title': 'Html Body', 'type': 'string'}}, 'required': ['subject', 'html_body'], 'title': 'send_html_email_args', 'type': 'object', 'additionalProperties': False}, on_invoke_tool=<function function_tool.<locals>._create_function_tool.<locals>._on_invoke_tool at 0x0000025A7206BCE0>, strict_json_schema=True)], mcp_servers=[], mcp_config={}, input_guardrails=[], output_guardrails=[], output_type=None, hooks=None, tool_use_behavior='run_llm_again', reset_tool_choice=True)]\n"
     ]
    }
   ],
   "source": [
    "tools = [tool1, tool2, tool3]\n",
    "handoffs = [emailer_agent]\n",
    "print(tools)\n",
    "print(handoffs)"
   ]
  },
  {
   "cell_type": "code",
   "execution_count": 44,
   "metadata": {},
   "outputs": [],
   "source": [
    "sales_manager_instructions = \"You are a sales manager working for ComplAI. You use the tools given to you to generate cold sales emails. \\\n",
    "You never generate sales emails yourself; you always use the tools. \\\n",
    "You try all 3 sales agent tools at least once before choosing the best one. \\\n",
    "You can use the tools multiple times if you're not satisfied with the results from the first try. \\\n",
    "You select the single best email using your own judgement of which email will be most effective. \\\n",
    "After picking the email, you handoff to the Email Manager agent to format and send the email. \\\n",
    "Elabore o texto em português do Brasil\"\n",
    "\n",
    "\n",
    "sales_manager = Agent(\n",
    "    name=\"Sales Manager\",\n",
    "    instructions=sales_manager_instructions,\n",
    "    tools=tools,\n",
    "    handoffs=handoffs,\n",
    "    model=\"gpt-4o-mini\")\n",
    "\n",
    "message = \"Send out a cold sales email addressed to William Lapa from Alice\"\n",
    "\n",
    "with trace(\"Automated SDR em português\"):\n",
    "    result = await Runner.run(sales_manager, message)"
   ]
  },
  {
   "cell_type": "markdown",
   "metadata": {},
   "source": [
    "### Remember to check the trace\n",
    "\n",
    "https://platform.openai.com/traces\n",
    "\n",
    "And then check your email!!"
   ]
  },
  {
   "cell_type": "markdown",
   "metadata": {},
   "source": [
    "<table style=\"margin: 0; text-align: left; width:100%\">\n",
    "    <tr>\n",
    "        <td style=\"width: 150px; height: 150px; vertical-align: middle;\">\n",
    "            <img src=\"../assets/exercise.png\" width=\"150\" height=\"150\" style=\"display: block;\" />\n",
    "        </td>\n",
    "        <td>\n",
    "            <h2 style=\"color:#ff7800;\">Exercise</h2>\n",
    "            <span style=\"color:#ff7800;\">Can you identify the Agentic design patterns that were used here?<br/>\n",
    "            What is the 1 line that changed this from being an Agentic \"workflow\" to \"agent\" under Anthropic's definition?<br/>\n",
    "            Try adding in more tools and Agents! You could have tools that handle the mail merge to send to a list.<br/><br/>\n",
    "            HARD CHALLENGE: research how you can have SendGrid call a Callback webhook when a user replies to an email,\n",
    "            Then have the SDR respond to keep the conversation going! This may require some \"vibe coding\" 😂\n",
    "            </span>\n",
    "        </td>\n",
    "    </tr>\n",
    "</table>"
   ]
  },
  {
   "cell_type": "markdown",
   "metadata": {},
   "source": [
    "<table style=\"margin: 0; text-align: left; width:100%\">\n",
    "    <tr>\n",
    "        <td style=\"width: 150px; height: 150px; vertical-align: middle;\">\n",
    "            <img src=\"../assets/business.png\" width=\"150\" height=\"150\" style=\"display: block;\" />\n",
    "        </td>\n",
    "        <td>\n",
    "            <h2 style=\"color:#00bfff;\">Commercial implications</h2>\n",
    "            <span style=\"color:#00bfff;\">This is immediately applicable to Sales Automation; but more generally this could be applied to  end-to-end automation of any business process through conversations and tools. Think of ways you could apply an Agent solution\n",
    "            like this in your day job.\n",
    "            </span>\n",
    "        </td>\n",
    "    </tr>\n",
    "</table>"
   ]
  },
  {
   "cell_type": "markdown",
   "metadata": {},
   "source": [
    "## Extra note:\n",
    "\n",
    "Google has announced their Agent Development Kit (ADK) which is in early preview. It's still under development, so it's too early for us to cover it here. But it's interesting to note that it looks quite similar to OpenAI Agents SDK. To give you a preview, here's a peak at sample code from ADK:\n",
    "\n",
    "```\n",
    "root_agent = Agent(\n",
    "    name=\"weather_time_agent\",\n",
    "    model=\"gemini-2.0-flash\",\n",
    "    description=\"Agent to answer questions about the time and weather in a city.\",\n",
    "    instruction=\"You are a helpful agent who can answer user questions about the time and weather in a city.\",\n",
    "    tools=[get_weather, get_current_time]\n",
    ")\n",
    "```\n",
    "\n",
    "Well, that looks familiar!"
   ]
  },
  {
   "cell_type": "code",
   "execution_count": 55,
   "metadata": {},
   "outputs": [],
   "source": [
    "## Código extra para email merge\n",
    "# --- Novas Ferramentas e Agentes para Mail Merge ---\n",
    "\n",
    "# 1. Ferramenta para gerenciar a lista de prospects (simulada por enquanto)\n",
    "@function_tool\n",
    "def get_prospect_list() -> List[Dict[str, str]]:\n",
    "    \"\"\"\n",
    "    Retorna uma lista de prospects de vendas com seus nomes e endereços de e-mail.\n",
    "    \"\"\"\n",
    "    return [\n",
    "        {\"name\": \"William Gmail\", \"email\": \"williamlapa40@gmail.com\"},\n",
    "        {\"name\": \"William Hotmail\", \"email\": \"williamlapa@hotmail.com\"},\n",
    "        {\"name\": \"William RFB\", \"email\": \"william.lapa-filho@rfb.gov.br\"}\n",
    "    ]\n",
    "\n",
    "# 2. Ferramenta para enviar e-mails personalizados (Mail Merge)\n",
    "@function_tool\n",
    "def send_personalized_email(subject: str, body_template: str, recipient_name: str, recipient_email: str) -> Dict[str, str]:\n",
    "    \"\"\"\n",
    "    Envia um e-mail personalizado com o assunto e corpo fornecidos para um destinatário específico.\n",
    "    O 'body_template' deve conter placeholders como [Recipient's Name] que serão substituídos.\n",
    "    \"\"\"\n",
    "    sg = sendgrid.SendGridAPIClient(api_key=os.environ.get('SENDGRID_API_KEY'))\n",
    "    from_email = Email(\"williamlapa40@gmail.com\")  # Altere para o seu remetente verificado\n",
    "\n",
    "    # Substitui o placeholder no corpo do e-mail\n",
    "    personalized_body = body_template.replace(\"[Recipient's Name]\", recipient_name)\n",
    "    personalized_body = personalized_body.replace(\"[Recipient Name]\", recipient_name) # Adicionar mais placeholders\n",
    "    personalized_body = personalized_body.replace(\"[First Name]\", recipient_name.split()[0]) # Adicionar mais placeholders\n",
    "\n",
    "    to_email = To(recipient_email)\n",
    "    content = Content(\"text/plain\", personalized_body)\n",
    "    mail = Mail(from_email, to_email, subject, content).get()\n",
    "\n",
    "    try:\n",
    "        response = sg.client.mail.send.post(request_body=mail)\n",
    "        if response.status_code >= 200 and response.status_code < 300:\n",
    "            return {\"status\": \"success\", \"message\": f\"Email enviado para {recipient_name} ({recipient_email})\"}\n",
    "        else:\n",
    "            print(f\"Erro SendGrid para {recipient_name}: {response.status_code} - {response.body}\")\n",
    "            return {\"status\": \"error\", \"message\": f\"Erro SendGrid para {recipient_name}: {response.status_code}\"}\n",
    "    except Exception as e:\n",
    "        print(f\"Erro ao enviar email para {recipient_name}: {str(e)}\")\n",
    "        return {\"status\": \"error\", \"message\": f\"Erro ao enviar email para {recipient_name}: {str(e)}\"}\n",
    "\n",
    "# 3. Agente para gerenciar o processo de Mail Merge\n",
    "mail_merge_manager_instructions = \"\"\"\n",
    "Você é um gerente de mesclagem de correspondência.\n",
    "Sua tarefa é orquestrar o envio de e-mails personalizados para uma lista de prospects.\n",
    "1. Primeiro, você deve usar a ferramenta `get_prospect_list` para obter a lista de todos os prospects.\n",
    "2. Para cada prospect na lista, você deve usar a ferramenta `send_personalized_email`.\n",
    "   O `body_template` que você receberá será o corpo do e-mail principal a ser personalizado.\n",
    "   O `subject` também será fornecido.\n",
    "   Certifique-se de substituir os placeholders como '[Recipient\\'s Name]' no `body_template` com o nome real do prospect.\n",
    "   Elabore a saída e os retornos em português do Brasil.\n",
    "\"\"\"\n",
    "\n",
    "mail_merge_manager = Agent(\n",
    "    name=\"Gerente de Mesclagem de Correspondência\",\n",
    "    instructions=mail_merge_manager_instructions,\n",
    "    tools=[get_prospect_list, send_personalized_email],\n",
    "    model=\"gpt-4o-mini\"\n",
    ")\n",
    "\n",
    "# 4. Agente para lidar com o envio de e-mails HTML (atualizado para usar send_personalized_email se necessário)\n",
    "@function_tool\n",
    "def send_html_email(subject: str, html_body: str, recipient_email: str = \"williamlapa@hotmail.com\") -> Dict[str, str]:\n",
    "    \"\"\" Envia um e-mail com o assunto e corpo HTML fornecidos para um único destinatário. \"\"\"\n",
    "    sg = sendgrid.SendGridAPIClient(api_key=os.environ.get('SENDGRID_API_KEY'))\n",
    "    from_email = Email(\"williamlapa40@gmail.com\")  # Altere para o seu remetente verificado\n",
    "    to_email = To(recipient_email)\n",
    "    content = Content(\"text/html\", html_body)\n",
    "    mail = Mail(from_email, to_email, subject, content).get()\n",
    "    response = sg.client.mail.send.post(request_body=mail)\n",
    "    return {\"status\": \"success\"}\n",
    "\n",
    "# Emailer Agent (agora com a opção de handoff para mail_merge_manager)\n",
    "emailer_agent_instructions = \"\"\"\n",
    "Você é um formatador e remetente de e-mails. Você recebe o corpo de um e-mail a ser enviado.\n",
    "1. Você primeiro usa a ferramenta `subject_writer` para escrever um assunto para o e-mail.\n",
    "2. Em seguida, você usa a ferramenta `html_converter` para converter o corpo para HTML.\n",
    "3. Se a solicitação for para enviar para uma lista de prospects, você deve transferir o controle para o `Gerente de Mesclagem de Correspondência` passando o assunto e o corpo do e-mail formatado (texto, não HTML, para permitir a personalização).\n",
    "4. Caso contrário, se for para um único destinatário, você usa a ferramenta `send_html_email` para enviar o e-mail com o assunto e o corpo HTML.\n",
    "\"\"\"\n",
    "\n",
    "emailer_agent = Agent(\n",
    "    name=\"Gerente de E-mail\",\n",
    "    instructions=emailer_agent_instructions,\n",
    "    tools=[subject_tool, html_tool, send_html_email], # send_html_email ainda é uma ferramenta para o caso de envio único\n",
    "    handoffs=[mail_merge_manager], # Adiciona o Gerente de Mesclagem de Correspondência como handoff\n",
    "    model=\"gpt-4o-mini\",\n",
    "    handoff_description=\"Converter um e-mail para HTML/personalizar e enviá-lo\"\n",
    ")\n",
    "\n",
    "# Atualização do Sales Manager\n",
    "sales_manager_instructions = \"\"\"\n",
    "Você é um gerente de vendas que trabalha para a ComplAI. Você usa as ferramentas dadas a você para gerar e-mails de vendas frios.\n",
    "Você nunca gera e-mails de vendas sozinho; você sempre usa as ferramentas.\n",
    "Você tenta todas as 3 ferramentas de agente de vendas pelo menos uma vez antes de escolher a melhor.\n",
    "Você pode usar as ferramentas várias vezes se não estiver satisfeito com os resultados da primeira tentativa.\n",
    "Você seleciona o melhor e-mail usando seu próprio julgamento sobre qual e-mail será mais eficaz.\n",
    "Após escolher o e-mail, você transfere o controle para o agente `Gerente de E-mail` para formatar e enviar o e-mail.\n",
    "Se a solicitação for para enviar para uma lista, especifique isso ao `Gerente de E-mail`.\n",
    "Elabore o texto em português do Brasil.\n",
    "\"\"\"\n",
    "\n",
    "sales_manager = Agent(\n",
    "    name=\"Gerente de Vendas\",\n",
    "    instructions=sales_manager_instructions,\n",
    "    tools=[tool1, tool2, tool3], # Ferramentas de geração de e-mails\n",
    "    handoffs=[emailer_agent], # Agora transfere para o Emailer Agent\n",
    "    model=\"gpt-4o-mini\"\n",
    ")"
   ]
  },
  {
   "cell_type": "code",
   "execution_count": 56,
   "metadata": {},
   "outputs": [
    {
     "name": "stdout",
     "output_type": "stream",
     "text": [
      "\n",
      "--- Cenário: Enviar um único e-mail ---\n",
      "Os e-mails foram enviados com sucesso para os três prospects:\n",
      "\n",
      "1. **William Gmail**: (williamlapa40@gmail.com) - E-mail de vendas com assunto \"Transforme sua Conformidade SOC2 com a ComplAI\".\n",
      "2. **William Hotmail**: (williamlapa@hotmail.com) - E-mail divertido com assunto \"Vamos tornar a Compliance mais divertida? 🎉\".\n",
      "3. **William RFB**: (william.lapa-filho@rfb.gov.br) - E-mail sobre potencial colaboração em Compliance com o assunto \"Potencial Colaboração em Compliance de SOC2\".\n",
      "\n",
      "Se precisar de mais alguma coisa, estarei à disposição!\n",
      "\n",
      "--- Cenário: Enviar e-mail para uma lista de prospects (Mail Merge) ---\n",
      "O e-mail foi preparado e transferido para o Gerente de Mesclagem de Correspondência. Ele irá cuidar do envio para a lista de prospects. Se precisar de mais alguma coisa, é só avisar!\n"
     ]
    }
   ],
   "source": [
    "# --- Teste do Novo Fluxo de Trabalho ---\n",
    "\n",
    "async def run_scenario_single_email():\n",
    "    print(\"\\n--- Cenário: Enviar um único e-mail ---\")\n",
    "    message = \"Envie um e-mail de vendas frio para William Lapa da remetente Alice.\"\n",
    "    with trace(\"SDR Automatizado (E-mail Único)\"):\n",
    "        result = await Runner.run(sales_manager, message)\n",
    "    print(result.final_output)\n",
    "\n",
    "async def run_scenario_mail_merge():\n",
    "    print(\"\\n--- Cenário: Enviar e-mail para uma lista de prospects (Mail Merge) ---\")\n",
    "    # A mensagem precisa ser clara o suficiente para o Sales Manager entender que é uma lista\n",
    "    message = \"Envie um e-mail de vendas frio para uma lista de prospects, o e-mail deve ser sobre a ComplAI, da remetente Alice.\"\n",
    "    with trace(\"SDR Automatizado (Mail Merge)\"):\n",
    "        result = await Runner.run(sales_manager, message)\n",
    "    print(result.final_output)\n",
    "\n",
    "# Executar os cenários\n",
    "async def main():\n",
    "    await run_scenario_single_email()\n",
    "    await run_scenario_mail_merge()\n",
    "\n",
    "# Descomente para executar o main()\n",
    "await main()"
   ]
  },
  {
   "cell_type": "code",
   "execution_count": 58,
   "metadata": {},
   "outputs": [
    {
     "name": "stdout",
     "output_type": "stream",
     "text": [
      "RunResult:\n",
      "- Last agent: Agent(name=\"Email Manager\", ...)\n",
      "- Final output (str):\n",
      "    O e-mail foi enviado com sucesso para o William Lapa! Se precisar de mais alguma coisa, estou à disposição.\n",
      "- 16 new item(s)\n",
      "- 5 raw response(s)\n",
      "- 0 input guardrail result(s)\n",
      "- 0 output guardrail result(s)\n",
      "(See `RunResult` for more details)\n"
     ]
    }
   ],
   "source": [
    "print(result)"
   ]
  }
 ],
 "metadata": {
  "kernelspec": {
   "display_name": ".venv",
   "language": "python",
   "name": "python3"
  },
  "language_info": {
   "codemirror_mode": {
    "name": "ipython",
    "version": 3
   },
   "file_extension": ".py",
   "mimetype": "text/x-python",
   "name": "python",
   "nbconvert_exporter": "python",
   "pygments_lexer": "ipython3",
   "version": "3.12.0"
  }
 },
 "nbformat": 4,
 "nbformat_minor": 2
}
